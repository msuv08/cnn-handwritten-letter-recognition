{
 "cells": [
  {
   "cell_type": "markdown",
   "id": "2f0ac874",
   "metadata": {},
   "source": [
    "# CS 342 Final Project - Letter Recognition CNN\n",
    "\n",
    "#### Mrityunjay Mishra, Mihir Suvarna, Daniel Sialm"
   ]
  },
  {
   "cell_type": "markdown",
   "id": "8e28bcd4",
   "metadata": {},
   "source": [
    "## Project Description\n",
    "\n",
    "This project aims to create a convolutional neural network (CNN) for the task of letter recognition. The task of letter recognition, or more generally speaking, text recognition (also known as optical character recognition, or OCR) has gained much importance in recent years due to emerging applications. For example, OCR software can be used to convert handwritten text into digital text and robots use cameras to read signs in their environment. Due to the increasing importance of the task of text recognition, we aim to create a robust CNN that is able to correctly classify handwritten and digital letters. "
   ]
  },
  {
   "cell_type": "code",
   "execution_count": 1,
   "id": "75da0fed",
   "metadata": {},
   "outputs": [],
   "source": [
    "# Standard imports\n",
    "import torch\n",
    "from torch import nn\n",
    "import numpy as np\n",
    "\n",
    "%matplotlib inline\n",
    "import matplotlib.pyplot as plt"
   ]
  },
  {
   "cell_type": "markdown",
   "id": "b1977be9",
   "metadata": {},
   "source": [
    "## Dataset"
   ]
  },
  {
   "cell_type": "code",
   "execution_count": 67,
   "id": "65c076b1",
   "metadata": {},
   "outputs": [
    {
     "name": "stdout",
     "output_type": "stream",
     "text": [
      "Dataset EMNIST\n",
      "    Number of datapoints: 124800\n",
      "    Root location: letterEMNIST\n",
      "    Split: Train\n",
      "    StandardTransform\n",
      "Transform: ToTensor()\n",
      "Dataset EMNIST\n",
      "    Number of datapoints: 20800\n",
      "    Root location: letterEMNIST\n",
      "    Split: Test\n",
      "    StandardTransform\n",
      "Transform: ToTensor()\n"
     ]
    }
   ],
   "source": [
    "from torchvision import datasets, transforms\n",
    "\n",
    "save_dir = 'letterEMNIST'\n",
    "\n",
    "transform = transforms.ToTensor() # Convert the image into a torch tensor.\n",
    "\n",
    "train_set = datasets.EMNIST(save_dir, split=\"letters\", download=True, train=True, transform=transform)\n",
    "test_set = datasets.EMNIST(save_dir, split=\"letters\", download=True, train=False, transform=transform)\n",
    "\n",
    "print(train_set)\n",
    "print(test_set)"
   ]
  },
  {
   "cell_type": "code",
   "execution_count": 70,
   "id": "1cc0f048",
   "metadata": {},
   "outputs": [
    {
     "name": "stdout",
     "output_type": "stream",
     "text": [
      "54000 6000\n"
     ]
    }
   ],
   "source": [
    "from torch.utils.data.sampler import SubsetRandomSampler\n",
    "ntotal = 60000\n",
    "ntrain = int(0.9*ntotal)\n",
    "nval = ntotal - ntrain\n",
    "\n",
    "val_ix = np.random.choice(range(ntotal), size=nval, replace=False)\n",
    "train_ix = list(set(range(ntotal)) - set(val_ix))\n",
    "print(len(train_ix), len(val_ix))\n",
    "\n",
    "train_sampler = SubsetRandomSampler(train_ix)\n",
    "val_sampler = SubsetRandomSampler(val_ix)"
   ]
  },
  {
   "cell_type": "code",
   "execution_count": 73,
   "id": "c1c36234",
   "metadata": {},
   "outputs": [],
   "source": [
    "# initialize the data sets\n",
    "batch_size = 64\n",
    "train_loader = torch.utils.data.DataLoader(train_set, batch_size=batch_size, sampler=train_sampler)\n",
    "val_loader = torch.utils.data.DataLoader(train_set, batch_size=batch_size, sampler=val_sampler)\n",
    "test_loader = torch.utils.data.DataLoader(test_set, batch_size=batch_size)"
   ]
  },
  {
   "cell_type": "code",
   "execution_count": 27,
   "id": "bc5266dd",
   "metadata": {
    "scrolled": true
   },
   "outputs": [
    {
     "name": "stdout",
     "output_type": "stream",
     "text": [
      "['N/A', 'a', 'b', 'c', 'd', 'e', 'f', 'g', 'h', 'i', 'j', 'k', 'l', 'm', 'n', 'o', 'p', 'q', 'r', 's', 't', 'u', 'v', 'w', 'x', 'y', 'z']\n",
      "Label: w\n"
     ]
    },
    {
     "data": {
      "image/png": "[encoded data removed]",
      "text/plain": [
       "<Figure size 432x288 with 1 Axes>"
      ]
     },
     "metadata": {
      "needs_background": "light"
     },
     "output_type": "display_data"
    }
   ],
   "source": [
    "# print classes\n",
    "print(train_set.classes)\n",
    "classes = train_set.classes\n",
    "# print label\n",
    "index = 0\n",
    "plt.imshow(train_set.data[index].T, cmap='Greys_r')\n",
    "print(\"Label: %s\" % train_set.classes[train_set.targets[index]])"
   ]
  },
  {
   "cell_type": "markdown",
   "id": "8840579b",
   "metadata": {},
   "source": [
    "## Create the CNN"
   ]
  },
  {
   "cell_type": "code",
   "execution_count": 121,
   "id": "993f0bf4",
   "metadata": {},
   "outputs": [
    {
     "name": "stdout",
     "output_type": "stream",
     "text": [
      "{'a': 1, 'b': 2, 'c': 3, 'd': 4, 'e': 5, 'f': 6, 'g': 7, 'h': 8, 'i': 9, 'j': 10, 'k': 11, 'l': 12, 'm': 13, 'n': 14, 'o': 15, 'p': 16, 'q': 17, 'r': 18, 's': 19, 't': 20, 'u': 21, 'v': 22, 'w': 23, 'x': 24, 'y': 25, 'z': 26}\n"
     ]
    }
   ],
   "source": [
    "letter_to_label = dict()\n",
    "letters = ['a', 'b', 'c', 'd', 'e', 'f', 'g', 'h', 'i', 'j', 'k', 'l', 'm', 'n', 'o', 'p', 'q', 'r', 's', 't', 'u', 'v', 'w', 'x', 'y', 'z']\n",
    "l = 1\n",
    "for letter in letters:\n",
    "    letter_to_label[letter] = l\n",
    "    l += 1\n",
    "print(letter_to_label)"
   ]
  },
  {
   "cell_type": "code",
   "execution_count": 137,
   "id": "38e112d2",
   "metadata": {},
   "outputs": [
    {
     "name": "stdout",
     "output_type": "stream",
     "text": [
      "torch.Size([34138, 1, 28, 28])\n",
      "(34138,)\n"
     ]
    }
   ],
   "source": [
    "# making a dataset of our data\n",
    "import os\n",
    "import shutil\n",
    "import glob\n",
    "\n",
    "from PIL import Image\n",
    "import torchvision.transforms as transforms\n",
    "\n",
    "transform = transforms.ToTensor()\n",
    "\n",
    "src_dir = 'cropped_images'\n",
    "imgs = []\n",
    "labels = []\n",
    "for f in glob.glob(os.path.join(src_dir, '*.png')):\n",
    "    ftitle, fext = os.path.splitext(os.path.basename(f))\n",
    "    letter = ftitle.split(\"_\")[1].lower()\n",
    "    labels.append( letter_to_label[letter] )\n",
    "    im = Image.open(f).convert('L')\n",
    "    imgs.append(transform(im).detach().numpy())\n",
    "data = torch.tensor(imgs)\n",
    "labels = np.array(labels)\n",
    "\n",
    "# labels = []\n",
    "# for i in range(13):\n",
    "#     labels.append( [1] * 101 ) # a\n",
    "#     labels.append( [2] * 101 ) # b\n",
    "#     labels.append( [3] * 101 ) # c\n",
    "#     labels.append( [4] * 101 ) # d\n",
    "#     labels.append( [5] * 101 ) # e\n",
    "#     labels.append( [6] * 101 ) # f\n",
    "#     labels.append( [7] * 101 ) # g\n",
    "#     labels.append( [8] * 101 ) # h\n",
    "#     labels.append( [9] * 101 ) # i\n",
    "#     labels.append( [10] * 101 ) # j\n",
    "#     labels.append( [11] * 101 ) # k\n",
    "#     labels.append( [12] * 101 ) # l\n",
    "#     labels.append( [13] * 101 ) # m\n",
    "#     labels.append( [14] * 101 ) # n\n",
    "#     labels.append( [15] * 101 ) # o\n",
    "#     labels.append( [16] * 101 ) # p\n",
    "#     labels.append( [17] * 101 ) # q\n",
    "#     labels.append( [18] * 101 ) # r\n",
    "#     labels.append( [19] * 101 ) # s\n",
    "#     labels.append( [20] * 101 ) # t\n",
    "#     labels.append( [21] * 101 ) # u\n",
    "#     labels.append( [22] * 101 ) # v\n",
    "#     labels.append( [23] * 101 ) # w\n",
    "#     labels.append( [24] * 101 ) # x\n",
    "#     labels.append( [25] * 101 ) # y\n",
    "#     labels.append( [26] * 101 ) # z\n",
    "\n",
    "# labels = np.array(labels).flatten()\n",
    "# labels = torch.tensor(np.array(labels).flatten())\n",
    "\n",
    "print(data.shape)\n",
    "print(labels.shape)\n",
    "\n",
    "# train_dataset = torch.utils.data.TensorDataset(torch.tensor(imgs), torch.tensor(labels))\n",
    "# data_loader = torch.utils.data.DataLoader(train_dataset, batch_size=64, shuffle=True)"
   ]
  },
  {
   "cell_type": "code",
   "execution_count": 138,
   "id": "7404106e",
   "metadata": {},
   "outputs": [],
   "source": [
    "# shuffling the data\n",
    "indices = torch.randperm(data.shape[0])\n",
    "data = data[indices]\n",
    "labels = labels[indices]\n",
    "labels = torch.tensor(labels)\n",
    "\n",
    "train_dataset = torch.utils.data.TensorDataset(data[0:23897], labels[0:23897])\n",
    "val_dataset = torch.utils.data.TensorDataset(data[23897:30724], labels[23897:30724])\n",
    "test_dataset = torch.utils.data.TensorDataset(data[30724:34138], labels[30724:34138])\n",
    "train_loader = torch.utils.data.DataLoader(train_dataset, batch_size=64)\n",
    "val_loader = torch.utils.data.DataLoader(train_dataset, batch_size=64)\n",
    "test_loader = torch.utils.data.DataLoader(train_dataset, batch_size=64)"
   ]
  },
  {
   "cell_type": "code",
   "execution_count": 139,
   "id": "d2ea3f8a",
   "metadata": {},
   "outputs": [
    {
     "name": "stdout",
     "output_type": "stream",
     "text": [
      "Label: tensor(13)\n"
     ]
    },
    {
     "data": {
      "image/png": "[encoded data removed]",
      "text/plain": [
       "<Figure size 432x288 with 1 Axes>"
      ]
     },
     "metadata": {
      "needs_background": "light"
     },
     "output_type": "display_data"
    }
   ],
   "source": [
    "plt.imshow(data[1600].squeeze(), cmap='Greys_r')\n",
    "print(\"Label: %s\" % labels[1600])"
   ]
  },
  {
   "cell_type": "code",
   "execution_count": 140,
   "id": "86d642d9",
   "metadata": {},
   "outputs": [],
   "source": [
    "# inputs are 28x28\n",
    "\n",
    "class letterCNN(nn.Module):\n",
    "    def __init__(self, classes):\n",
    "        super().__init__()\n",
    "        self.classes = classes\n",
    "        self.layers = nn.Sequential(\n",
    "            nn.Conv2d(in_channels=1, out_channels=8, kernel_size=(5,5), stride=1),\n",
    "            nn.MaxPool2d(kernel_size=(2,2), stride=2),\n",
    "            nn.ReLU(),\n",
    "            nn.Flatten(),\n",
    "            nn.Linear(1152, len(self.classes))\n",
    "        )\n",
    "            \n",
    "\n",
    "    def forward(self, x):\n",
    "        return self.layers(x)"
   ]
  },
  {
   "cell_type": "code",
   "execution_count": 141,
   "id": "82ab2a0d",
   "metadata": {},
   "outputs": [],
   "source": [
    "model = letterCNN(classes)\n",
    "criterion = nn.CrossEntropyLoss()\n",
    "optimizer = torch.optim.Adam(model.parameters(), lr=.0001)"
   ]
  },
  {
   "cell_type": "code",
   "execution_count": 142,
   "id": "a6cd8f78",
   "metadata": {},
   "outputs": [],
   "source": [
    "from tqdm.notebook import tqdm\n",
    "import torch.nn.functional as F\n",
    "\n",
    "def train_network(model, train_loader, val_loader, criterion, optimizer, nepoch=100):\n",
    "    try:\n",
    "        for epoch in tqdm(range(nepoch)):\n",
    "            print('EPOCH %d'%epoch)\n",
    "            total_loss = 0\n",
    "            count = 0\n",
    "            for inputs, labels in train_loader:\n",
    "                optimizer.zero_grad()\n",
    "                outputs = model(inputs)\n",
    "                loss = criterion(outputs, labels)\n",
    "                loss.backward()\n",
    "                optimizer.step()\n",
    "                total_loss += loss.item()\n",
    "                count += 1\n",
    "            print('{:>12s} {:>7.5f}'.format('Train loss:', total_loss/count))\n",
    "            with torch.no_grad():\n",
    "                total_loss = 0\n",
    "                count = 0\n",
    "                for inputs, labels in val_loader:\n",
    "                    outputs = model(inputs)\n",
    "                    loss = criterion(outputs, labels)\n",
    "                    total_loss += loss.item()\n",
    "                    count += 1\n",
    "                print('{:>12s} {:>7.5f}'.format('Val loss:', total_loss/count))\n",
    "            print()\n",
    "    except KeyboardInterrupt:\n",
    "        print('Exiting from training early')\n",
    "    return\n",
    "\n",
    "def test_network(model, test_loader):\n",
    "    correct = 0\n",
    "    total = 0\n",
    "    true, pred = [], []\n",
    "    with torch.no_grad():\n",
    "        for inputs, labels  in test_loader:\n",
    "            outputs = model(inputs)\n",
    "            predicted = torch.argmax(outputs, dim=1) # get predicted class label for each test example.\n",
    "            total += labels.size(0)\n",
    "            correct += (predicted == labels).sum().item()\n",
    "            true.append(labels)\n",
    "            pred.append(predicted)\n",
    "    acc = (100 * correct / total)\n",
    "    true = np.concatenate(true)\n",
    "    pred = np.concatenate(pred)\n",
    "    return acc, true, pred"
   ]
  },
  {
   "cell_type": "code",
   "execution_count": 143,
   "id": "3b96d278",
   "metadata": {},
   "outputs": [
    {
     "data": {
      "application/vnd.jupyter.widget-view+json": {
       "model_id": "db6f4921892042b49b3b7577f343adc4",
       "version_major": 2,
       "version_minor": 0
      },
      "text/plain": [
       "  0%|          | 0/10 [00:00<?, ?it/s]"
      ]
     },
     "metadata": {},
     "output_type": "display_data"
    },
    {
     "name": "stdout",
     "output_type": "stream",
     "text": [
      "EPOCH 0\n",
      " Train loss: 3.04064\n",
      "   Val loss: 2.65439\n",
      "\n",
      "EPOCH 1\n",
      " Train loss: 2.31027\n",
      "   Val loss: 2.03031\n",
      "\n",
      "EPOCH 2\n",
      " Train loss: 1.84759\n",
      "   Val loss: 1.68168\n",
      "\n",
      "EPOCH 3\n",
      " Train loss: 1.55903\n",
      "   Val loss: 1.44083\n",
      "\n",
      "EPOCH 4\n",
      " Train loss: 1.34875\n",
      "   Val loss: 1.25574\n",
      "\n",
      "EPOCH 5\n",
      " Train loss: 1.18011\n",
      "   Val loss: 1.10114\n",
      "\n",
      "EPOCH 6\n",
      " Train loss: 1.03582\n",
      "   Val loss: 0.96629\n",
      "\n",
      "EPOCH 7\n",
      " Train loss: 0.90862\n",
      "   Val loss: 0.84644\n",
      "\n",
      "EPOCH 8\n",
      " Train loss: 0.79489\n",
      "   Val loss: 0.73880\n",
      "\n",
      "EPOCH 9\n",
      " Train loss: 0.69237\n",
      "   Val loss: 0.64159\n",
      "\n"
     ]
    }
   ],
   "source": [
    "train_network(model, train_loader, val_loader, criterion, optimizer, nepoch=10)"
   ]
  },
  {
   "cell_type": "code",
   "execution_count": 144,
   "id": "494689c1",
   "metadata": {},
   "outputs": [
    {
     "name": "stdout",
     "output_type": "stream",
     "text": [
      "Test accuracy: 89.530\n"
     ]
    },
    {
     "data": {
      "text/plain": [
       "<matplotlib.colorbar.Colorbar at 0x7f78ddebdaf0>"
      ]
     },
     "execution_count": 144,
     "metadata": {},
     "output_type": "execute_result"
    },
    {
     "data": {
      "image/png": "[encoded data removed]",
      "text/plain": [
       "<Figure size 288x288 with 2 Axes>"
      ]
     },
     "metadata": {
      "needs_background": "light"
     },
     "output_type": "display_data"
    }
   ],
   "source": [
    "acc, true, pred = test_network(model, test_loader)\n",
    "print('Test accuracy: %0.3f' % acc)\n",
    "\n",
    "contingency = np.zeros((len(model.classes), len(model.classes)))\n",
    "for i in range(len(pred)):\n",
    "    contingency[int(pred[i])][int(true[i])] += 1\n",
    "\n",
    "plt.matshow(contingency)\n",
    "plt.xlabel(\"true\")\n",
    "plt.ylabel(\"predictions\")\n",
    "plt.colorbar()"
   ]
  },
  {
   "cell_type": "markdown",
   "id": "09a4aa03",
   "metadata": {},
   "source": [
    "## Visualizing Optimized Inputs"
   ]
  },
  {
   "cell_type": "code",
   "execution_count": 17,
   "id": "68965e5a",
   "metadata": {},
   "outputs": [],
   "source": [
    "class OptimizeInput(nn.Module):\n",
    "    def __init__(self, learned_model, input_shape=(1, 1, 28, 28)):\n",
    "        super().__init__()\n",
    "        self.learned_model = learned_model\n",
    "        self.optimized_input = torch.zeros(input_shape, requires_grad=True)\n",
    "        \n",
    "    def forward(self):\n",
    "        return self.learned_model(self.optimized_input)\n",
    "    \n",
    "    def parameters(self):\n",
    "        return [self.optimized_input]"
   ]
  },
  {
   "cell_type": "code",
   "execution_count": 24,
   "id": "cb3cce1a",
   "metadata": {},
   "outputs": [
    {
     "name": "stdout",
     "output_type": "stream",
     "text": [
      "finished N/A with 3.03184 loss\n",
      "finished a with 0.00216 loss\n",
      "finished b with 0.00142 loss\n",
      "finished c with 0.00112 loss\n",
      "finished d with 0.00128 loss\n",
      "finished e with 0.00272 loss\n",
      "finished f with 0.00080 loss\n",
      "finished g with 0.00213 loss\n",
      "finished h with 0.00089 loss\n",
      "finished i with 0.00159 loss\n",
      "finished j with 0.00028 loss\n",
      "finished k with 0.00096 loss\n",
      "finished l with 0.00040 loss\n",
      "finished m with 0.00185 loss\n",
      "finished n with 0.00201 loss\n",
      "finished o with 0.00407 loss\n",
      "finished p with 0.00109 loss\n",
      "finished q with 0.00141 loss\n",
      "finished r with 0.00184 loss\n",
      "finished s with 0.00102 loss\n",
      "finished t with 0.00053 loss\n",
      "finished u with 0.00170 loss\n",
      "finished v with 0.00159 loss\n",
      "finished w with 0.00119 loss\n",
      "finished x with 0.00165 loss\n",
      "finished y with 0.00051 loss\n",
      "finished z with 0.00088 loss\n"
     ]
    }
   ],
   "source": [
    "# Train OptimizeInput model, one for each letter\n",
    "targets = torch.arange(len(model.classes)).long()\n",
    "optimized_inputs = []\n",
    "\n",
    "n_epochs = 10000\n",
    "\n",
    "for t in targets:\n",
    "    input_model = OptimizeInput(model)\n",
    "    optimizer = torch.optim.Adam(input_model.parameters(), lr=.0001)\n",
    "    criterion = nn.CrossEntropyLoss()\n",
    "    for epoch in range(n_epochs):\n",
    "        optimizer.zero_grad()\n",
    "        outputs = input_model()\n",
    "        loss = criterion(outputs, t.reshape(1))\n",
    "        loss.backward()\n",
    "        optimizer.step()\n",
    "    print(\"finished %s with %0.5f loss\" % (model.classes[t], loss.item()))\n",
    "    optimized_inputs.append(input_model.optimized_input.detach().numpy().reshape((28, 28)))"
   ]
  },
  {
   "cell_type": "code",
   "execution_count": 25,
   "id": "9b14cf50",
   "metadata": {},
   "outputs": [
    {
     "name": "stdout",
     "output_type": "stream",
     "text": [
      "Expected: N/A. Predicted: j.\n",
      "Expected: a. Predicted: a.\n",
      "Expected: b. Predicted: b.\n",
      "Expected: c. Predicted: c.\n",
      "Expected: d. Predicted: d.\n",
      "Expected: e. Predicted: e.\n",
      "Expected: f. Predicted: f.\n",
      "Expected: g. Predicted: g.\n",
      "Expected: h. Predicted: h.\n",
      "Expected: i. Predicted: i.\n",
      "Expected: j. Predicted: j.\n",
      "Expected: k. Predicted: k.\n",
      "Expected: l. Predicted: l.\n",
      "Expected: m. Predicted: m.\n",
      "Expected: n. Predicted: n.\n",
      "Expected: o. Predicted: o.\n",
      "Expected: p. Predicted: p.\n",
      "Expected: q. Predicted: q.\n",
      "Expected: r. Predicted: r.\n",
      "Expected: s. Predicted: s.\n",
      "Expected: t. Predicted: t.\n",
      "Expected: u. Predicted: u.\n",
      "Expected: v. Predicted: v.\n",
      "Expected: w. Predicted: w.\n",
      "Expected: x. Predicted: x.\n",
      "Expected: y. Predicted: y.\n",
      "Expected: z. Predicted: z.\n"
     ]
    }
   ],
   "source": [
    "for i in range(len(model.classes)):\n",
    "    letter = model.classes[i]\n",
    "    tensor = torch.Tensor(optimized_inputs[i].reshape(1, 1, 28, 28))\n",
    "    output = model(tensor)\n",
    "    prob = output.squeeze().detach().numpy()\n",
    "    pred = model.classes[torch.argmax(output, dim=1)]\n",
    "    print(f\"Expected: {letter}. Predicted: {pred}.\")\n",
    "    \n",
    "#     plt.figure()\n",
    "#     plt.bar(range(len(model.classes)), np.exp(prob) / np.exp(prob).sum())\n",
    "#     plt.xticks(range(len(model.classes)), model.classes)"
   ]
  },
  {
   "cell_type": "code",
   "execution_count": 42,
   "id": "8be3ac67",
   "metadata": {},
   "outputs": [
    {
     "data": {
      "text/plain": [
       "<matplotlib.image.AxesImage at 0x7fa4d9cb2dc0>"
      ]
     },
     "execution_count": 42,
     "metadata": {},
     "output_type": "execute_result"
    },
    {
     "data": {
      "image/png": "[encoded data removed]",
      "text/plain": [
       "<Figure size 432x288 with 1 Axes>"
      ]
     },
     "metadata": {
      "needs_background": "light"
     },
     "output_type": "display_data"
    }
   ],
   "source": [
    "letter = 'j'\n",
    "letter_visualized = optimized_inputs[model.classes.index(letter)].T\n",
    "plt.imshow(letter_visualized, cmap='Greys_r')\n",
    "# letter_visualized = letter_visualized.flatten()\n",
    "# for i in range(28*28):\n",
    "#     letter_visualized[i] = 0 if letter_visualized[i] < 0 else 1  \n",
    "# plt.imshow(letter_visualized.reshape((28,28)), cmap='Greys_r')"
   ]
  },
  {
   "cell_type": "code",
   "execution_count": null,
   "id": "5bc6e3a3",
   "metadata": {},
   "outputs": [],
   "source": []
  }
 ],
 "metadata": {
  "kernelspec": {
   "display_name": "Python 3 (ipykernel)",
   "language": "python",
   "name": "python3"
  },
  "language_info": {
   "codemirror_mode": {
    "name": "ipython",
    "version": 3
   },
   "file_extension": ".py",
   "mimetype": "text/x-python",
   "name": "python",
   "nbconvert_exporter": "python",
   "pygments_lexer": "ipython3",
   "version": "3.9.7"
  }
 },
 "nbformat": 4,
 "nbformat_minor": 5
}
