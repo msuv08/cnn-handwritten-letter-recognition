{
 "cells": [
  {
   "cell_type": "markdown",
   "id": "21f69704",
   "metadata": {},
   "source": [
    "# CS 342 Final Project - Letter Recognition CNN"
   ]
  },
  {
   "cell_type": "markdown",
   "id": "d1664c6b",
   "metadata": {},
   "source": [
    "Mrityunjay Mishra (eid: mm94424), Mihir Suvarna (eid: mms5776), Daniel Sialm (eid: dhs833)"
   ]
  },
  {
   "cell_type": "markdown",
   "id": "f55a6548",
   "metadata": {},
   "source": [
    "## Project Description\n",
    "\n",
    "This project aims to create a convolutional neural network (CNN) for the task of letter recognition. The task of letter recognition, or more generally speaking, text recognition (also known as optical character recognition, or OCR) has gained much importance in recent years due to emerging applications. For example, OCR software can be used to convert handwritten text into digital text and robots use cameras to read signs in their environment. Letter recognition is a subtask of text recognition with wide applications as well - iPhones use letter recognition to convert handwritten characters to text. Due to the increasing importance of these tasks, we aim to create a robust CNN that is able to correctly classify handwritten and digital letters."
   ]
  },
  {
   "cell_type": "code",
   "execution_count": 1,
   "id": "75da0fed",
   "metadata": {},
   "outputs": [],
   "source": [
    "# Run these two blocks to load important libraries and set things up\n",
    "from letter_recognition_functions import *\n",
    "from ttf_to_png import *\n",
    "%matplotlib inline"
   ]
  },
  {
   "cell_type": "markdown",
   "id": "b1977be9",
   "metadata": {},
   "source": [
    "## Dataset"
   ]
  },
  {
   "cell_type": "markdown",
   "id": "1d7c98fb",
   "metadata": {},
   "source": [
    "We collected handwritten letters from 23 students, each of whom wrote the alphabet 10 times. This gave us about 6K data points to train and test our model."
   ]
  },
  {
   "cell_type": "code",
   "execution_count": 2,
   "id": "3894a12d",
   "metadata": {},
   "outputs": [
    {
     "name": "stdout",
     "output_type": "stream",
     "text": [
      "{'N/A': 0, 'a': 1, 'b': 2, 'c': 3, 'd': 4, 'e': 5, 'f': 6, 'g': 7, 'h': 8, 'i': 9, 'j': 10, 'k': 11, 'l': 12, 'm': 13, 'n': 14, 'o': 15, 'p': 16, 'q': 17, 'r': 18, 's': 19, 't': 20, 'u': 21, 'v': 22, 'w': 23, 'x': 24, 'y': 25, 'z': 26}\n"
     ]
    }
   ],
   "source": [
    "letter_to_label = dict()\n",
    "classes = ['N/A', 'a', 'b', 'c', 'd', 'e', 'f', 'g', 'h', 'i', 'j', 'k', 'l', 'm', 'n', 'o', 'p', 'q', 'r', 's', 't', 'u', 'v', 'w', 'x', 'y', 'z']\n",
    "for i in range(len(classes)):\n",
    "    letter_to_label[classes[i]] = i\n",
    "print(letter_to_label)"
   ]
  },
  {
   "cell_type": "code",
   "execution_count": 40,
   "id": "600d7ce7",
   "metadata": {},
   "outputs": [
    {
     "name": "stdout",
     "output_type": "stream",
     "text": [
      "Processed P18-Regular.ttf\n",
      "Processed P0-Regular.ttf\n",
      "Processed P11-Regular.ttf\n",
      "Processed P9-Regular.ttf\n",
      "Processed P23-Regular.ttf\n",
      "Processed P14-Regular.ttf\n",
      "Processed P5-Regular.ttf\n",
      "Processed P6-Regular.ttf\n",
      "Processed P17-Regular.ttf\n",
      "Processed P20-Regular.ttf\n",
      "Processed P12-Regular.ttf\n",
      "Processed P3-Regular.ttf\n",
      "Processed P4-Regular.ttf\n",
      "Processed P15-Regular.ttf\n",
      "Processed P22-Regular.ttf\n",
      "Processed P10-Regular.ttf\n",
      "Processed P8-Regular.ttf\n",
      "Processed P19-Regular.ttf\n",
      "Processed P1-Regular.ttf\n",
      "Processed P2-Regular.ttf\n",
      "Processed P13-Regular.ttf\n",
      "Processed P21-Regular.ttf\n",
      "Processed P16-Regular.ttf\n",
      "Processed P7-Regular.ttf\n"
     ]
    }
   ],
   "source": [
    "src_dir = 'data/collected_ttfs'\n",
    "dst_dir = 'data/collected_letters_pngs'\n",
    "num_ttfs = convert_ttf(src_dir, dst_dir)"
   ]
  },
  {
   "cell_type": "code",
   "execution_count": 41,
   "id": "06d182b2",
   "metadata": {},
   "outputs": [],
   "source": [
    "src_dir = 'data/collected_letters_pngs'\n",
    "transform = transforms.ToTensor()\n",
    "\n",
    "num_train = int(0.7 * num_ttfs)\n",
    "num_val = (num_ttfs - num_train) // 2\n",
    "\n",
    "imgs_train = []\n",
    "imgs_val = []\n",
    "imgs_test = []\n",
    "labels_train = []\n",
    "labels_val = []\n",
    "labels_test = []\n",
    "for f in glob.glob(os.path.join(src_dir, '*.png')):\n",
    "    ftitle, fext = os.path.splitext(os.path.basename(f))\n",
    "    letter = ftitle.split(\"_\")[1]\n",
    "    # gets which person wrote this font\n",
    "    p_val = int(ftitle.split(\"_\")[0].split(\"-\")[0][1:])\n",
    "    im = Image.open(f).convert('L')\n",
    "    \n",
    "    if p_val <= num_train:\n",
    "        imgs_train += transform(im).detach().tolist()\n",
    "        labels_train.append(letter_to_label[letter])\n",
    "    elif p_val <= num_train + num_val:\n",
    "        imgs_val += transform(im).detach().tolist()\n",
    "        labels_val.append(letter_to_label[letter])\n",
    "    else:\n",
    "        imgs_test += transform(im).detach().tolist()\n",
    "        labels_test.append(letter_to_label[letter])"
   ]
  },
  {
   "cell_type": "code",
   "execution_count": 42,
   "id": "1a4ba3b7",
   "metadata": {},
   "outputs": [],
   "source": [
    "train_loader_collected = create_loader(imgs_train, labels_train)\n",
    "val_loader_collected = create_loader(imgs_val, labels_val)\n",
    "test_loader_collected = create_loader(imgs_test, labels_test)"
   ]
  },
  {
   "cell_type": "code",
   "execution_count": 43,
   "id": "feffc6c0",
   "metadata": {},
   "outputs": [
    {
     "name": "stdout",
     "output_type": "stream",
     "text": [
      "Label: s\n"
     ]
    },
    {
     "data": {
      "image/png": "[encoded data removed]",
      "text/plain": [
       "<Figure size 432x288 with 1 Axes>"
      ]
     },
     "metadata": {
      "needs_background": "light"
     },
     "output_type": "display_data"
    }
   ],
   "source": [
    "# Visualization for our collected dataset\n",
    "img, label = get_input(train_loader_collected)\n",
    "plt.imshow(img.reshape((28, 28)), cmap='Greys_r')\n",
    "print(\"Label: %s\" % classes[label])"
   ]
  },
  {
   "cell_type": "markdown",
   "id": "d2599f8d",
   "metadata": {},
   "source": [
    "## Defining a basic LetterCNN"
   ]
  },
  {
   "cell_type": "markdown",
   "id": "d6ed8e2c",
   "metadata": {},
   "source": [
    "We define a basic CNN with 1 convolutional layer, 1 MaxPool layer, a ReLU activation and finally a fully connected layer for our model. This model will be used throughout our prelimenary expriments (i.e. before our computational experiments)."
   ]
  },
  {
   "cell_type": "code",
   "execution_count": 44,
   "id": "52067f62",
   "metadata": {},
   "outputs": [],
   "source": [
    "class letterCNN(nn.Module):\n",
    "    def __init__(self, classes):\n",
    "        super().__init__()\n",
    "        self.classes = classes\n",
    "        self.layers = nn.Sequential(\n",
    "            nn.Conv2d(in_channels=1, out_channels=8, kernel_size=(5,5), stride=1),\n",
    "            nn.MaxPool2d(kernel_size=(2,2), stride=2),\n",
    "            nn.ReLU(),\n",
    "            nn.Flatten(),\n",
    "            nn.Linear(1152, len(self.classes))\n",
    "        )\n",
    "            \n",
    "    def forward(self, x):\n",
    "        output = self.layers(x)\n",
    "        return output"
   ]
  },
  {
   "cell_type": "markdown",
   "id": "c58a7299",
   "metadata": {},
   "source": [
    "## Testing the basic LetterCNN"
   ]
  },
  {
   "cell_type": "code",
   "execution_count": 45,
   "id": "1ca49e77",
   "metadata": {},
   "outputs": [
    {
     "data": {
      "application/vnd.jupyter.widget-view+json": {
       "model_id": "74c64328f4ed4a29ae9b16a01058b570",
       "version_major": 2,
       "version_minor": 0
      },
      "text/plain": [
       "  0%|          | 0/10 [00:00<?, ?it/s]"
      ]
     },
     "metadata": {},
     "output_type": "display_data"
    },
    {
     "name": "stdout",
     "output_type": "stream",
     "text": [
      "EPOCH 0\n",
      " Train loss: 3.25055\n",
      "   Val loss: 3.13403\n",
      "\n",
      "EPOCH 1\n",
      " Train loss: 2.98430\n",
      "   Val loss: 2.89094\n",
      "\n",
      "EPOCH 2\n",
      " Train loss: 2.61690\n",
      "   Val loss: 2.63182\n",
      "\n",
      "EPOCH 3\n",
      " Train loss: 2.22144\n",
      "   Val loss: 2.35645\n",
      "\n",
      "EPOCH 4\n",
      " Train loss: 1.90629\n",
      "   Val loss: 2.13534\n",
      "\n",
      "EPOCH 5\n",
      " Train loss: 1.66781\n",
      "   Val loss: 2.13455\n",
      "\n",
      "EPOCH 6\n",
      " Train loss: 1.50729\n",
      "   Val loss: 2.06651\n",
      "\n",
      "EPOCH 7\n",
      " Train loss: 1.39178\n",
      "   Val loss: 2.00800\n",
      "\n",
      "EPOCH 8\n",
      " Train loss: 1.29860\n",
      "   Val loss: 2.07046\n",
      "\n",
      "EPOCH 9\n",
      " Train loss: 1.22753\n",
      "   Val loss: 1.96096\n",
      "\n"
     ]
    }
   ],
   "source": [
    "basic_model_collected = letterCNN(classes)\n",
    "criterion = nn.CrossEntropyLoss()\n",
    "optimizer = torch.optim.Adam(basic_model_collected.parameters(), lr=1e-3)\n",
    "train_network(basic_model_collected, train_loader_collected, val_loader_collected, criterion, optimizer, nepoch=10)"
   ]
  },
  {
   "cell_type": "code",
   "execution_count": 46,
   "id": "efb36f26",
   "metadata": {},
   "outputs": [
    {
     "name": "stdout",
     "output_type": "stream",
     "text": [
      "Test accuracy: 46.154\n"
     ]
    },
    {
     "data": {
      "image/png": "[encoded data removed]",
      "text/plain": [
       "<Figure size 288x288 with 2 Axes>"
      ]
     },
     "metadata": {
      "needs_background": "light"
     },
     "output_type": "display_data"
    }
   ],
   "source": [
    "acc, true, pred = test_network(basic_model_collected, test_loader_collected)\n",
    "print('Test accuracy: %0.3f' % acc)\n",
    "\n",
    "display_contingency_matrix(len(basic_model_collected.classes), pred, true)"
   ]
  },
  {
   "cell_type": "markdown",
   "id": "dd60841e",
   "metadata": {},
   "source": [
    "We see quite a bit of overfitting (since the validation loss is not converging and, in fact, even increasing). This naturally causes our accuracy to be quite low. While this accuracy is still quite good - $48.718 / (1 / 26) = 12.67$ times increase in accuracy from just taking a random guess - we can still do better. The reason for this poor performance is because only a few people's data was obtained. This causes our model to be biased towards the the handwriting of a few people and prevents it from generalizing well. Thus, we will combine our dataset with the EMNIST dataset to create a better model."
   ]
  },
  {
   "cell_type": "markdown",
   "id": "89d0599f",
   "metadata": {},
   "source": [
    "## EMNIST Dataset"
   ]
  },
  {
   "cell_type": "code",
   "execution_count": 47,
   "id": "65c076b1",
   "metadata": {},
   "outputs": [
    {
     "name": "stdout",
     "output_type": "stream",
     "text": [
      "Dataset EMNIST\n",
      "    Number of datapoints: 124800\n",
      "    Root location: EMNIST\n",
      "    Split: Train\n",
      "    StandardTransform\n",
      "Transform: ToTensor()\n",
      "Dataset EMNIST\n",
      "    Number of datapoints: 20800\n",
      "    Root location: EMNIST\n",
      "    Split: Test\n",
      "    StandardTransform\n",
      "Transform: ToTensor()\n"
     ]
    }
   ],
   "source": [
    "# Download the EMNIST dataset and load it as tensors\n",
    "from torchvision import datasets, transforms\n",
    "\n",
    "save_dir = 'EMNIST'\n",
    "\n",
    "transform = transforms.ToTensor() # Convert the image into a torch tensor.\n",
    "\n",
    "train_set = datasets.EMNIST(save_dir, split=\"letters\", download=True, train=True, transform=transform)\n",
    "test_set = datasets.EMNIST(save_dir, split=\"letters\", download=True, train=False, transform=transform)\n",
    "\n",
    "print(train_set)\n",
    "print(test_set)"
   ]
  },
  {
   "cell_type": "code",
   "execution_count": 48,
   "id": "1cc0f048",
   "metadata": {},
   "outputs": [],
   "source": [
    "# Create samplers for the training and validation sets\n",
    "from torch.utils.data.sampler import SubsetRandomSampler\n",
    "\n",
    "ncollected = len(train_loader_collected + val_loader_collected) * train_loader.collected.batch_size\n",
    "\n",
    "ntotal = 60000\n",
    "ntrain = int(0.70*ntotal)\n",
    "nval = ntotal - ntrain\n",
    "\n",
    "val_ix = np.random.choice(range(ntotal), size=nval, replace=False)\n",
    "train_ix = list(set(range(ntotal)) - set(val_ix))\n",
    "\n",
    "train_sampler = SubsetRandomSampler(train_ix)\n",
    "val_sampler = SubsetRandomSampler(val_ix)"
   ]
  },
  {
   "cell_type": "code",
   "execution_count": 49,
   "id": "c1c36234",
   "metadata": {},
   "outputs": [],
   "source": [
    "# initialize the data sets\n",
    "batch_size = 64\n",
    "train_loader = torch.utils.data.DataLoader(train_set, batch_size=batch_size, sampler=train_sampler)\n",
    "val_loader = torch.utils.data.DataLoader(train_set, batch_size=batch_size, sampler=val_sampler)\n",
    "test_loader = torch.utils.data.DataLoader(test_set, batch_size=batch_size)"
   ]
  },
  {
   "cell_type": "code",
   "execution_count": 77,
   "id": "96903a3a",
   "metadata": {},
   "outputs": [
    {
     "ename": "AttributeError",
     "evalue": "'DataLoader' object has no attribute 'collected'",
     "output_type": "error",
     "traceback": [
      "\u001b[0;31m---------------------------------------------------------------------------\u001b[0m",
      "\u001b[0;31mAttributeError\u001b[0m                            Traceback (most recent call last)",
      "\u001b[0;32m/var/folders/k7/zz5h09l90lz91rrnxkcsyfv00000gn/T/ipykernel_99802/863942695.py\u001b[0m in \u001b[0;36m<module>\u001b[0;34m\u001b[0m\n\u001b[0;32m----> 1\u001b[0;31m \u001b[0mncollected\u001b[0m \u001b[0;34m=\u001b[0m \u001b[0mlen\u001b[0m\u001b[0;34m(\u001b[0m\u001b[0mtrain_loader_collected\u001b[0m\u001b[0;34m)\u001b[0m \u001b[0;34m+\u001b[0m \u001b[0mlen\u001b[0m\u001b[0;34m(\u001b[0m\u001b[0mval_loader_collected\u001b[0m\u001b[0;34m)\u001b[0m \u001b[0;34m*\u001b[0m \u001b[0mtrain_loader\u001b[0m\u001b[0;34m.\u001b[0m\u001b[0mcollected\u001b[0m\u001b[0;34m.\u001b[0m\u001b[0mbatch_size\u001b[0m\u001b[0;34m\u001b[0m\u001b[0;34m\u001b[0m\u001b[0m\n\u001b[0m\u001b[1;32m      2\u001b[0m \u001b[0mprint\u001b[0m\u001b[0;34m(\u001b[0m\u001b[0mlen\u001b[0m\u001b[0;34m(\u001b[0m\u001b[0mtrain_loader\u001b[0m\u001b[0;34m)\u001b[0m \u001b[0;34m*\u001b[0m \u001b[0;36m64\u001b[0m\u001b[0;34m)\u001b[0m\u001b[0;34m\u001b[0m\u001b[0;34m\u001b[0m\u001b[0m\n\u001b[1;32m      3\u001b[0m \u001b[0mprint\u001b[0m\u001b[0;34m(\u001b[0m\u001b[0mlen\u001b[0m\u001b[0;34m(\u001b[0m\u001b[0mval_loader\u001b[0m\u001b[0;34m)\u001b[0m \u001b[0;34m*\u001b[0m \u001b[0;36m64\u001b[0m\u001b[0;34m)\u001b[0m\u001b[0;34m\u001b[0m\u001b[0;34m\u001b[0m\u001b[0m\n\u001b[1;32m      4\u001b[0m \u001b[0mprint\u001b[0m\u001b[0;34m(\u001b[0m\u001b[0mlen\u001b[0m\u001b[0;34m(\u001b[0m\u001b[0mtest_loader\u001b[0m\u001b[0;34m)\u001b[0m \u001b[0;34m*\u001b[0m \u001b[0;36m64\u001b[0m\u001b[0;34m)\u001b[0m\u001b[0;34m\u001b[0m\u001b[0;34m\u001b[0m\u001b[0m\n",
      "\u001b[0;31mAttributeError\u001b[0m: 'DataLoader' object has no attribute 'collected'"
     ]
    }
   ],
   "source": [
    "ncollected = len(train_loader_collected) + len(val_loader_collected) * train_loader.collected.batch_size\n",
    "print(len(train_loader) * 64)\n",
    "print(len(val_loader) * 64)\n",
    "print(len(test_loader) * 64)"
   ]
  },
  {
   "cell_type": "code",
   "execution_count": 50,
   "id": "bc5266dd",
   "metadata": {},
   "outputs": [
    {
     "name": "stdout",
     "output_type": "stream",
     "text": [
      "Label: m\n"
     ]
    },
    {
     "data": {
      "image/png": "[encoded data removed]",
      "text/plain": [
       "<Figure size 432x288 with 1 Axes>"
      ]
     },
     "metadata": {
      "needs_background": "light"
     },
     "output_type": "display_data"
    }
   ],
   "source": [
    "# Visualization EMNIST\n",
    "img, label = get_input(train_loader)\n",
    "# print label\n",
    "index = 0\n",
    "plt.imshow(img.reshape((28, 28)).T, cmap='Greys_r')\n",
    "print(\"Label: %s\" % classes[label])"
   ]
  },
  {
   "cell_type": "markdown",
   "id": "07941a2b",
   "metadata": {},
   "source": [
    "## Combining EMNIST with our Data"
   ]
  },
  {
   "cell_type": "code",
   "execution_count": 51,
   "id": "aacd79b3",
   "metadata": {},
   "outputs": [],
   "source": [
    "combined_train_loader = combine_loaders(train_loader, train_loader_collected, fromEMNIST=True)\n",
    "combined_val_loader = combine_loaders(val_loader, val_loader_collected, fromEMNIST=True)\n",
    "combined_test_loader = combine_loaders(test_loader, test_loader_collected, fromEMNIST=True)"
   ]
  },
  {
   "cell_type": "code",
   "execution_count": 52,
   "id": "09211f3e",
   "metadata": {},
   "outputs": [
    {
     "name": "stdout",
     "output_type": "stream",
     "text": [
      "Label: k\n"
     ]
    },
    {
     "data": {
      "image/png": "[encoded data removed]",
      "text/plain": [
       "<Figure size 432x288 with 1 Axes>"
      ]
     },
     "metadata": {
      "needs_background": "light"
     },
     "output_type": "display_data"
    }
   ],
   "source": [
    "# Verifying combined\n",
    "img, label = get_input(combined_test_loader)\n",
    "# print label\n",
    "index = 0\n",
    "plt.imshow(img.reshape((28, 28)), cmap='Greys_r')\n",
    "print(\"Label: %s\" % classes[label])"
   ]
  },
  {
   "cell_type": "markdown",
   "id": "fcb1e5d0",
   "metadata": {},
   "source": [
    "## Making a new LetterCNN on the Combined Dataset"
   ]
  },
  {
   "cell_type": "code",
   "execution_count": null,
   "id": "82ab2a0d",
   "metadata": {},
   "outputs": [],
   "source": [
    "basic_model = letterCNN(classes)\n",
    "criterion = nn.CrossEntropyLoss()\n",
    "optimizer = torch.optim.Adam(basic_model.parameters(), lr=1e-3)\n",
    "train_network(basic_model, combined_train_loader, combined_val_loader, criterion, optimizer, nepoch=10)"
   ]
  },
  {
   "cell_type": "code",
   "execution_count": null,
   "id": "494689c1",
   "metadata": {},
   "outputs": [],
   "source": [
    "acc, true, pred = test_network(basic_model, combined_test_loader)\n",
    "print('Test accuracy: %0.3f' % acc)\n",
    "\n",
    "display_contingency_matrix(len(basic_model.classes), pred, true)"
   ]
  },
  {
   "cell_type": "markdown",
   "id": "60d33042",
   "metadata": {},
   "source": [
    "We see immediate improvement in our results. The new model does not overfit (since the validation loss decreases) and generalizes quite well, giving us an accuracy of about 86%, an increase of about 79% in accuracy compared to our older model. This shows that our model works well if a good dataset is provided. "
   ]
  },
  {
   "cell_type": "markdown",
   "id": "2ba4a9d0",
   "metadata": {},
   "source": [
    "## Computational Experiment 1 - Regularization\n",
    "\n",
    "Our first set of computational experiments will deal with better regularization of our model in hopes of creating a more generalized model. "
   ]
  },
  {
   "cell_type": "markdown",
   "id": "93e55838",
   "metadata": {},
   "source": [
    "### 1a) Regularization through data augmentation - add digital fonts\n",
    "\n",
    "For this experiment, we add digital fonts to our dataset. Specifically, we take about 100 different fonts and add their characters to our dataset. We hypothesize that this will increase the accuracy of our model."
   ]
  },
  {
   "cell_type": "code",
   "execution_count": 53,
   "id": "fc6dbb21",
   "metadata": {},
   "outputs": [
    {
     "name": "stdout",
     "output_type": "stream",
     "text": [
      "Processed Georgia.ttf\n",
      "Processed Bodoni 72 Smallcaps Book.ttf\n",
      "Processed Silom.ttf\n",
      "Processed Bradley Hand Bold.ttf\n",
      "Ignored .DS_Store\n",
      "Processed AppleGothic.ttf\n",
      "Processed Trebuchet MS.ttf\n",
      "Processed Academy Engraved LET Fonts.ttf\n",
      "Processed Trattatello.ttf\n",
      "Processed BigCaslon.ttf\n",
      "Processed Lao Sangam MN.ttf\n",
      "Processed Luminari.ttf\n",
      "Processed Times New Roman.ttf\n",
      "Processed Brush Script.ttf\n"
     ]
    },
    {
     "name": "stderr",
     "output_type": "stream",
     "text": [
      "1 extra bytes in post.stringData array\n"
     ]
    },
    {
     "name": "stdout",
     "output_type": "stream",
     "text": [
      "Processed Chalkduster.ttf\n",
      "Processed Apple Chancery.ttf\n",
      "Processed AppleMyungjo.ttf\n",
      "Processed NotoSansCarian-Regular.ttf\n",
      "Processed Courier New.ttf\n",
      "Processed Skia.ttf\n",
      "Processed Impact.ttf\n",
      "Processed NotoSansElbasan-Regular.ttf\n",
      "Processed PartyLET-plain.ttf\n"
     ]
    },
    {
     "name": "stderr",
     "output_type": "stream",
     "text": [
      "1 extra bytes in post.stringData array\n"
     ]
    },
    {
     "name": "stdout",
     "output_type": "stream",
     "text": [
      "Processed Arial.ttf\n",
      "Processed Ayuthaya.ttf\n",
      "Processed Khmer Sangam MN.ttf\n",
      "Processed Comic Sans MS.ttf\n",
      "Processed DIN Alternate Bold.ttf\n",
      "Processed Sathu.ttf\n",
      "Processed Tahoma.ttf\n",
      "Processed PlantagenetCherokee.ttf\n"
     ]
    },
    {
     "name": "stderr",
     "output_type": "stream",
     "text": [
      "1 extra bytes in post.stringData array\n"
     ]
    },
    {
     "name": "stdout",
     "output_type": "stream",
     "text": [
      "Processed Microsoft Sans Serif.ttf\n",
      "Processed Krungthep.ttf\n"
     ]
    },
    {
     "name": "stderr",
     "output_type": "stream",
     "text": [
      "1 extra bytes in post.stringData array\n"
     ]
    },
    {
     "name": "stdout",
     "output_type": "stream",
     "text": [
      "Processed Andale Mono.ttf\n",
      "Processed Herculanum.ttf\n",
      "Processed Verdana.ttf\n"
     ]
    }
   ],
   "source": [
    "src_dir = 'data/digital_ttfs'\n",
    "dst_dir = 'data/digital_letters_pngs'\n",
    "num_ttfs = convert_ttf(src_dir, dst_dir)"
   ]
  },
  {
   "cell_type": "code",
   "execution_count": 54,
   "id": "27d56d7f",
   "metadata": {},
   "outputs": [],
   "source": [
    "src_dir = \"data/digital_letters_pngs\"\n",
    "\n",
    "num_train = int(0.7 * num_ttfs)\n",
    "num_val = (num_ttfs - num_train) // 2\n",
    "\n",
    "imgs_train = []\n",
    "imgs_val = []\n",
    "imgs_test = []\n",
    "labels_train = []\n",
    "labels_val = []\n",
    "labels_test = []\n",
    "idx = 0\n",
    "for f in glob.glob(os.path.join(src_dir, '*.png')):\n",
    "    ftitle, fext = os.path.splitext(os.path.basename(f))\n",
    "    letter = ftitle.split(\"_\")[1].lower()\n",
    "    im = Image.open(f).convert('L')\n",
    "\n",
    "    if idx < num_train:\n",
    "        imgs_train += transform(im).detach().tolist()\n",
    "        labels_train.append(letter_to_label[letter])\n",
    "    elif idx < num_train + num_val:\n",
    "        imgs_val += transform(im).detach().tolist()\n",
    "        labels_val.append(letter_to_label[letter])\n",
    "    else:\n",
    "        imgs_test += transform(im).detach().tolist()\n",
    "        labels_test.append(letter_to_label[letter])\n",
    "    \n",
    "    idx += 1"
   ]
  },
  {
   "cell_type": "code",
   "execution_count": 55,
   "id": "467c0169",
   "metadata": {},
   "outputs": [],
   "source": [
    "train_loader_digital = create_loader(imgs_train, labels_train)\n",
    "val_loader_digital = create_loader(imgs_val, labels_val)\n",
    "test_loader_digital = create_loader(imgs_test, labels_test)"
   ]
  },
  {
   "cell_type": "code",
   "execution_count": 63,
   "id": "9802ee26",
   "metadata": {},
   "outputs": [
    {
     "name": "stdout",
     "output_type": "stream",
     "text": [
      "Label: g\n"
     ]
    },
    {
     "data": {
      "image/png": "[encoded data removed]",
      "text/plain": [
       "<Figure size 432x288 with 1 Axes>"
      ]
     },
     "metadata": {
      "needs_background": "light"
     },
     "output_type": "display_data"
    }
   ],
   "source": [
    "# Visualization of a digital font\n",
    "img, label = get_input(train_loader_digital)\n",
    "plt.imshow(img.reshape((28, 28)), cmap='Greys_r')\n",
    "print(\"Label: %s\" % classes[label])"
   ]
  },
  {
   "cell_type": "code",
   "execution_count": 64,
   "id": "a2b8e6b8",
   "metadata": {},
   "outputs": [],
   "source": [
    "# Combine digital with other data\n",
    "combined_train_digital_loader = combine_loaders(combined_train_loader, train_loader_digital)\n",
    "combined_val_digital_loader = combine_loaders(combined_val_loader, val_loader_digital)\n",
    "combined_test_digital_loader = combine_loaders(combined_test_loader, test_loader_digital)"
   ]
  },
  {
   "cell_type": "code",
   "execution_count": 72,
   "id": "a8f979c7",
   "metadata": {},
   "outputs": [
    {
     "name": "stdout",
     "output_type": "stream",
     "text": [
      "Label: k\n"
     ]
    },
    {
     "data": {
      "image/png": "[encoded data removed]",
      "text/plain": [
       "<Figure size 432x288 with 1 Axes>"
      ]
     },
     "metadata": {
      "needs_background": "light"
     },
     "output_type": "display_data"
    }
   ],
   "source": [
    "# Verifiying combined\n",
    "img, label = get_input(combined_test_digital_loader)\n",
    "plt.imshow(img.reshape((28, 28)), cmap='Greys_r')\n",
    "print(\"Label: %s\" % classes[label])"
   ]
  },
  {
   "cell_type": "code",
   "execution_count": null,
   "id": "d087317b",
   "metadata": {},
   "outputs": [],
   "source": [
    "# Train model with augmented data\n",
    "model_digital = letterCNN(classes)\n",
    "criterion = nn.CrossEntropyLoss()\n",
    "optimizer = torch.optim.Adam(model_digital.parameters(), lr=1e-3)\n",
    "train_network(model_digital, combined_train_digital_loader, combined_val_digital_loader, criterion, optimizer, nepoch=10)"
   ]
  },
  {
   "cell_type": "code",
   "execution_count": null,
   "id": "1fdf412e",
   "metadata": {
    "scrolled": true
   },
   "outputs": [],
   "source": [
    "acc, true, pred = test_network(model_digital, combined_test_digital_loader)\n",
    "print('Test accuracy: %0.3f' % acc)\n",
    "\n",
    "display_contingency_matrix(len(model_digital.classes), pred, true)"
   ]
  },
  {
   "cell_type": "markdown",
   "id": "66d9322a",
   "metadata": {},
   "source": [
    "The accuracy of the model with the augmented data did not improve (in fact, it decreased by about 0.4%). It is possible that this happened because we only included 100 fonts - we believe that including more fonts in our dataset should improve the accuracy of our model. However, given current results, it is reasonable to say that the improvement in accuracy will not be very significant even if more fonts are added. "
   ]
  },
  {
   "cell_type": "markdown",
   "id": "811559a7",
   "metadata": {},
   "source": [
    "### 1b) Regularization through dropout"
   ]
  },
  {
   "cell_type": "markdown",
   "id": "83ccb4d5",
   "metadata": {},
   "source": [
    "We hypothesize that adding dropout will decrease the accuracy of our model because each image is simply a 28 x 28 image of a letter, and dropping out even the smallest learned feature for a small image should impact the accuracy negatively."
   ]
  },
  {
   "cell_type": "code",
   "execution_count": null,
   "id": "a8042ba5",
   "metadata": {},
   "outputs": [],
   "source": [
    "class letterCNNDropout(nn.Module):\n",
    "    def __init__(self, classes):\n",
    "        super().__init__()\n",
    "        self.classes = classes\n",
    "        self.layers = nn.Sequential(\n",
    "            nn.Conv2d(in_channels=1, out_channels=8, kernel_size=(5,5), stride=1),\n",
    "            nn.MaxPool2d(kernel_size=(2,2), stride=2),\n",
    "            nn.ReLU(),\n",
    "            nn.Flatten(),\n",
    "            nn.Dropout(p=0.2),\n",
    "            nn.Linear(1152, len(self.classes))\n",
    "        )\n",
    "            \n",
    "    def forward(self, x):\n",
    "        output = self.layers(x)\n",
    "        return output"
   ]
  },
  {
   "cell_type": "code",
   "execution_count": null,
   "id": "2c09b34b",
   "metadata": {},
   "outputs": [],
   "source": [
    "model_dropout = letterCNNDropout(classes)\n",
    "criterion = nn.CrossEntropyLoss()\n",
    "optimizer = torch.optim.Adam(model_dropout.parameters(), lr=1e-3)\n",
    "train_network(model_dropout, combined_train_loader, combined_val_loader, criterion, optimizer, nepoch=10)"
   ]
  },
  {
   "cell_type": "code",
   "execution_count": null,
   "id": "b150871b",
   "metadata": {
    "scrolled": true
   },
   "outputs": [],
   "source": [
    "acc, true, pred = test_network(model_dropout, combined_test_loader)\n",
    "print('Test accuracy: %0.3f' % acc)\n",
    "\n",
    "display_contingency_matrix(len(model_dropout.classes), pred, true)"
   ]
  },
  {
   "cell_type": "markdown",
   "id": "b29d15bf",
   "metadata": {},
   "source": [
    "As hypothesized, the accuracy of our model did drop using dropout."
   ]
  },
  {
   "cell_type": "markdown",
   "id": "122f4bbd",
   "metadata": {},
   "source": [
    "### 1c) Regularization through Average Pooling\n",
    "\n",
    "We hypothesize that the accuracy of our model will stay about the same with average pooling. We believe this to be the case because we have a network with just one convolutional layer which learns on fairly small images. "
   ]
  },
  {
   "cell_type": "code",
   "execution_count": null,
   "id": "0017b239",
   "metadata": {},
   "outputs": [],
   "source": [
    "# Visualizing the combined dataset \n",
    "img, label = get_input(combined_train_loader)\n",
    "plt.imshow(img.reshape((28, 28)), cmap='Greys_r')\n",
    "print(\"Label: %s\" % classes[label])"
   ]
  },
  {
   "cell_type": "code",
   "execution_count": null,
   "id": "acbf4483",
   "metadata": {
    "scrolled": false
   },
   "outputs": [],
   "source": [
    "# visualize kernels with max pooling\n",
    "conv_out = basic_model.layers[0](img)\n",
    "_ = display_pool_outputs(basic_model.layers[1], conv_out)"
   ]
  },
  {
   "cell_type": "markdown",
   "id": "f80da4c7",
   "metadata": {},
   "source": [
    "We see that the kernels are a little blotchy. This is to be expected as a result of max pooling. The learned kernels with average pooling should be a little smoother. "
   ]
  },
  {
   "cell_type": "code",
   "execution_count": null,
   "id": "b81c814b",
   "metadata": {},
   "outputs": [],
   "source": [
    "class letterCNNAvgPool(nn.Module):\n",
    "    def __init__(self, classes):\n",
    "        super().__init__()\n",
    "        self.classes = classes\n",
    "        self.layers = nn.Sequential(\n",
    "            nn.Conv2d(in_channels=1, out_channels=8, kernel_size=(5,5), stride=1),\n",
    "            nn.AvgPool2d(kernel_size=(2,2), stride=2),\n",
    "            nn.ReLU(),\n",
    "            nn.Flatten(),\n",
    "            nn.Linear(1152, len(self.classes))\n",
    "        )\n",
    "            \n",
    "    def forward(self, x):\n",
    "        output = self.layers(x)\n",
    "        return output"
   ]
  },
  {
   "cell_type": "code",
   "execution_count": null,
   "id": "ad5169ac",
   "metadata": {},
   "outputs": [],
   "source": [
    "model_avgpool = letterCNNAvgPool(classes)\n",
    "criterion = nn.CrossEntropyLoss()\n",
    "optimizer = torch.optim.Adam(model_avgpool.parameters(), lr=1e-3)\n",
    "train_network(model_avgpool, combined_train_loader, combined_val_loader, criterion, optimizer, nepoch=10)"
   ]
  },
  {
   "cell_type": "code",
   "execution_count": null,
   "id": "e670b4e9",
   "metadata": {},
   "outputs": [],
   "source": [
    "acc, true, pred = test_network(model_avgpool, combined_test_loader)\n",
    "print('Test accuracy: %0.3f' % acc)\n",
    "\n",
    "display_contingency_matrix(len(model_avgpool.classes), pred, true)"
   ]
  },
  {
   "cell_type": "code",
   "execution_count": null,
   "id": "03bd8121",
   "metadata": {},
   "outputs": [],
   "source": [
    "# visualize average pooling\n",
    "conv_out = model_avgpool.layers[0](img)\n",
    "_ = display_pool_outputs(model_avgpool.layers[1], conv_out)"
   ]
  },
  {
   "cell_type": "markdown",
   "id": "089dd56d",
   "metadata": {},
   "source": [
    "The learned kernels for average pooling are smoother than the learned kernels for max pooling, as expected. As hypothesized, the accuracy of our model did not improve with average pooling. However, it is interesting that the accuracy decreased a bit with average pooling. This suggests that, for the task of letter recognition, max pooling is a better strategy than average pooling. "
   ]
  },
  {
   "cell_type": "markdown",
   "id": "0829dc6e",
   "metadata": {},
   "source": [
    "### 1d) Regularization through Early Stopping\n",
    "\n",
    "As our final experiment for the first computational experiment, we implement early stopping. We hypothesize that early stopping should improve the accuracy marginally. "
   ]
  },
  {
   "cell_type": "code",
   "execution_count": null,
   "id": "d590e600",
   "metadata": {},
   "outputs": [],
   "source": [
    "model_early_stopping = letterCNN(classes)\n",
    "criterion = nn.CrossEntropyLoss()\n",
    "optimizer = torch.optim.Adam(model_early_stopping.parameters(), lr=1e-3)\n",
    "train_network(model_early_stopping, combined_train_loader, combined_val_loader, criterion, optimizer, early_stopping=True)"
   ]
  },
  {
   "cell_type": "code",
   "execution_count": null,
   "id": "dc8cf3bf",
   "metadata": {},
   "outputs": [],
   "source": [
    "acc, true, pred = test_network(model_early_stopping, combined_test_loader)\n",
    "print('Test accuracy: %0.3f' % acc)\n",
    "\n",
    "display_contingency_matrix(len(model_early_stopping.classes), pred, true)"
   ]
  },
  {
   "cell_type": "markdown",
   "id": "b844d592",
   "metadata": {},
   "source": [
    "The accuracy of our model with early stopping did not improve and stayed about the same. \n",
    "\n",
    "All these computational experiments show that, as defined, our `letterCNN` is actually well defined and supports a good amount of generalization. To get good results, then, we must pick the dataset carefully so that our model generalizes to a variety of handwriting and font styles. "
   ]
  },
  {
   "cell_type": "markdown",
   "id": "b4c74c3f",
   "metadata": {},
   "source": [
    "## Computational Experiment 2 - Architecture\n",
    "\n",
    "As our second computational experiment, we will visualize the learned kernels of our basic model and then change the architecture to create a new model in hopes of creating a more accurate network. "
   ]
  },
  {
   "cell_type": "markdown",
   "id": "0e747cf9",
   "metadata": {},
   "source": [
    "### Visualizing previous kernels"
   ]
  },
  {
   "cell_type": "code",
   "execution_count": null,
   "id": "9d3c3303",
   "metadata": {},
   "outputs": [],
   "source": [
    "# extract the weights from the learned model\n",
    "conv1wt = basic_model.layers[0].weight.data.numpy()\n",
    "display_kernels(conv1wt)"
   ]
  },
  {
   "cell_type": "markdown",
   "id": "0d073003",
   "metadata": {},
   "source": [
    "It seems that in our basic model, the kernels are learning to identify specific edge types within letters. For example, in Kernel 3, it seems that the model is learning to identify horizontal edges while in Kernel 6 the model is learning to identify vertical edges. Based upon this, we hypothesize that adding a second convolutional layer to our current model will help it learn the features/characterisitics of each letter better."
   ]
  },
  {
   "cell_type": "markdown",
   "id": "d10205d8",
   "metadata": {},
   "source": [
    "### 2a) Double Convolutional Layer"
   ]
  },
  {
   "cell_type": "code",
   "execution_count": null,
   "id": "5d4dc8c9",
   "metadata": {},
   "outputs": [],
   "source": [
    "class letterCNNDouble(nn.Module):\n",
    "    def __init__(self, classes):\n",
    "        super().__init__()\n",
    "        self.classes = classes\n",
    "        self.layers = nn.Sequential(\n",
    "            nn.Conv2d(in_channels=1, out_channels=8, kernel_size=(5,5), stride=1),\n",
    "            nn.MaxPool2d(kernel_size=(2,2), stride=2),\n",
    "            nn.ReLU(),\n",
    "            nn.Conv2d(in_channels=8, out_channels=64, kernel_size=(5,5), stride=1),\n",
    "            nn.MaxPool2d(kernel_size=(2,2), stride=2),\n",
    "            nn.ReLU(),\n",
    "            nn.Flatten(),\n",
    "            nn.Linear(1024, len(self.classes))\n",
    "        )\n",
    "            \n",
    "    def forward(self, x):\n",
    "        return self.layers(x)"
   ]
  },
  {
   "cell_type": "code",
   "execution_count": null,
   "id": "b2dde111",
   "metadata": {},
   "outputs": [],
   "source": [
    "model_double_layer = letterCNNDouble(classes)\n",
    "criterion = nn.CrossEntropyLoss()\n",
    "optimizer = torch.optim.Adam(model_double_layer.parameters(), lr=1e-3)\n",
    "train_network(model_double_layer, combined_train_loader, combined_val_loader, criterion, optimizer, nepoch=10)"
   ]
  },
  {
   "cell_type": "code",
   "execution_count": null,
   "id": "6fe90fd9",
   "metadata": {},
   "outputs": [],
   "source": [
    "acc, true, pred = test_network(model_double_layer, combined_test_loader)\n",
    "print('Test accuracy: %0.3f' % acc)\n",
    "\n",
    "display_contingency_matrix(len(model_double_layer.classes), pred, true)"
   ]
  },
  {
   "cell_type": "markdown",
   "id": "5390be53",
   "metadata": {},
   "source": [
    "As we can see, adding a seecond layer did indeed increase the accuracy by about 4% as per our hypothesis."
   ]
  },
  {
   "cell_type": "code",
   "execution_count": null,
   "id": "62445bc2",
   "metadata": {},
   "outputs": [],
   "source": [
    "# extract the weights from the learned model\n",
    "conv2wtsfirst = model_double_layer.layers[0].weight.data.numpy()\n",
    "display_kernels(conv2wtsfirst)"
   ]
  },
  {
   "cell_type": "markdown",
   "id": "d0ecfddb",
   "metadata": {},
   "source": [
    "The first layer is still learning the hard edges of each letter as the single convolutional layer network (i.e. our basic model)."
   ]
  },
  {
   "cell_type": "code",
   "execution_count": null,
   "id": "e6fae13c",
   "metadata": {},
   "outputs": [],
   "source": [
    "# extract the weights from the learned model\n",
    "conv2wtssecond = model_double_layer.layers[3].weight.data.numpy()\n",
    "display_kernels(conv2wtssecond)"
   ]
  },
  {
   "cell_type": "markdown",
   "id": "edfed915",
   "metadata": {},
   "source": [
    "The second layer seems to be learning more precise/specific features. Note that we only display the first channel of each of the 64 channels in the second convolution layer in `letterCNNDouble`. Still, it is quite obvious that the second layer's kernels are learning more precise features. It seems that the second layer is starting to learn more nuances between the edges of each letter - however, that is much harder to confirm. Still, as hypothesized, adding a second convolution layer to our basic CNN helped the new model learn more precise features about each letter and this in turn increased the accuracy of our new model. "
   ]
  },
  {
   "cell_type": "markdown",
   "id": "09a4aa03",
   "metadata": {},
   "source": [
    "### 2b) Changing the Kernel Size"
   ]
  },
  {
   "cell_type": "code",
   "execution_count": null,
   "id": "53490e45",
   "metadata": {},
   "outputs": [],
   "source": [
    "class letterCNNKernel(nn.Module):\n",
    "    def __init__(self, classes, size):\n",
    "        super().__init__()\n",
    "        self.classes = classes\n",
    "        output_size = (((28 - size) + 1) // 2) ** 2 * 8 \n",
    "        self.layers = nn.Sequential(\n",
    "            nn.Conv2d(in_channels=1, out_channels=8, kernel_size=(size,size), stride=1),\n",
    "            nn.MaxPool2d(kernel_size=(2,2), stride=2),\n",
    "            nn.ReLU(),\n",
    "            nn.Flatten(),\n",
    "            nn.Linear(output_size, len(self.classes))\n",
    "        )\n",
    "            \n",
    "    def forward(self, x):\n",
    "        return self.layers(x)"
   ]
  },
  {
   "cell_type": "markdown",
   "id": "7195d240",
   "metadata": {},
   "source": [
    "#### Size 3 kernel"
   ]
  },
  {
   "cell_type": "code",
   "execution_count": null,
   "id": "7d5549b5",
   "metadata": {},
   "outputs": [],
   "source": [
    "model_kernel_3 = letterCNNKernel(classes, 3)\n",
    "criterion = nn.CrossEntropyLoss()\n",
    "optimizer = torch.optim.Adam(model_kernel_3.parameters(), lr=1e-3)\n",
    "train_network(model_kernel_3, combined_train_loader, combined_val_loader, criterion, optimizer, nepoch=10)"
   ]
  },
  {
   "cell_type": "code",
   "execution_count": null,
   "id": "099d1d71",
   "metadata": {},
   "outputs": [],
   "source": [
    "acc, true, pred = test_network(model_kernel_3, combined_test_loader)\n",
    "print('Test accuracy: %0.3f' % acc)\n",
    "\n",
    "display_contingency_matrix(len(model_kernel_3.classes), pred, true)"
   ]
  },
  {
   "cell_type": "code",
   "execution_count": null,
   "id": "f9d99471",
   "metadata": {},
   "outputs": [],
   "source": [
    "# extract the weights from the learned model\n",
    "convk3wts = model_kernel_3.layers[0].weight.data.numpy()\n",
    "display_kernels(convk3wts)"
   ]
  },
  {
   "cell_type": "markdown",
   "id": "5dde41aa",
   "metadata": {},
   "source": [
    "#### Size 8 kernel"
   ]
  },
  {
   "cell_type": "code",
   "execution_count": null,
   "id": "53d9d5ed",
   "metadata": {},
   "outputs": [],
   "source": [
    "model_kernel_8 = letterCNNKernel(classes, 8)\n",
    "criterion = nn.CrossEntropyLoss()\n",
    "optimizer = torch.optim.Adam(model_kernel_8.parameters(), lr=1e-3)\n",
    "train_network(model_kernel_8, combined_train_loader, combined_val_loader, criterion, optimizer, nepoch=10)"
   ]
  },
  {
   "cell_type": "code",
   "execution_count": null,
   "id": "10f21c93",
   "metadata": {},
   "outputs": [],
   "source": [
    "acc, true, pred = test_network(model_kernel_8, combined_test_loader)\n",
    "print('Test accuracy: %0.3f' % acc)\n",
    "\n",
    "display_contingency_matrix(len(model_kernel_8.classes), pred, true)"
   ]
  },
  {
   "cell_type": "code",
   "execution_count": null,
   "id": "4e5cb5a4",
   "metadata": {},
   "outputs": [],
   "source": [
    "# extract the weights from the learned model\n",
    "convk8wts = model_kernel_8.layers[0].weight.data.numpy()\n",
    "display_kernels(convk8wts)"
   ]
  },
  {
   "cell_type": "markdown",
   "id": "6d1ffce9",
   "metadata": {},
   "source": [
    "#### Size 11 kernel"
   ]
  },
  {
   "cell_type": "code",
   "execution_count": null,
   "id": "70d6a896",
   "metadata": {},
   "outputs": [],
   "source": [
    "model_kernel_11 = letterCNNKernel(classes, 11)\n",
    "criterion = nn.CrossEntropyLoss()\n",
    "optimizer = torch.optim.Adam(model_kernel_11.parameters(), lr=1e-3)\n",
    "train_network(model_kernel_11, combined_train_loader, combined_val_loader, criterion, optimizer, nepoch=10)"
   ]
  },
  {
   "cell_type": "code",
   "execution_count": null,
   "id": "52e573a8",
   "metadata": {},
   "outputs": [],
   "source": [
    "acc, true, pred = test_network(model_kernel_11, combined_test_loader)\n",
    "print('Test accuracy: %0.3f' % acc)\n",
    "\n",
    "display_contingency_matrix(len(model_kernel_11.classes), pred, true)"
   ]
  },
  {
   "cell_type": "code",
   "execution_count": null,
   "id": "dd202051",
   "metadata": {},
   "outputs": [],
   "source": [
    "# extract the weights from the learned model\n",
    "convk11wts = model_kernel_11.layers[0].weight.data.numpy()\n",
    "display_kernels(convk11wts)"
   ]
  },
  {
   "cell_type": "markdown",
   "id": "b858659f",
   "metadata": {},
   "source": [
    "## Optimized Inputs"
   ]
  },
  {
   "cell_type": "code",
   "execution_count": null,
   "id": "9b14cf50",
   "metadata": {},
   "outputs": [],
   "source": [
    "optimized_inputs_kernel_3 = get_optimized_inputs(model_kernel_3, nepochs=1000)\n",
    "optimized_inputs_kernel_5 = get_optimized_inputs(basic_model, nepochs=1000)\n",
    "optimized_inputs_kernel_8 = get_optimized_inputs(model_kernel_8, nepochs=1000)\n",
    "optimized_inputs_kernel_11 = get_optimized_inputs(model_kernel_11, nepochs=1000)\n",
    "optimized_inputs_double_conv = get_optimized_inputs(model_double_layer, nepochs=1000, validate_loss=True)"
   ]
  },
  {
   "cell_type": "code",
   "execution_count": null,
   "id": "cabe2139",
   "metadata": {},
   "outputs": [],
   "source": [
    "display_optimized_inputs(optimized_inputs_kernel_3)"
   ]
  },
  {
   "cell_type": "code",
   "execution_count": null,
   "id": "4611ddd7",
   "metadata": {},
   "outputs": [],
   "source": [
    "display_optimized_inputs(optimized_inputs_kernel_5)"
   ]
  },
  {
   "cell_type": "code",
   "execution_count": null,
   "id": "9adeccc2",
   "metadata": {},
   "outputs": [],
   "source": [
    "display_optimized_inputs(optimized_inputs_kernel_8)"
   ]
  },
  {
   "cell_type": "code",
   "execution_count": null,
   "id": "ff18ad75",
   "metadata": {},
   "outputs": [],
   "source": [
    "display_optimized_inputs(optimized_inputs_kernel_11)"
   ]
  },
  {
   "cell_type": "code",
   "execution_count": null,
   "id": "ada2f9b7",
   "metadata": {},
   "outputs": [],
   "source": [
    "display_optimized_inputs(optimized_inputs_double_conv)"
   ]
  },
  {
   "cell_type": "markdown",
   "id": "1994a9e1",
   "metadata": {},
   "source": [
    "## Additional Visualizations\n",
    "\n",
    "We provide some additional visualizations here for reference. "
   ]
  },
  {
   "cell_type": "code",
   "execution_count": null,
   "id": "274b1a5b",
   "metadata": {},
   "outputs": [],
   "source": [
    "# Visualizing a different letter from the combined dataset\n",
    "img, label = get_input(combined_train_loader)\n",
    "plt.imshow(img.reshape((28, 28)), cmap='Greys_r')\n",
    "print(\"Label: %s\" % classes[label])"
   ]
  },
  {
   "cell_type": "markdown",
   "id": "9a6556dc",
   "metadata": {},
   "source": [
    "#### Single Convolution Layer"
   ]
  },
  {
   "cell_type": "code",
   "execution_count": null,
   "id": "6861d215",
   "metadata": {},
   "outputs": [],
   "source": [
    "# Visualizing the learned kernels for the sinlge convolutional layer network\n",
    "conv1_layer = basic_model.layers[0]\n",
    "display_kernels(conv1_layer.weight.data.numpy())"
   ]
  },
  {
   "cell_type": "code",
   "execution_count": null,
   "id": "ec306d3b",
   "metadata": {},
   "outputs": [],
   "source": [
    "# Visualizing convolved outputs for the sinlge convolutional layer network\n",
    "conv_outs = display_conv_outputs(conv1_layer, img)"
   ]
  },
  {
   "cell_type": "code",
   "execution_count": null,
   "id": "ab4a1919",
   "metadata": {},
   "outputs": [],
   "source": [
    "# Visualizing the max pooling layer outputs for the sinlge convolutional layer network\n",
    "_ = display_pool_outputs(basic_model.layers[1], conv_outs)"
   ]
  },
  {
   "cell_type": "markdown",
   "id": "9be448a9",
   "metadata": {},
   "source": [
    "#### Double Convolutional Layer"
   ]
  },
  {
   "cell_type": "code",
   "execution_count": null,
   "id": "3adb31fb",
   "metadata": {},
   "outputs": [],
   "source": [
    "# Visualizing the learned kernels of the first convolution layer of the double covolutional network\n",
    "conv2_layer1 = model_double_layer.layers[0]\n",
    "display_kernels(conv2_layer1.weight.data.numpy())"
   ]
  },
  {
   "cell_type": "code",
   "execution_count": null,
   "id": "31b10df0",
   "metadata": {},
   "outputs": [],
   "source": [
    "# Visualizing the convolved outputs of first convolution layer of the double covolutional network\n",
    "outs_layer1 = display_conv_outputs(model_double_layer.layers[0], img)"
   ]
  },
  {
   "cell_type": "code",
   "execution_count": null,
   "id": "97d65f11",
   "metadata": {},
   "outputs": [],
   "source": [
    "# Visualizing the max pool outputs of the first max pool layer of the double covolutional network\n",
    "pooled_layer1 = display_pool_outputs(model_double_layer.layers[1], outs_layer1)"
   ]
  },
  {
   "cell_type": "code",
   "execution_count": null,
   "id": "f688a109",
   "metadata": {},
   "outputs": [],
   "source": [
    "# Visualizing the learned kernels of the second convolution layer of the double covolutional network\n",
    "conv2_layer2 = model_double_layer.layers[3]\n",
    "display_kernels(conv2_layer2.weight.data.numpy())"
   ]
  },
  {
   "cell_type": "code",
   "execution_count": null,
   "id": "9c0599d6",
   "metadata": {},
   "outputs": [],
   "source": [
    "# Visualizing the convolved outputs of the second convolution layer of the double covolutional network\n",
    "inputs_layer2 = model_double_layer.layers[2](pooled_layer1)\n",
    "outs_layer2 = display_conv_outputs(model_double_layer.layers[3], inputs_layer2)"
   ]
  },
  {
   "cell_type": "code",
   "execution_count": null,
   "id": "9d468625",
   "metadata": {},
   "outputs": [],
   "source": [
    "# Visualizing the max pool outputs of second max pool layer of the double covolutional network\n",
    "_ = display_pool_outputs(model_double_layer.layers[4], outs_layer2)"
   ]
  }
 ],
 "metadata": {
  "interpreter": {
   "hash": "aee8b7b246df8f9039afb4144a1f6fd8d2ca17a180786b69acc140d282b71a49"
  },
  "kernelspec": {
   "display_name": "Python 3 (ipykernel)",
   "language": "python",
   "name": "python3"
  },
  "language_info": {
   "codemirror_mode": {
    "name": "ipython",
    "version": 3
   },
   "file_extension": ".py",
   "mimetype": "text/x-python",
   "name": "python",
   "nbconvert_exporter": "python",
   "pygments_lexer": "ipython3",
   "version": "3.9.7"
  }
 },
 "nbformat": 4,
 "nbformat_minor": 5
}
