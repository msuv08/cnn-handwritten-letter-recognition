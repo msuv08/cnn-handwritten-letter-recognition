{
 "cells": [
  {
   "cell_type": "markdown",
   "id": "21f69704",
   "metadata": {},
   "source": [
    "# CS 342 Final Project - Letter Recognition CNN"
   ]
  },
  {
   "cell_type": "markdown",
   "id": "d1664c6b",
   "metadata": {},
   "source": [
    "Mrityunjay Mishra, Mihir Suvarna, Daniel Sialm"
   ]
  },
  {
   "cell_type": "markdown",
   "id": "f55a6548",
   "metadata": {},
   "source": [
    "## Project Description"
   ]
  },
  {
   "cell_type": "markdown",
   "id": "7f97ac96",
   "metadata": {},
   "source": [
    "This project aims to create a convolutional neural network (CNN) for the task of letter recognition. The task of letter recognition, or more generally speaking, text recognition (also known as optical character recognition, or OCR) has gained much importance in recent years due to emerging applications. For example, OCR software can be used to convert handwritten text into digital text and robots use cameras to read signs in their environment. Due to the increasing importance of the task of text recognition, we aim to create a robust CNN that is able to correctly classify handwritten and digital letters."
   ]
  },
  {
   "cell_type": "code",
   "execution_count": 1,
   "id": "75da0fed",
   "metadata": {},
   "outputs": [],
   "source": [
    "# Run these two blocks to load important libraries and set things up\n",
    "import torch\n",
    "from torch import nn\n",
    "import numpy as np\n",
    "\n",
    "%matplotlib inline\n",
    "import matplotlib.pyplot as plt"
   ]
  },
  {
   "cell_type": "markdown",
   "id": "b1977be9",
   "metadata": {},
   "source": [
    "## Dataset"
   ]
  },
  {
   "cell_type": "code",
   "execution_count": 2,
   "id": "98c31590",
   "metadata": {},
   "outputs": [
    {
     "name": "stdout",
     "output_type": "stream",
     "text": [
      "{'N/A': 0, 'a': 1, 'b': 2, 'c': 3, 'd': 4, 'e': 5, 'f': 6, 'g': 7, 'h': 8, 'i': 9, 'j': 10, 'k': 11, 'l': 12, 'm': 13, 'n': 14, 'o': 15, 'p': 16, 'q': 17, 'r': 18, 's': 19, 't': 20, 'u': 21, 'v': 22, 'w': 23, 'x': 24, 'y': 25, 'z': 26}\n"
     ]
    }
   ],
   "source": [
    "letter_to_label = dict()\n",
    "classes_collected = ['N/A', 'a', 'b', 'c', 'd', 'e', 'f', 'g', 'h', 'i', 'j', 'k', 'l', 'm', 'n', 'o', 'p', 'q', 'r', 's', 't', 'u', 'v', 'w', 'x', 'y', 'z']\n",
    "for i in range(len(classes_collected)):\n",
    "    letter_to_label[classes_collected[i]] = i\n",
    "print(letter_to_label)"
   ]
  },
  {
   "cell_type": "code",
   "execution_count": 72,
   "id": "b957ad7d",
   "metadata": {},
   "outputs": [
    {
     "name": "stdout",
     "output_type": "stream",
     "text": [
      "torch.Size([4160, 1, 28, 28]) torch.Size([1300, 1, 28, 28]) torch.Size([780, 1, 28, 28])\n",
      "torch.Size([4160]) torch.Size([1300]) torch.Size([780])\n"
     ]
    }
   ],
   "source": [
    "import os\n",
    "import shutil\n",
    "import glob\n",
    "\n",
    "from PIL import Image\n",
    "import torchvision.transforms as transforms\n",
    "\n",
    "src_dir = 'dataset'\n",
    "transform = transforms.ToTensor()\n",
    "\n",
    "files_train = []\n",
    "files_val = []\n",
    "files_test = []\n",
    "for i in range(0,16): files_train.append('P' + str(i))\n",
    "for i in range(16,21): files_val.append('P' + str(i))\n",
    "for i in range(21,24): files_test.append('P' + str(i))\n",
    "\n",
    "imgs_train = []\n",
    "imgs_val = []\n",
    "imgs_test = []\n",
    "labels_train = []\n",
    "labels_val = []\n",
    "labels_test = []\n",
    "for f in glob.glob(os.path.join(src_dir, '*.png')):\n",
    "    ftitle, fext = os.path.splitext(os.path.basename(f))\n",
    "    letter = ftitle.split(\"_\")[1].lower()\n",
    "    file = ftitle.split(\"_\")[0].split(\"-\")[0]\n",
    "    im = Image.open(f).convert('L')\n",
    "\n",
    "    if file in files_train:\n",
    "        imgs_train.append(transform(im).detach().numpy())\n",
    "        labels_train.append(letter_to_label[letter])\n",
    "    elif file in files_val:\n",
    "        imgs_val.append(transform(im).detach().numpy())\n",
    "        labels_val.append(letter_to_label[letter])\n",
    "    elif file in files_test:\n",
    "        imgs_test.append(transform(im).detach().numpy())\n",
    "        labels_test.append(letter_to_label[letter])\n",
    "    \n",
    "data_train = torch.tensor(imgs_train)\n",
    "data_val = torch.tensor(imgs_val)\n",
    "data_test = torch.tensor(imgs_test)\n",
    "labels_train = torch.tensor(np.array(labels_train))\n",
    "labels_val = torch.tensor(np.array(labels_val))\n",
    "labels_test = torch.tensor(np.array(labels_test))\n",
    "\n",
    "print(data_train.shape, data_val.shape, data_test.shape)\n",
    "print(labels_train.shape, labels_val.shape, labels_test.shape)"
   ]
  },
  {
   "cell_type": "code",
   "execution_count": 73,
   "id": "a60811a1",
   "metadata": {},
   "outputs": [
    {
     "name": "stdout",
     "output_type": "stream",
     "text": [
      "['N/A', 'a', 'b', 'c', 'd', 'e', 'f', 'g', 'h', 'i', 'j', 'k', 'l', 'm', 'n', 'o', 'p', 'q', 'r', 's', 't', 'u', 'v', 'w', 'x', 'y', 'z']\n",
      "Label: m\n"
     ]
    },
    {
     "data": {
      "image/png": "[encoded data removed]",
      "text/plain": [
       "<Figure size 432x288 with 1 Axes>"
      ]
     },
     "metadata": {
      "needs_background": "light"
     },
     "output_type": "display_data"
    }
   ],
   "source": [
    "# Data visualization\n",
    "\n",
    "# print classes\n",
    "print(classes_collected)\n",
    "# print label\n",
    "index = 125\n",
    "plt.imshow(data_train[index].reshape((28, 28)), cmap='Greys_r')\n",
    "print(\"Label: %s\" % classes_collected[labels_train[index].item()])"
   ]
  },
  {
   "cell_type": "code",
   "execution_count": 74,
   "id": "bbd551ea",
   "metadata": {},
   "outputs": [],
   "source": [
    "batch_size = 64\n",
    "\n",
    "train_set_collected = torch.utils.data.TensorDataset(data_train, labels_train)\n",
    "val_set_collected = torch.utils.data.TensorDataset(data_val, labels_val)\n",
    "test_set_collected = torch.utils.data.TensorDataset(data_test, labels_test)\n",
    "\n",
    "train_loader_collected = torch.utils.data.DataLoader(train_set_collected, batch_size=batch_size, shuffle=True)\n",
    "val_loader_collected = torch.utils.data.DataLoader(val_set_collected, batch_size=batch_size, shuffle=True)\n",
    "test_loader_collected = torch.utils.data.DataLoader(test_set_collected, batch_size=batch_size, shuffle=True)"
   ]
  },
  {
   "cell_type": "markdown",
   "id": "7234943c",
   "metadata": {},
   "source": [
    "## Defining a basic LetterCNN"
   ]
  },
  {
   "cell_type": "code",
   "execution_count": 75,
   "id": "26ceeb08",
   "metadata": {},
   "outputs": [],
   "source": [
    "class letterCNN(nn.Module):\n",
    "    def __init__(self, classes):\n",
    "        super().__init__()\n",
    "        self.classes = classes\n",
    "        self.layers = nn.Sequential(\n",
    "            nn.Conv2d(in_channels=1, out_channels=8, kernel_size=(5,5), stride=1),\n",
    "            nn.MaxPool2d(kernel_size=(2,2), stride=2),\n",
    "            nn.ReLU(),\n",
    "            nn.Flatten(),\n",
    "            nn.Linear(1152, len(self.classes))\n",
    "        )\n",
    "            \n",
    "    def forward(self, x):\n",
    "        output = self.layers(x)\n",
    "        return output"
   ]
  },
  {
   "cell_type": "code",
   "execution_count": 76,
   "id": "d55afeba",
   "metadata": {},
   "outputs": [
    {
     "name": "stdout",
     "output_type": "stream",
     "text": [
      "torch.Size([64, 1, 28, 28])\n",
      "torch.Size([64])\n",
      "torch.float32 torch.int64\n",
      "torch.Size([64, 27])\n"
     ]
    }
   ],
   "source": [
    "# Testing the model above, TODO remove before submission\n",
    "model_test = letterCNN(classes_collected)\n",
    "for inputs, labels in train_loader_collected:\n",
    "    print(inputs.shape)\n",
    "    print(labels.shape)\n",
    "    print(inputs.dtype, labels.dtype)\n",
    "    outputs = model_test.forward(inputs)\n",
    "    print(outputs.shape)\n",
    "    break"
   ]
  },
  {
   "cell_type": "markdown",
   "id": "11f752a9",
   "metadata": {},
   "source": [
    "## Testing the basic LetterCNN"
   ]
  },
  {
   "cell_type": "code",
   "execution_count": 77,
   "id": "507e03f7",
   "metadata": {},
   "outputs": [],
   "source": [
    "from tqdm.notebook import tqdm\n",
    "import torch.nn.functional as F\n",
    "\n",
    "def train_network(model, train_loader, val_loader, criterion, optimizer, nepoch=100):\n",
    "    try:\n",
    "        for epoch in tqdm(range(nepoch)):\n",
    "            print('EPOCH %d'%epoch)\n",
    "            total_loss = 0\n",
    "            count = 0\n",
    "            for inputs, labels in train_loader:\n",
    "                optimizer.zero_grad()\n",
    "                outputs = model.forward(inputs)\n",
    "                labels = labels.type(torch.long)\n",
    "                loss = criterion(outputs, labels)\n",
    "                loss.backward()\n",
    "                optimizer.step()\n",
    "                total_loss += loss.item()\n",
    "                count += 1\n",
    "            print('{:>12s} {:>7.5f}'.format('Train loss:', total_loss/count))\n",
    "            with torch.no_grad():\n",
    "                total_loss = 0\n",
    "                count = 0\n",
    "                for inputs, labels in val_loader:\n",
    "                    outputs = model.forward(inputs)\n",
    "                    labels = labels.type(torch.long)\n",
    "                    loss = criterion(outputs, labels)\n",
    "                    total_loss += loss.item()\n",
    "                    count += 1\n",
    "                print('{:>12s} {:>7.5f}'.format('Val loss:', total_loss/count))\n",
    "            print()\n",
    "    except KeyboardInterrupt:\n",
    "        print('Exiting from training early')\n",
    "    return\n",
    "\n",
    "def test_network(model, test_loader):\n",
    "    correct = 0\n",
    "    total = 0\n",
    "    true, pred = [], []\n",
    "    with torch.no_grad():\n",
    "        for inputs, labels  in test_loader:\n",
    "            outputs = model.forward(inputs)\n",
    "            predicted = torch.argmax(outputs, dim=1) # get predicted class label for each test example.\n",
    "            total += labels.size(0)\n",
    "            correct += (predicted == labels).sum().item()\n",
    "            true.append(labels)\n",
    "            pred.append(predicted)\n",
    "    acc = (100 * correct / total)\n",
    "    true = np.concatenate(true)\n",
    "    pred = np.concatenate(pred)\n",
    "    return acc, true, pred\n",
    "\n",
    "def display_contingency_matrix(num_classes, pred, true):\n",
    "    contingency = np.zeros((num_classes, num_classes))\n",
    "    for i in range(len(pred)):\n",
    "        contingency[int(pred[i])][int(true[i])] += 1\n",
    "\n",
    "    plt.matshow(contingency)\n",
    "    plt.xlabel(\"true\")\n",
    "    plt.ylabel(\"predictions\")\n",
    "    plt.colorbar()"
   ]
  },
  {
   "cell_type": "code",
   "execution_count": 78,
   "id": "55b0324b",
   "metadata": {},
   "outputs": [
    {
     "data": {
      "application/vnd.jupyter.widget-view+json": {
       "model_id": "0c4a910af14c42a99e033d403a35f2e1",
       "version_major": 2,
       "version_minor": 0
      },
      "text/plain": [
       "  0%|          | 0/10 [00:00<?, ?it/s]"
      ]
     },
     "metadata": {},
     "output_type": "display_data"
    },
    {
     "name": "stdout",
     "output_type": "stream",
     "text": [
      "EPOCH 0\n",
      " Train loss: 2.44099\n",
      "   Val loss: 2.32987\n",
      "\n",
      "EPOCH 1\n",
      " Train loss: 1.06285\n",
      "   Val loss: 2.07849\n",
      "\n",
      "EPOCH 2\n",
      " Train loss: 0.61417\n",
      "   Val loss: 2.18789\n",
      "\n",
      "EPOCH 3\n",
      " Train loss: 0.38804\n",
      "   Val loss: 2.32227\n",
      "\n",
      "EPOCH 4\n",
      " Train loss: 0.24358\n",
      "   Val loss: 2.49655\n",
      "\n",
      "EPOCH 5\n",
      " Train loss: 0.15999\n",
      "   Val loss: 2.70679\n",
      "\n",
      "EPOCH 6\n",
      " Train loss: 0.10904\n",
      "   Val loss: 2.77044\n",
      "\n",
      "EPOCH 7\n",
      " Train loss: 0.07725\n",
      "   Val loss: 2.90544\n",
      "\n",
      "EPOCH 8\n",
      " Train loss: 0.05701\n",
      "   Val loss: 3.02442\n",
      "\n",
      "EPOCH 9\n",
      " Train loss: 0.04339\n",
      "   Val loss: 3.11692\n",
      "\n"
     ]
    }
   ],
   "source": [
    "model1 = letterCNN(classes_collected)\n",
    "criterion = nn.CrossEntropyLoss()\n",
    "optimizer = torch.optim.Adam(model1.parameters(), lr=1e-3)\n",
    "train_network(model1, train_loader_collected, val_loader_collected, criterion, optimizer, nepoch=10)"
   ]
  },
  {
   "cell_type": "code",
   "execution_count": 79,
   "id": "3ace622e",
   "metadata": {},
   "outputs": [
    {
     "name": "stdout",
     "output_type": "stream",
     "text": [
      "Test accuracy: 53.846\n"
     ]
    },
    {
     "data": {
      "image/png": "[encoded data removed]",
      "text/plain": [
       "<Figure size 288x288 with 2 Axes>"
      ]
     },
     "metadata": {
      "needs_background": "light"
     },
     "output_type": "display_data"
    }
   ],
   "source": [
    "acc, true, pred = test_network(model1, test_loader_collected)\n",
    "print('Test accuracy: %0.3f' % acc)\n",
    "\n",
    "display_contingency_matrix(len(model1.classes), pred, true)"
   ]
  },
  {
   "cell_type": "markdown",
   "id": "288d6d89",
   "metadata": {},
   "source": [
    "We can see that there is quite a bit of overfitting going on. Also, our accuracy is quite low. While this accuracy is still quite good - $48.718 / (1 / 26) = 12.67$ times increase in accuracy from just taking a random guess - we can still do better. The reason for this poor performance is because only a few people's data was obtained which. This ends up heavily overrepresenting our training dataset towards the handwriting of a few people. Consequently, our model does not generalize well. We can also see this from the increasing validation loss. \n",
    "\n",
    "Thus, we will combine our dataset with the EMNIST dataset to create a better model."
   ]
  },
  {
   "cell_type": "markdown",
   "id": "89d0599f",
   "metadata": {},
   "source": [
    "### EMNIST Data Set"
   ]
  },
  {
   "cell_type": "code",
   "execution_count": 80,
   "id": "65c076b1",
   "metadata": {},
   "outputs": [
    {
     "name": "stdout",
     "output_type": "stream",
     "text": [
      "Dataset EMNIST\n",
      "    Number of datapoints: 124800\n",
      "    Root location: letterEMNIST\n",
      "    Split: Train\n",
      "    StandardTransform\n",
      "Transform: ToTensor()\n",
      "Dataset EMNIST\n",
      "    Number of datapoints: 20800\n",
      "    Root location: letterEMNIST\n",
      "    Split: Test\n",
      "    StandardTransform\n",
      "Transform: ToTensor()\n"
     ]
    }
   ],
   "source": [
    "from torchvision import datasets, transforms\n",
    "\n",
    "save_dir = 'letterEMNIST'\n",
    "\n",
    "transform = transforms.ToTensor() # Convert the image into a torch tensor.\n",
    "\n",
    "train_set = datasets.EMNIST(save_dir, split=\"letters\", download=True, train=True, transform=transform)\n",
    "test_set = datasets.EMNIST(save_dir, split=\"letters\", download=True, train=False, transform=transform)\n",
    "\n",
    "print(train_set)\n",
    "print(test_set)"
   ]
  },
  {
   "cell_type": "code",
   "execution_count": 81,
   "id": "1cc0f048",
   "metadata": {},
   "outputs": [],
   "source": [
    "from torch.utils.data.sampler import SubsetRandomSampler\n",
    "ntotal = 60000\n",
    "ntrain = int(0.78*ntotal)\n",
    "nval = ntotal - ntrain\n",
    "\n",
    "val_ix = np.random.choice(range(ntotal), size=nval, replace=False)\n",
    "train_ix = list(set(range(ntotal)) - set(val_ix))\n",
    "\n",
    "train_sampler = SubsetRandomSampler(train_ix)\n",
    "val_sampler = SubsetRandomSampler(val_ix)"
   ]
  },
  {
   "cell_type": "code",
   "execution_count": 82,
   "id": "c1c36234",
   "metadata": {},
   "outputs": [],
   "source": [
    "# initialize the data sets\n",
    "batch_size = 1\n",
    "train_loader = torch.utils.data.DataLoader(train_set, batch_size=batch_size, sampler=train_sampler)\n",
    "val_loader = torch.utils.data.DataLoader(train_set, batch_size=batch_size, sampler=val_sampler)\n",
    "test_loader = torch.utils.data.DataLoader(test_set, batch_size=batch_size)"
   ]
  },
  {
   "cell_type": "code",
   "execution_count": 83,
   "id": "bc5266dd",
   "metadata": {},
   "outputs": [
    {
     "name": "stdout",
     "output_type": "stream",
     "text": [
      "['N/A', 'a', 'b', 'c', 'd', 'e', 'f', 'g', 'h', 'i', 'j', 'k', 'l', 'm', 'n', 'o', 'p', 'q', 'r', 's', 't', 'u', 'v', 'w', 'x', 'y', 'z']\n",
      "Label: w\n"
     ]
    },
    {
     "data": {
      "image/png": "[encoded data removed]",
      "text/plain": [
       "<Figure size 432x288 with 1 Axes>"
      ]
     },
     "metadata": {
      "needs_background": "light"
     },
     "output_type": "display_data"
    }
   ],
   "source": [
    "# Visualizing EMNIST\n",
    "\n",
    "# print classes\n",
    "print(train_set.classes)\n",
    "classes = train_set.classes\n",
    "# print label\n",
    "index = 0\n",
    "plt.imshow(train_set.data[index].T, cmap='Greys_r')\n",
    "print(\"Label: %s\" % train_set.classes[train_set.targets[index]])"
   ]
  },
  {
   "cell_type": "markdown",
   "id": "07941a2b",
   "metadata": {},
   "source": [
    "### Combining EMNIST with our Data"
   ]
  },
  {
   "cell_type": "code",
   "execution_count": 85,
   "id": "37e4eb8b",
   "metadata": {},
   "outputs": [
    {
     "name": "stdout",
     "output_type": "stream",
     "text": [
      "(50960, 1, 28, 28)\n",
      "(50960,)\n",
      "(14500, 1, 28, 28)\n",
      "(14500,)\n",
      "(21580, 1, 28, 28)\n",
      "(21580,)\n",
      "797\n",
      "227\n",
      "338\n"
     ]
    }
   ],
   "source": [
    "combined_batch_size=64\n",
    "\n",
    "combined_train = []\n",
    "combined_train_labels = []\n",
    "combined_val = []\n",
    "combined_val_labels = []\n",
    "combined_test = []\n",
    "combined_test_labels = []\n",
    "\n",
    "for inputs, labels in train_loader:\n",
    "    combined_train.append( inputs[0].detach().numpy() )\n",
    "    combined_train_labels.append( labels[0].item() )\n",
    "for inputs, labels in train_loader_collected:\n",
    "    for i in range(inputs.shape[0]):\n",
    "        combined_train.append( inputs[i].detach().numpy() )\n",
    "        combined_train_labels.append( labels[i].item() )\n",
    "        \n",
    "for inputs, labels in val_loader:\n",
    "    combined_val.append( inputs[0].detach().numpy() )\n",
    "    combined_val_labels.append( labels[0].item() )\n",
    "for inputs, labels in val_loader_collected:\n",
    "    for i in range(inputs.shape[0]):\n",
    "        combined_val.append( inputs[i].detach().numpy() )\n",
    "        combined_val_labels.append( labels[i].item() )\n",
    "        \n",
    "for inputs, labels in test_loader:\n",
    "    combined_test.append( inputs[0].detach().numpy() )\n",
    "    combined_test_labels.append( labels[0].item() )\n",
    "for inputs, labels in test_loader_collected:\n",
    "    for i in range(inputs.shape[0]):\n",
    "        combined_test.append( inputs[i].detach().numpy() )\n",
    "        combined_test_labels.append( labels[i].item() )\n",
    "\n",
    "combined_train = np.array(combined_train)\n",
    "combined_train_labels = np.array(combined_train_labels)\n",
    "combined_val = np.array(combined_val)\n",
    "combined_val_labels = np.array(combined_val_labels)\n",
    "combined_test = np.array(combined_test)\n",
    "combined_test_labels = np.array(combined_test_labels)\n",
    "\n",
    "print(combined_train.shape)\n",
    "print(combined_train_labels.shape)\n",
    "print(combined_val.shape)\n",
    "print(combined_val_labels.shape)\n",
    "print(combined_test.shape)\n",
    "print(combined_test_labels.shape)\n",
    "\n",
    "combined_train = torch.Tensor(combined_train)\n",
    "combined_train_labels = torch.Tensor(combined_train_labels)\n",
    "\n",
    "combined_val = torch.Tensor(combined_val)\n",
    "combined_val_labels = torch.Tensor(combined_val_labels)\n",
    "\n",
    "combined_test = torch.Tensor(combined_test)\n",
    "combined_test_labels = torch.Tensor(combined_test_labels)\n",
    "\n",
    "\n",
    "cobined_train_set = torch.utils.data.TensorDataset(combined_train, combined_train_labels)\n",
    "combined_train_loader = torch.utils.data.DataLoader(cobined_train_set, batch_size=combined_batch_size, shuffle=True)\n",
    "\n",
    "cobined_val_set = torch.utils.data.TensorDataset(combined_val, combined_val_labels)\n",
    "combined_val_loader = torch.utils.data.DataLoader(cobined_val_set, batch_size=combined_batch_size, shuffle=True)\n",
    "\n",
    "cobined_test_set = torch.utils.data.TensorDataset(combined_test, combined_test_labels)\n",
    "combined_test_loader = torch.utils.data.DataLoader(cobined_test_set, batch_size=combined_batch_size, shuffle=True)\n",
    "\n",
    "print(len(combined_train_loader))\n",
    "print(len(combined_val_loader))\n",
    "print(len(combined_test_loader))"
   ]
  },
  {
   "cell_type": "markdown",
   "id": "b241c0fb",
   "metadata": {},
   "source": [
    "## Making a new LetterCNN on the Combined Dataset"
   ]
  },
  {
   "cell_type": "code",
   "execution_count": 86,
   "id": "82ab2a0d",
   "metadata": {},
   "outputs": [
    {
     "data": {
      "application/vnd.jupyter.widget-view+json": {
       "model_id": "ace0ab2010314f76ba08f20a0df41d59",
       "version_major": 2,
       "version_minor": 0
      },
      "text/plain": [
       "  0%|          | 0/10 [00:00<?, ?it/s]"
      ]
     },
     "metadata": {},
     "output_type": "display_data"
    },
    {
     "name": "stdout",
     "output_type": "stream",
     "text": [
      "EPOCH 0\n",
      " Train loss: 1.27482\n",
      "   Val loss: 0.97111\n",
      "\n",
      "EPOCH 1\n",
      " Train loss: 0.77092\n",
      "   Val loss: 0.80433\n",
      "\n",
      "EPOCH 2\n",
      " Train loss: 0.61850\n",
      "   Val loss: 0.74387\n",
      "\n",
      "EPOCH 3\n",
      " Train loss: 0.53399\n",
      "   Val loss: 0.70506\n",
      "\n",
      "EPOCH 4\n",
      " Train loss: 0.48356\n",
      "   Val loss: 0.68088\n",
      "\n",
      "EPOCH 5\n",
      " Train loss: 0.44046\n",
      "   Val loss: 0.67761\n",
      "\n",
      "EPOCH 6\n",
      " Train loss: 0.41002\n",
      "   Val loss: 0.65830\n",
      "\n",
      "EPOCH 7\n",
      " Train loss: 0.38169\n",
      "   Val loss: 0.66840\n",
      "\n",
      "EPOCH 8\n",
      " Train loss: 0.35896\n",
      "   Val loss: 0.67321\n",
      "\n",
      "EPOCH 9\n",
      " Train loss: 0.33973\n",
      "   Val loss: 0.67902\n",
      "\n"
     ]
    }
   ],
   "source": [
    "model2 = letterCNN(classes_collected)\n",
    "criterion = nn.CrossEntropyLoss()\n",
    "optimizer = torch.optim.Adam(model2.parameters(), lr=1e-3)\n",
    "train_network(model2, combined_train_loader, combined_val_loader, criterion, optimizer, nepoch=10)"
   ]
  },
  {
   "cell_type": "code",
   "execution_count": 87,
   "id": "494689c1",
   "metadata": {},
   "outputs": [
    {
     "name": "stdout",
     "output_type": "stream",
     "text": [
      "Test accuracy: 84.690\n"
     ]
    },
    {
     "data": {
      "image/png": "[encoded data removed]",
      "text/plain": [
       "<Figure size 288x288 with 2 Axes>"
      ]
     },
     "metadata": {
      "needs_background": "light"
     },
     "output_type": "display_data"
    }
   ],
   "source": [
    "acc, true, pred = test_network(model2, combined_test_loader)\n",
    "print('Test accuracy: %0.3f' % acc)\n",
    "\n",
    "display_contingency_matrix(len(model2.classes), pred, true)"
   ]
  },
  {
   "cell_type": "markdown",
   "id": "e93d86db",
   "metadata": {},
   "source": [
    "We not get much better resuls. __TODO Explain more__"
   ]
  },
  {
   "cell_type": "markdown",
   "id": "30244e70",
   "metadata": {},
   "source": [
    "## Computational Experiment 1 - Regularization"
   ]
  },
  {
   "cell_type": "markdown",
   "id": "043d87a7",
   "metadata": {},
   "source": [
    "### 1a) Regularization through data augmentation"
   ]
  },
  {
   "cell_type": "code",
   "execution_count": 88,
   "id": "3b933371",
   "metadata": {},
   "outputs": [
    {
     "name": "stdout",
     "output_type": "stream",
     "text": [
      "torch.Size([1820, 1, 28, 28]) torch.Size([390, 1, 28, 28]) torch.Size([468, 1, 28, 28])\n",
      "torch.Size([1820]) torch.Size([390]) torch.Size([468])\n"
     ]
    }
   ],
   "source": [
    "src_dir = \"dataset_digital\"\n",
    "idx = 0\n",
    "\n",
    "imgs_train = []\n",
    "imgs_val = []\n",
    "imgs_test = []\n",
    "labels_train = []\n",
    "labels_val = []\n",
    "labels_test = []\n",
    "for f in glob.glob(os.path.join(src_dir, '*.png')):\n",
    "    ftitle, fext = os.path.splitext(os.path.basename(f))\n",
    "    letter = ftitle.split(\"_\")[1].lower()\n",
    "    im = Image.open(f).convert('L')\n",
    "\n",
    "    if idx < 1820:\n",
    "        imgs_train.append(transform(im).detach().numpy())\n",
    "        labels_train.append(letter_to_label[letter])\n",
    "    elif idx < 2210:\n",
    "        imgs_val.append(transform(im).detach().numpy())\n",
    "        labels_val.append(letter_to_label[letter])\n",
    "    else:\n",
    "        imgs_test.append(transform(im).detach().numpy())\n",
    "        labels_test.append(letter_to_label[letter])\n",
    "    \n",
    "    idx += 1\n",
    "        \n",
    "data_train = torch.tensor(imgs_train)\n",
    "data_val = torch.tensor(imgs_val)\n",
    "data_test = torch.tensor(imgs_test)\n",
    "labels_train = torch.tensor(np.array(labels_train))\n",
    "labels_val = torch.tensor(np.array(labels_val))\n",
    "labels_test = torch.tensor(np.array(labels_test))\n",
    "\n",
    "print(data_train.shape, data_val.shape, data_test.shape)\n",
    "print(labels_train.shape, labels_val.shape, labels_test.shape)"
   ]
  },
  {
   "cell_type": "code",
   "execution_count": 89,
   "id": "b1b7d805",
   "metadata": {},
   "outputs": [
    {
     "name": "stdout",
     "output_type": "stream",
     "text": [
      "['N/A', 'a', 'b', 'c', 'd', 'e', 'f', 'g', 'h', 'i', 'j', 'k', 'l', 'm', 'n', 'o', 'p', 'q', 'r', 's', 't', 'u', 'v', 'w', 'x', 'y', 'z']\n",
      "Label: q\n"
     ]
    },
    {
     "data": {
      "image/png": "[encoded data removed]",
      "text/plain": [
       "<Figure size 432x288 with 1 Axes>"
      ]
     },
     "metadata": {
      "needs_background": "light"
     },
     "output_type": "display_data"
    }
   ],
   "source": [
    "# Data visualization\n",
    "\n",
    "# print classes\n",
    "print(classes_collected)\n",
    "# print label\n",
    "index = 125\n",
    "plt.imshow(data_train[index].reshape((28, 28)), cmap='Greys_r')\n",
    "print(\"Label: %s\" % classes_collected[labels_train[index].item()])"
   ]
  },
  {
   "cell_type": "code",
   "execution_count": 90,
   "id": "153ee8b0",
   "metadata": {},
   "outputs": [],
   "source": [
    "batch_size = 64\n",
    "\n",
    "train_set_digital = torch.utils.data.TensorDataset(data_train, labels_train)\n",
    "val_set_digital = torch.utils.data.TensorDataset(data_val, labels_val)\n",
    "test_set_digital = torch.utils.data.TensorDataset(data_test, labels_test)\n",
    "\n",
    "train_loader_digital = torch.utils.data.DataLoader(train_set_digital, batch_size=batch_size, shuffle=True)\n",
    "val_loader_digital = torch.utils.data.DataLoader(val_set_digital, batch_size=batch_size, shuffle=True)\n",
    "test_loader_digital = torch.utils.data.DataLoader(test_set_digital, batch_size=batch_size, shuffle=True)"
   ]
  },
  {
   "cell_type": "code",
   "execution_count": 91,
   "id": "a24edab9",
   "metadata": {},
   "outputs": [
    {
     "name": "stdout",
     "output_type": "stream",
     "text": [
      "(52780, 1, 28, 28)\n",
      "(52780,)\n",
      "(14890, 1, 28, 28)\n",
      "(14890,)\n",
      "(22048, 1, 28, 28)\n",
      "(22048,)\n",
      "825\n",
      "233\n",
      "345\n"
     ]
    }
   ],
   "source": [
    "combined_batch_size=64\n",
    "\n",
    "combined_train = []\n",
    "combined_train_labels = []\n",
    "combined_val = []\n",
    "combined_val_labels = []\n",
    "combined_test = []\n",
    "combined_test_labels = []\n",
    "\n",
    "for inputs, labels in combined_train_loader:\n",
    "    for i in range(inputs.shape[0]):\n",
    "        combined_train.append( inputs[i].detach().numpy() )\n",
    "        combined_train_labels.append( labels[i].item() )\n",
    "for inputs, labels in train_loader_digital:\n",
    "    for i in range(inputs.shape[0]):\n",
    "        combined_train.append( inputs[i].detach().numpy() )\n",
    "        combined_train_labels.append( labels[i].item() )\n",
    "        \n",
    "for inputs, labels in combined_val_loader:\n",
    "    for i in range(inputs.shape[0]):\n",
    "        combined_val.append( inputs[i].detach().numpy() )\n",
    "        combined_val_labels.append( labels[i].item() )\n",
    "for inputs, labels in val_loader_digital:\n",
    "    for i in range(inputs.shape[0]):\n",
    "        combined_val.append( inputs[i].detach().numpy() )\n",
    "        combined_val_labels.append( labels[i].item() )\n",
    "        \n",
    "for inputs, labels in combined_test_loader:\n",
    "    for i in range(inputs.shape[0]):\n",
    "        combined_test.append( inputs[i].detach().numpy() )\n",
    "        combined_test_labels.append( labels[i].item() )\n",
    "for inputs, labels in test_loader_digital:\n",
    "    for i in range(inputs.shape[0]):\n",
    "        combined_test.append( inputs[i].detach().numpy() )\n",
    "        combined_test_labels.append( labels[i].item() )\n",
    "\n",
    "combined_train = np.array(combined_train)\n",
    "combined_train_labels = np.array(combined_train_labels)\n",
    "combined_val = np.array(combined_val)\n",
    "combined_val_labels = np.array(combined_val_labels)\n",
    "combined_test = np.array(combined_test)\n",
    "combined_test_labels = np.array(combined_test_labels)\n",
    "\n",
    "print(combined_train.shape)\n",
    "print(combined_train_labels.shape)\n",
    "print(combined_val.shape)\n",
    "print(combined_val_labels.shape)\n",
    "print(combined_test.shape)\n",
    "print(combined_test_labels.shape)\n",
    "\n",
    "combined_train = torch.Tensor(combined_train)\n",
    "combined_train_labels = torch.Tensor(combined_train_labels)\n",
    "\n",
    "combined_val = torch.Tensor(combined_val)\n",
    "combined_val_labels = torch.Tensor(combined_val_labels)\n",
    "\n",
    "combined_test = torch.Tensor(combined_test)\n",
    "combined_test_labels = torch.Tensor(combined_test_labels)\n",
    "\n",
    "cobined_train_set = torch.utils.data.TensorDataset(combined_train, combined_train_labels)\n",
    "combined_train_digital_loader = torch.utils.data.DataLoader(cobined_train_set, batch_size=combined_batch_size, shuffle=True)\n",
    "\n",
    "cobined_val_set = torch.utils.data.TensorDataset(combined_val, combined_val_labels)\n",
    "combined_val_digital_loader = torch.utils.data.DataLoader(cobined_val_set, batch_size=combined_batch_size, shuffle=True)\n",
    "\n",
    "cobined_test_set = torch.utils.data.TensorDataset(combined_test, combined_test_labels)\n",
    "combined_test_digital_loader = torch.utils.data.DataLoader(cobined_test_set, batch_size=combined_batch_size, shuffle=True)\n",
    "\n",
    "print(len(combined_train_digital_loader))\n",
    "print(len(combined_val_digital_loader))\n",
    "print(len(combined_test_digital_loader))"
   ]
  },
  {
   "cell_type": "code",
   "execution_count": 92,
   "id": "0f8f8ebc",
   "metadata": {},
   "outputs": [
    {
     "data": {
      "application/vnd.jupyter.widget-view+json": {
       "model_id": "9101642a842945a48e94ede44a61a3db",
       "version_major": 2,
       "version_minor": 0
      },
      "text/plain": [
       "  0%|          | 0/10 [00:00<?, ?it/s]"
      ]
     },
     "metadata": {},
     "output_type": "display_data"
    },
    {
     "name": "stdout",
     "output_type": "stream",
     "text": [
      "EPOCH 0\n",
      " Train loss: 1.29926\n",
      "   Val loss: 0.94409\n",
      "\n",
      "EPOCH 1\n",
      " Train loss: 0.75805\n",
      "   Val loss: 0.78495\n",
      "\n",
      "EPOCH 2\n",
      " Train loss: 0.61741\n",
      "   Val loss: 0.72486\n",
      "\n",
      "EPOCH 3\n",
      " Train loss: 0.54497\n",
      "   Val loss: 0.70413\n",
      "\n",
      "EPOCH 4\n",
      " Train loss: 0.49794\n",
      "   Val loss: 0.68886\n",
      "\n",
      "EPOCH 5\n",
      " Train loss: 0.46684\n",
      "   Val loss: 0.69040\n",
      "\n",
      "EPOCH 6\n",
      " Train loss: 0.44041\n",
      "   Val loss: 0.67935\n",
      "\n",
      "EPOCH 7\n",
      " Train loss: 0.41486\n",
      "   Val loss: 0.67960\n",
      "\n",
      "EPOCH 8\n",
      " Train loss: 0.39910\n",
      "   Val loss: 0.68050\n",
      "\n",
      "EPOCH 9\n",
      " Train loss: 0.38357\n",
      "   Val loss: 0.67385\n",
      "\n"
     ]
    }
   ],
   "source": [
    "model_digital = letterCNN(classes_collected)\n",
    "criterion = nn.CrossEntropyLoss()\n",
    "optimizer = torch.optim.Adam(model_digital.parameters(), lr=1e-3)\n",
    "train_network(model_digital, combined_train_digital_loader, combined_val_digital_loader, criterion, optimizer, nepoch=10)"
   ]
  },
  {
   "cell_type": "code",
   "execution_count": 93,
   "id": "c91453a5",
   "metadata": {},
   "outputs": [
    {
     "name": "stdout",
     "output_type": "stream",
     "text": [
      "Test accuracy: 84.810\n"
     ]
    },
    {
     "data": {
      "image/png": "[encoded data removed]",
      "text/plain": [
       "<Figure size 288x288 with 2 Axes>"
      ]
     },
     "metadata": {
      "needs_background": "light"
     },
     "output_type": "display_data"
    }
   ],
   "source": [
    "acc, true, pred = test_network(model_digital, combined_test_digital_loader)\n",
    "print('Test accuracy: %0.3f' % acc)\n",
    "\n",
    "display_contingency_matrix(len(model_digital.classes), pred, true)"
   ]
  },
  {
   "cell_type": "markdown",
   "id": "3a7ff753",
   "metadata": {},
   "source": [
    "### 1b) Regularization through dropout"
   ]
  },
  {
   "cell_type": "code",
   "execution_count": 94,
   "id": "cc3233da",
   "metadata": {},
   "outputs": [],
   "source": [
    "class letterCNNDropout(nn.Module):\n",
    "    def __init__(self, classes):\n",
    "        super().__init__()\n",
    "        self.classes = classes\n",
    "        self.layers = nn.Sequential(\n",
    "            nn.Conv2d(in_channels=1, out_channels=8, kernel_size=(5,5), stride=1),\n",
    "            nn.MaxPool2d(kernel_size=(2,2), stride=2),\n",
    "            nn.ReLU(),\n",
    "            nn.Flatten(),\n",
    "            nn.Dropout(p=0.2),\n",
    "            nn.Linear(1152, len(self.classes))\n",
    "        )\n",
    "            \n",
    "    def forward(self, x):\n",
    "        output = self.layers(x)\n",
    "        return output"
   ]
  },
  {
   "cell_type": "code",
   "execution_count": 95,
   "id": "57d717f2",
   "metadata": {},
   "outputs": [
    {
     "name": "stdout",
     "output_type": "stream",
     "text": [
      "torch.Size([64, 1, 28, 28])\n",
      "torch.Size([64])\n",
      "torch.float32 torch.int64\n",
      "torch.Size([64, 27])\n"
     ]
    }
   ],
   "source": [
    "# Testing the model above, TODO remove before submission\n",
    "model_test = letterCNNDropout(classes_collected)\n",
    "for inputs, labels in train_loader_collected:\n",
    "    print(inputs.shape)\n",
    "    print(labels.shape)\n",
    "    print(inputs.dtype, labels.dtype)\n",
    "    outputs = model_test.forward(inputs)\n",
    "    print(outputs.shape)\n",
    "    break"
   ]
  },
  {
   "cell_type": "code",
   "execution_count": 96,
   "id": "11cd0983",
   "metadata": {},
   "outputs": [
    {
     "data": {
      "application/vnd.jupyter.widget-view+json": {
       "model_id": "f133028843ca4f348b7f05d2542d96f7",
       "version_major": 2,
       "version_minor": 0
      },
      "text/plain": [
       "  0%|          | 0/10 [00:00<?, ?it/s]"
      ]
     },
     "metadata": {},
     "output_type": "display_data"
    },
    {
     "name": "stdout",
     "output_type": "stream",
     "text": [
      "EPOCH 0\n",
      " Train loss: 1.35187\n",
      "   Val loss: 1.07811\n",
      "\n",
      "EPOCH 1\n",
      " Train loss: 0.90698\n",
      "   Val loss: 0.94053\n",
      "\n",
      "EPOCH 2\n",
      " Train loss: 0.77025\n",
      "   Val loss: 0.86742\n",
      "\n",
      "EPOCH 3\n",
      " Train loss: 0.67604\n",
      "   Val loss: 0.82890\n",
      "\n",
      "EPOCH 4\n",
      " Train loss: 0.60566\n",
      "   Val loss: 0.78560\n",
      "\n",
      "EPOCH 5\n",
      " Train loss: 0.55673\n",
      "   Val loss: 0.78442\n",
      "\n",
      "EPOCH 6\n",
      " Train loss: 0.52148\n",
      "   Val loss: 0.75142\n",
      "\n",
      "EPOCH 7\n",
      " Train loss: 0.49744\n",
      "   Val loss: 0.74392\n",
      "\n",
      "EPOCH 8\n",
      " Train loss: 0.47629\n",
      "   Val loss: 0.74358\n",
      "\n",
      "EPOCH 9\n",
      " Train loss: 0.45804\n",
      "   Val loss: 0.73301\n",
      "\n"
     ]
    }
   ],
   "source": [
    "model_dropout = letterCNNDropout(classes_collected)\n",
    "criterion = nn.CrossEntropyLoss()\n",
    "optimizer = torch.optim.Adam(model_dropout.parameters(), lr=1e-3)\n",
    "train_network(model_dropout, combined_train_loader, combined_val_loader, criterion, optimizer, nepoch=10)"
   ]
  },
  {
   "cell_type": "code",
   "execution_count": 97,
   "id": "6b588a57",
   "metadata": {},
   "outputs": [
    {
     "name": "stdout",
     "output_type": "stream",
     "text": [
      "Test accuracy: 82.841\n"
     ]
    },
    {
     "data": {
      "image/png": "[encoded data removed]",
      "text/plain": [
       "<Figure size 288x288 with 2 Axes>"
      ]
     },
     "metadata": {
      "needs_background": "light"
     },
     "output_type": "display_data"
    }
   ],
   "source": [
    "acc, true, pred = test_network(model_dropout, combined_test_loader)\n",
    "print('Test accuracy: %0.3f' % acc)\n",
    "\n",
    "display_contingency_matrix(len(model_dropout.classes), pred, true)"
   ]
  },
  {
   "cell_type": "markdown",
   "id": "4c48a0bb",
   "metadata": {},
   "source": [
    "### 1c) Regularization through Average Pooling"
   ]
  },
  {
   "cell_type": "code",
   "execution_count": 132,
   "id": "ef778ad9",
   "metadata": {},
   "outputs": [],
   "source": [
    "class letterCNNAvgPool(nn.Module):\n",
    "    def __init__(self, classes):\n",
    "        super().__init__()\n",
    "        self.classes = classes\n",
    "        self.layers = nn.Sequential(\n",
    "            nn.Conv2d(in_channels=1, out_channels=8, kernel_size=(5,5), stride=1),\n",
    "            nn.AvgPool2d(kernel_size=(2,2), stride=2),\n",
    "            nn.ReLU(),\n",
    "            nn.Flatten(),\n",
    "            nn.Linear(1152, len(self.classes))\n",
    "        )\n",
    "            \n",
    "    def forward(self, x):\n",
    "        output = self.layers(x)\n",
    "        return output"
   ]
  },
  {
   "cell_type": "code",
   "execution_count": 133,
   "id": "7f0282b8",
   "metadata": {},
   "outputs": [
    {
     "name": "stdout",
     "output_type": "stream",
     "text": [
      "torch.Size([64, 1, 28, 28])\n",
      "torch.Size([64])\n",
      "torch.float32 torch.int64\n",
      "torch.Size([64, 27])\n"
     ]
    }
   ],
   "source": [
    "# Testing the model above, TODO remove before submission\n",
    "model_test = letterCNNAvgPool(classes_collected)\n",
    "for inputs, labels in train_loader_collected:\n",
    "    print(inputs.shape)\n",
    "    print(labels.shape)\n",
    "    print(inputs.dtype, labels.dtype)\n",
    "    outputs = model_test.forward(inputs)\n",
    "    print(outputs.shape)\n",
    "    break"
   ]
  },
  {
   "cell_type": "code",
   "execution_count": 100,
   "id": "73d633d6",
   "metadata": {},
   "outputs": [
    {
     "data": {
      "application/vnd.jupyter.widget-view+json": {
       "model_id": "5593c3ade9c54b25ac054072899eea0a",
       "version_major": 2,
       "version_minor": 0
      },
      "text/plain": [
       "  0%|          | 0/10 [00:00<?, ?it/s]"
      ]
     },
     "metadata": {},
     "output_type": "display_data"
    },
    {
     "name": "stdout",
     "output_type": "stream",
     "text": [
      "EPOCH 0\n",
      " Train loss: 1.38812\n",
      "   Val loss: 1.11802\n",
      "\n",
      "EPOCH 1\n",
      " Train loss: 0.87410\n",
      "   Val loss: 0.87058\n",
      "\n",
      "EPOCH 2\n",
      " Train loss: 0.67954\n",
      "   Val loss: 0.81096\n",
      "\n",
      "EPOCH 3\n",
      " Train loss: 0.58831\n",
      "   Val loss: 0.78798\n",
      "\n",
      "EPOCH 4\n",
      " Train loss: 0.53419\n",
      "   Val loss: 0.77025\n",
      "\n",
      "EPOCH 5\n",
      " Train loss: 0.49768\n",
      "   Val loss: 0.76649\n",
      "\n",
      "EPOCH 6\n",
      " Train loss: 0.46873\n",
      "   Val loss: 0.74187\n",
      "\n",
      "EPOCH 7\n",
      " Train loss: 0.44289\n",
      "   Val loss: 0.74513\n",
      "\n",
      "EPOCH 8\n",
      " Train loss: 0.42327\n",
      "   Val loss: 0.74891\n",
      "\n",
      "EPOCH 9\n",
      " Train loss: 0.40370\n",
      "   Val loss: 0.73448\n",
      "\n"
     ]
    }
   ],
   "source": [
    "model_avgpool = letterCNNAvgPool(classes_collected)\n",
    "criterion = nn.CrossEntropyLoss()\n",
    "optimizer = torch.optim.Adam(model_avgpool.parameters(), lr=1e-3)\n",
    "train_network(model_avgpool, combined_train_loader, combined_val_loader, criterion, optimizer, nepoch=10)"
   ]
  },
  {
   "cell_type": "code",
   "execution_count": 107,
   "id": "65fbf339",
   "metadata": {},
   "outputs": [
    {
     "name": "stdout",
     "output_type": "stream",
     "text": [
      "Test accuracy: 83.605\n"
     ]
    },
    {
     "data": {
      "image/png": "[encoded data removed]",
      "text/plain": [
       "<Figure size 288x288 with 2 Axes>"
      ]
     },
     "metadata": {
      "needs_background": "light"
     },
     "output_type": "display_data"
    }
   ],
   "source": [
    "acc, true, pred = test_network(model_avgpool, combined_test_loader)\n",
    "print('Test accuracy: %0.3f' % acc)\n",
    "\n",
    "display_contingency_matrix(len(model_avgpool.classes), pred, true)"
   ]
  },
  {
   "cell_type": "markdown",
   "id": "c1de6153",
   "metadata": {},
   "source": [
    "### 1d) Regularization through Early Stopping"
   ]
  },
  {
   "cell_type": "code",
   "execution_count": 114,
   "id": "9a0636f4",
   "metadata": {},
   "outputs": [],
   "source": [
    "def train_network_early_stopping(model, train_loader, val_loader, criterion, optimizer, nepoch=100):\n",
    "    prev_val_losses = [0] * 5\n",
    "    try:\n",
    "        for epoch in tqdm(range(nepoch)):\n",
    "            print('EPOCH %d'%epoch)\n",
    "            total_loss = 0\n",
    "            count = 0\n",
    "            for inputs, labels in train_loader:\n",
    "                optimizer.zero_grad()\n",
    "                outputs = model.forward(inputs)\n",
    "                labels = labels.type(torch.long)\n",
    "                loss = criterion(outputs, labels)\n",
    "                loss.backward()\n",
    "                optimizer.step()\n",
    "                total_loss += loss.item()\n",
    "                count += 1\n",
    "            print('{:>12s} {:>7.5f}'.format('Train loss:', total_loss/count))\n",
    "            with torch.no_grad():\n",
    "                total_loss = 0\n",
    "                count = 0\n",
    "                for inputs, labels in val_loader:\n",
    "                    outputs = model.forward(inputs)\n",
    "                    labels = labels.type(torch.long)\n",
    "                    loss = criterion(outputs, labels)\n",
    "                    total_loss += loss.item()\n",
    "                    count += 1\n",
    "                prev_val_losses[epoch % 5] = total_loss/count\n",
    "                print('{:>12s} {:>7.5f}'.format('Val loss:', total_loss/count))\n",
    "            if epoch > 5:\n",
    "                prev_error_mean = sum(prev_val_losses) / len(prev_val_losses)\n",
    "                if prev_error_mean > 0.80:\n",
    "                    # implementing early stopping for regularization\n",
    "                    # note that 0.65 here is a hyperparameter\n",
    "                    print('Early stopping in epoch ' + str(epoch) + ' because the average of last 5 validation error was ' + str(prev_error_mean))\n",
    "                    break\n",
    "            print()\n",
    "    except KeyboardInterrupt:\n",
    "        print('Exiting from training early')\n",
    "    return"
   ]
  },
  {
   "cell_type": "code",
   "execution_count": 115,
   "id": "0af5338e",
   "metadata": {},
   "outputs": [
    {
     "data": {
      "application/vnd.jupyter.widget-view+json": {
       "model_id": "3355b1a55bb94b1eaca23dcf8285971e",
       "version_major": 2,
       "version_minor": 0
      },
      "text/plain": [
       "  0%|          | 0/50 [00:00<?, ?it/s]"
      ]
     },
     "metadata": {},
     "output_type": "display_data"
    },
    {
     "name": "stdout",
     "output_type": "stream",
     "text": [
      "EPOCH 0\n",
      " Train loss: 1.22875\n",
      "   Val loss: 0.94236\n",
      "\n",
      "EPOCH 1\n",
      " Train loss: 0.72867\n",
      "   Val loss: 0.79194\n",
      "\n",
      "EPOCH 2\n",
      " Train loss: 0.59136\n",
      "   Val loss: 0.72480\n",
      "\n",
      "EPOCH 3\n",
      " Train loss: 0.51755\n",
      "   Val loss: 0.69778\n",
      "\n",
      "EPOCH 4\n",
      " Train loss: 0.47059\n",
      "   Val loss: 0.69379\n",
      "\n",
      "EPOCH 5\n",
      " Train loss: 0.43606\n",
      "   Val loss: 0.69208\n",
      "\n",
      "EPOCH 6\n",
      " Train loss: 0.40962\n",
      "   Val loss: 0.68342\n",
      "\n",
      "EPOCH 7\n",
      " Train loss: 0.38562\n",
      "   Val loss: 0.67404\n",
      "\n",
      "EPOCH 8\n",
      " Train loss: 0.36843\n",
      "   Val loss: 0.68288\n",
      "\n",
      "EPOCH 9\n",
      " Train loss: 0.35232\n",
      "   Val loss: 0.68439\n",
      "\n",
      "EPOCH 10\n",
      " Train loss: 0.33676\n",
      "   Val loss: 0.69446\n",
      "\n",
      "EPOCH 11\n",
      " Train loss: 0.32380\n",
      "   Val loss: 0.69565\n",
      "\n",
      "EPOCH 12\n",
      " Train loss: 0.31301\n",
      "   Val loss: 0.70968\n",
      "\n",
      "EPOCH 13\n",
      " Train loss: 0.30343\n",
      "   Val loss: 0.70069\n",
      "\n",
      "EPOCH 14\n",
      " Train loss: 0.29496\n",
      "   Val loss: 0.71390\n",
      "\n",
      "EPOCH 15\n",
      " Train loss: 0.28404\n",
      "   Val loss: 0.72711\n",
      "\n",
      "EPOCH 16\n",
      " Train loss: 0.27770\n",
      "   Val loss: 0.73292\n",
      "\n",
      "EPOCH 17\n",
      " Train loss: 0.27161\n",
      "   Val loss: 0.73080\n",
      "\n",
      "EPOCH 18\n",
      " Train loss: 0.26146\n",
      "   Val loss: 0.75122\n",
      "\n",
      "EPOCH 19\n",
      " Train loss: 0.25700\n",
      "   Val loss: 0.77293\n",
      "\n",
      "EPOCH 20\n",
      " Train loss: 0.25017\n",
      "   Val loss: 0.74694\n",
      "\n",
      "EPOCH 21\n",
      " Train loss: 0.24475\n",
      "   Val loss: 0.77390\n",
      "\n",
      "EPOCH 22\n",
      " Train loss: 0.23948\n",
      "   Val loss: 0.76521\n",
      "\n",
      "EPOCH 23\n",
      " Train loss: 0.23383\n",
      "   Val loss: 0.77569\n",
      "\n",
      "EPOCH 24\n",
      " Train loss: 0.22966\n",
      "   Val loss: 0.78390\n",
      "\n",
      "EPOCH 25\n",
      " Train loss: 0.22433\n",
      "   Val loss: 0.77160\n",
      "\n",
      "EPOCH 26\n",
      " Train loss: 0.21929\n",
      "   Val loss: 0.80646\n",
      "\n",
      "EPOCH 27\n",
      " Train loss: 0.21514\n",
      "   Val loss: 0.80647\n",
      "\n",
      "EPOCH 28\n",
      " Train loss: 0.21201\n",
      "   Val loss: 0.79946\n",
      "\n",
      "EPOCH 29\n",
      " Train loss: 0.20797\n",
      "   Val loss: 0.80988\n",
      "\n",
      "EPOCH 30\n",
      " Train loss: 0.20474\n",
      "   Val loss: 0.81783\n",
      "Early stopping in epoch 30 because the average of last 5 validation error was 0.8080205110463801\n"
     ]
    }
   ],
   "source": [
    "model_early_stopping = letterCNN(classes_collected)\n",
    "criterion = nn.CrossEntropyLoss()\n",
    "optimizer = torch.optim.Adam(model_early_stopping.parameters(), lr=1e-3)\n",
    "train_network_early_stopping(model_early_stopping, combined_train_loader, combined_val_loader, criterion, optimizer, nepoch=50)"
   ]
  },
  {
   "cell_type": "code",
   "execution_count": 116,
   "id": "ebcc1dbf",
   "metadata": {},
   "outputs": [
    {
     "name": "stdout",
     "output_type": "stream",
     "text": [
      "Test accuracy: 84.917\n"
     ]
    },
    {
     "data": {
      "image/png": "[encoded data removed]",
      "text/plain": [
       "<Figure size 288x288 with 2 Axes>"
      ]
     },
     "metadata": {
      "needs_background": "light"
     },
     "output_type": "display_data"
    }
   ],
   "source": [
    "acc, true, pred = test_network(model_early_stopping, combined_test_loader)\n",
    "print('Test accuracy: %0.3f' % acc)\n",
    "\n",
    "display_contingency_matrix(len(model_early_stopping.classes), pred, true)"
   ]
  },
  {
   "cell_type": "markdown",
   "id": "d2dfbb46",
   "metadata": {},
   "source": [
    "## Computational Experiment 2 - Architecture"
   ]
  },
  {
   "cell_type": "markdown",
   "id": "8be1b441",
   "metadata": {},
   "source": [
    "### Smaller Kernel Size"
   ]
  },
  {
   "cell_type": "code",
   "execution_count": 17,
   "id": "ea65ac78",
   "metadata": {},
   "outputs": [],
   "source": [
    "class modelCMS(nn.Module):\n",
    "    def __init__(self, classes):\n",
    "        super().__init__()\n",
    "        self.classes = classes\n",
    "        self.layers = nn.Sequential(\n",
    "            nn.Conv2d(in_channels=1, out_channels=8, kernel_size=(3,3), stride=1),\n",
    "            nn.MaxPool2d(kernel_size=(2,2), stride=2),\n",
    "            nn.ReLU(),\n",
    "            nn.Flatten(),\n",
    "            nn.Linear(1352, len(self.classes))\n",
    "        )\n",
    "            \n",
    "\n",
    "    def forward(self, x):\n",
    "        return self.layers(x)"
   ]
  },
  {
   "cell_type": "code",
   "execution_count": 18,
   "id": "1a14c8e2",
   "metadata": {},
   "outputs": [
    {
     "data": {
      "application/vnd.jupyter.widget-view+json": {
       "model_id": "c6ae2a3954f2482ba90c00d620a4a520",
       "version_major": 2,
       "version_minor": 0
      },
      "text/plain": [
       "  0%|          | 0/10 [00:00<?, ?it/s]"
      ]
     },
     "metadata": {},
     "output_type": "display_data"
    },
    {
     "name": "stdout",
     "output_type": "stream",
     "text": [
      "EPOCH 0\n",
      " Train loss: 1.23041\n",
      "   Val loss: 0.97628\n",
      "\n",
      "EPOCH 1\n",
      " Train loss: 0.87156\n",
      "   Val loss: 0.82428\n",
      "\n",
      "EPOCH 2\n",
      " Train loss: 0.71721\n",
      "   Val loss: 0.68793\n",
      "\n",
      "EPOCH 3\n",
      " Train loss: 0.61153\n",
      "   Val loss: 0.61068\n",
      "\n",
      "EPOCH 4\n",
      " Train loss: 0.54508\n",
      "   Val loss: 0.57422\n",
      "\n",
      "EPOCH 5\n",
      " Train loss: 0.50417\n",
      "   Val loss: 0.53292\n",
      "\n",
      "EPOCH 6\n",
      " Train loss: 0.47292\n",
      "   Val loss: 0.50506\n",
      "\n",
      "EPOCH 7\n",
      " Train loss: 0.44726\n",
      "   Val loss: 0.50167\n",
      "\n",
      "EPOCH 8\n",
      " Train loss: 0.42715\n",
      "   Val loss: 0.48336\n",
      "\n",
      "EPOCH 9\n",
      " Train loss: 0.40840\n",
      "   Val loss: 0.46216\n",
      "\n"
     ]
    }
   ],
   "source": [
    "model1s = modelCMS(classes)\n",
    "criterion = nn.CrossEntropyLoss()\n",
    "optimizer = torch.optim.Adam(model1s.parameters(), lr=.001)\n",
    "train_network(model1s, train_loader, val_loader, criterion, optimizer, nepoch=10)"
   ]
  },
  {
   "cell_type": "code",
   "execution_count": 19,
   "id": "f5d1cfe1",
   "metadata": {},
   "outputs": [
    {
     "name": "stdout",
     "output_type": "stream",
     "text": [
      "Test accuracy: 85.981\n"
     ]
    },
    {
     "data": {
      "image/png": "[encoded data removed]",
      "text/plain": [
       "<Figure size 288x288 with 2 Axes>"
      ]
     },
     "metadata": {
      "needs_background": "light"
     },
     "output_type": "display_data"
    }
   ],
   "source": [
    "acc, true, pred = test_network(model1s, test_loader)\n",
    "print('Test accuracy: %0.3f' % acc)\n",
    "\n",
    "display_contingency_matrix(len(model1s.classes), pred, true)"
   ]
  },
  {
   "cell_type": "markdown",
   "id": "d10205d8",
   "metadata": {},
   "source": [
    "### Double Convolutional Layer"
   ]
  },
  {
   "cell_type": "code",
   "execution_count": 142,
   "id": "69c8a580",
   "metadata": {},
   "outputs": [
    {
     "data": {
      "text/plain": [
       "[]"
      ]
     },
     "execution_count": 142,
     "metadata": {},
     "output_type": "execute_result"
    },
    {
     "data": {
      "image/png": "[encoded data removed]",
      "text/plain": [
       "<Figure size 504x504 with 8 Axes>"
      ]
     },
     "metadata": {},
     "output_type": "display_data"
    }
   ],
   "source": [
    "# first, extract the weights from the learned model\n",
    "conv1wt = model2.layers[0].weight.data.numpy()\n",
    "\n",
    "# then, visualize them!\n",
    "_, axes = plt.subplots(2, 4, figsize=(7,7))\n",
    "kernel = 0\n",
    "for i in range(2):\n",
    "    for j in range(4):\n",
    "        axes[i,j].matshow(conv1wt.squeeze()[kernel], cmap='gray')\n",
    "        kernel += 1\n",
    "        title = 'Kernel ' + str(kernel)\n",
    "        axes[i,j].set_title(title)\n",
    "plt.setp(axes, xticks=[], yticks=[])"
   ]
  },
  {
   "cell_type": "code",
   "execution_count": 143,
   "id": "5d4dc8c9",
   "metadata": {},
   "outputs": [],
   "source": [
    "class letterCNNDouble(nn.Module):\n",
    "    def __init__(self, classes):\n",
    "        super().__init__()\n",
    "        self.classes = classes\n",
    "        self.layers = nn.Sequential(\n",
    "            nn.Conv2d(in_channels=1, out_channels=8, kernel_size=(5,5), stride=1),\n",
    "            nn.MaxPool2d(kernel_size=(2,2), stride=2),\n",
    "            nn.ReLU(),\n",
    "            nn.Conv2d(in_channels=8, out_channels=64, kernel_size=(5,5), stride=1),\n",
    "            nn.MaxPool2d(kernel_size=(2,2), stride=2),\n",
    "            nn.ReLU(),\n",
    "            nn.Flatten(),\n",
    "            nn.Linear(1024, len(self.classes))\n",
    "        )\n",
    "            \n",
    "    def forward(self, x):\n",
    "        return self.layers(x)"
   ]
  },
  {
   "cell_type": "code",
   "execution_count": 144,
   "id": "b2dde111",
   "metadata": {},
   "outputs": [
    {
     "data": {
      "application/vnd.jupyter.widget-view+json": {
       "model_id": "20c85924158e4b6aa2a6231061ed8284",
       "version_major": 2,
       "version_minor": 0
      },
      "text/plain": [
       "  0%|          | 0/10 [00:00<?, ?it/s]"
      ]
     },
     "metadata": {},
     "output_type": "display_data"
    },
    {
     "name": "stdout",
     "output_type": "stream",
     "text": [
      "EPOCH 0\n",
      " Train loss: 0.99217\n",
      "   Val loss: 0.66006\n",
      "\n",
      "EPOCH 1\n",
      " Train loss: 0.42931\n",
      "   Val loss: 0.52464\n",
      "\n",
      "EPOCH 2\n",
      " Train loss: 0.31952\n",
      "   Val loss: 0.52790\n",
      "\n",
      "EPOCH 3\n",
      " Train loss: 0.26398\n",
      "   Val loss: 0.46270\n",
      "\n",
      "EPOCH 4\n",
      " Train loss: 0.22833\n",
      "   Val loss: 0.44597\n",
      "\n",
      "EPOCH 5\n",
      " Train loss: 0.20508\n",
      "   Val loss: 0.45339\n",
      "\n",
      "EPOCH 6\n",
      " Train loss: 0.18317\n",
      "   Val loss: 0.46079\n",
      "\n",
      "EPOCH 7\n",
      " Train loss: 0.16793\n",
      "   Val loss: 0.45281\n",
      "\n",
      "EPOCH 8\n",
      " Train loss: 0.15031\n",
      "   Val loss: 0.46952\n",
      "\n",
      "EPOCH 9\n",
      " Train loss: 0.13975\n",
      "   Val loss: 0.50114\n",
      "\n"
     ]
    }
   ],
   "source": [
    "model_double_layer = letterCNNDouble(classes_collected)\n",
    "criterion = nn.CrossEntropyLoss()\n",
    "optimizer = torch.optim.Adam(model_double_layer.parameters(), lr=1e-3)\n",
    "train_network(model_double_layer, combined_train_loader, combined_val_loader, criterion, optimizer, nepoch=10)"
   ]
  },
  {
   "cell_type": "code",
   "execution_count": 145,
   "id": "6fe90fd9",
   "metadata": {},
   "outputs": [
    {
     "name": "stdout",
     "output_type": "stream",
     "text": [
      "Test accuracy: 89.430\n"
     ]
    },
    {
     "data": {
      "image/png": "[encoded data removed]",
      "text/plain": [
       "<Figure size 288x288 with 2 Axes>"
      ]
     },
     "metadata": {
      "needs_background": "light"
     },
     "output_type": "display_data"
    }
   ],
   "source": [
    "acc, true, pred = test_network(model_double_layer, combined_test_loader)\n",
    "print('Test accuracy: %0.3f' % acc)\n",
    "\n",
    "display_contingency_matrix(len(model_double_layer.classes), pred, true)"
   ]
  },
  {
   "cell_type": "code",
   "execution_count": 163,
   "id": "7ee8adbe",
   "metadata": {},
   "outputs": [
    {
     "name": "stdout",
     "output_type": "stream",
     "text": [
      "(64, 8, 5, 5)\n",
      "(8, 5, 5)\n"
     ]
    },
    {
     "data": {
      "image/png": "[encoded data removed]",
      "text/plain": [
       "<Figure size 504x504 with 8 Axes>"
      ]
     },
     "metadata": {},
     "output_type": "display_data"
    }
   ],
   "source": [
    "# first, extract the weights from the learned model\n",
    "conv2wts = model_double_layer.layers[3].weight.data.numpy()\n",
    "print(conv2wts.shape)\n",
    "conv2wt = conv2wts[0]\n",
    "print(conv2wt.shape)\n",
    "\n",
    "# then, visualize them!\n",
    "_, axes = plt.subplots(2, 4, figsize=(7,7))\n",
    "kernel = 0\n",
    "for i in range(2):\n",
    "    for j in range(4):\n",
    "        img = conv2wt[kernel]\n",
    "#         print(img.shape)\n",
    "        axes[i,j].matshow(img, cmap='gray')\n",
    "        kernel += 1\n",
    "        title = 'Kernel ' + str(kernel)\n",
    "        axes[i,j].set_title(title)\n",
    "plt.setp(axes, xticks=[], yticks=[])\n",
    "plt.tight_layout()"
   ]
  },
  {
   "cell_type": "code",
   "execution_count": null,
   "id": "9b1574ae",
   "metadata": {},
   "outputs": [],
   "source": [
    "# first, extract the weights from the learned model\n",
    "conv2wts = model_double_layer.layers[3].weight.data.numpy()\n",
    "print(conv2wts.shape)\n",
    "\n",
    "# then, visualize them!\n",
    "_, axes = plt.subplots(8, 8, figsize=(7,7))\n",
    "kernel = 0\n",
    "for i in range(8):\n",
    "    for j in range(8):\n",
    "        img = conv2wt[kernel]\n",
    "#         print(img.shape)\n",
    "        axes[i,j].matshow(img, cmap='gray')\n",
    "        kernel += 1\n",
    "        title = 'Kernel ' + str(kernel)\n",
    "        axes[i,j].set_title(title)\n",
    "plt.setp(axes, xticks=[], yticks=[])\n",
    "plt.tight_layout()"
   ]
  },
  {
   "cell_type": "markdown",
   "id": "03602431",
   "metadata": {},
   "source": [
    "## Visualizing Learned Kernels"
   ]
  },
  {
   "cell_type": "code",
   "execution_count": 153,
   "id": "41942f4b",
   "metadata": {},
   "outputs": [
    {
     "name": "stdout",
     "output_type": "stream",
     "text": [
      "(8, 1, 5, 5)\n",
      "(5, 5)\n",
      "(5, 5)\n",
      "(5, 5)\n",
      "(5, 5)\n",
      "(5, 5)\n",
      "(5, 5)\n",
      "(5, 5)\n",
      "(5, 5)\n"
     ]
    },
    {
     "data": {
      "text/plain": [
       "[]"
      ]
     },
     "execution_count": 153,
     "metadata": {},
     "output_type": "execute_result"
    },
    {
     "data": {
      "image/png": "[encoded data removed]",
      "text/plain": [
       "<Figure size 504x504 with 8 Axes>"
      ]
     },
     "metadata": {},
     "output_type": "display_data"
    }
   ],
   "source": [
    "# first, extract the weights from the learned model\n",
    "conv1wt = model2.layers[0].weight.data.numpy()\n",
    "print(conv1wt.shape)\n",
    "\n",
    "# then, visualize them!\n",
    "_, axes = plt.subplots(2, 4, figsize=(7,7))\n",
    "kernel = 0\n",
    "for i in range(2):\n",
    "    for j in range(4):\n",
    "        img = conv1wt.squeeze()[kernel]\n",
    "        print(img.shape)\n",
    "        axes[i,j].matshow(conv1wt.squeeze()[kernel], cmap='gray')\n",
    "        kernel += 1\n",
    "        title = 'Kernel ' + str(kernel)\n",
    "        axes[i,j].set_title(title)\n",
    "plt.setp(axes, xticks=[], yticks=[])"
   ]
  },
  {
   "cell_type": "markdown",
   "id": "09a4aa03",
   "metadata": {},
   "source": [
    "## Visualizing Optimized Inputs"
   ]
  },
  {
   "cell_type": "code",
   "execution_count": 135,
   "id": "68965e5a",
   "metadata": {},
   "outputs": [],
   "source": [
    "class OptimizeInput(nn.Module):\n",
    "    def __init__(self, learned_model, input_shape=(1, 1, 28, 28)):\n",
    "        super().__init__()\n",
    "        self.learned_model = learned_model\n",
    "        self.optimized_input = torch.zeros(input_shape, requires_grad=True)\n",
    "        \n",
    "    def forward(self):\n",
    "        return self.learned_model(self.optimized_input)\n",
    "    \n",
    "    def parameters(self):\n",
    "        return [self.optimized_input]"
   ]
  },
  {
   "cell_type": "code",
   "execution_count": 136,
   "id": "cb3cce1a",
   "metadata": {},
   "outputs": [],
   "source": [
    "# Given model, get optimized input for each character\n",
    "def get_optimized_inputs(model, nepochs = 10000):\n",
    "    targets = torch.arange(len(model.classes)).long()\n",
    "    optimized_inputs = {}\n",
    "\n",
    "    for t in targets:\n",
    "        # train input\n",
    "        input_model = OptimizeInput(model)\n",
    "        optimizer = torch.optim.Adam(input_model.parameters(), lr=.01)\n",
    "        criterion = nn.CrossEntropyLoss()\n",
    "        for epoch in range(nepochs):\n",
    "            optimizer.zero_grad()\n",
    "            outputs = input_model()\n",
    "            loss = criterion(outputs, t.reshape(1))\n",
    "            loss.backward()\n",
    "            optimizer.step()\n",
    "        print(\"finished %s with %0.5f loss\" % (model.classes[t], loss.item()), end = \"\\t\")\n",
    "        optimized_inputs[model.classes[t]] = input_model.optimized_input.detach().numpy().reshape((28, 28))\n",
    "        \n",
    "        # test input\n",
    "        tensor = torch.Tensor(optimized_inputs[model.classes[t]].reshape(1, 1, 28, 28))\n",
    "        with torch.no_grad():\n",
    "            output = model(tensor)\n",
    "        prob = output.squeeze().detach().numpy()\n",
    "        pred = model.classes[torch.argmax(output, dim=1)]\n",
    "        print(f\"Expected: {model.classes[t]}. Predicted: {pred}.\")\n",
    "    return optimized_inputs"
   ]
  },
  {
   "cell_type": "code",
   "execution_count": 137,
   "id": "9b14cf50",
   "metadata": {},
   "outputs": [
    {
     "name": "stdout",
     "output_type": "stream",
     "text": [
      "finished N/A with 0.00311 loss\tExpected: N/A. Predicted: N/A.\n",
      "finished a with 0.00003 loss\tExpected: a. Predicted: a.\n",
      "finished b with 0.00002 loss\tExpected: b. Predicted: b.\n",
      "finished c with 0.00001 loss\tExpected: c. Predicted: c.\n",
      "finished d with 0.00002 loss\tExpected: d. Predicted: d.\n",
      "finished e with 0.00002 loss\tExpected: e. Predicted: e.\n",
      "finished f with 0.00000 loss\tExpected: f. Predicted: f.\n",
      "finished g with 0.00001 loss\tExpected: g. Predicted: g.\n",
      "finished h with 0.00001 loss\tExpected: h. Predicted: h.\n",
      "finished i with 0.00000 loss\tExpected: i. Predicted: i.\n",
      "finished j with 0.00000 loss\tExpected: j. Predicted: j.\n",
      "finished k with 0.00000 loss\tExpected: k. Predicted: k.\n",
      "finished l with 0.00001 loss\tExpected: l. Predicted: l.\n",
      "finished m with 0.00000 loss\tExpected: m. Predicted: m.\n",
      "finished n with 0.00003 loss\tExpected: n. Predicted: n.\n",
      "finished o with 0.00002 loss\tExpected: o. Predicted: o.\n",
      "finished p with 0.00001 loss\tExpected: p. Predicted: p.\n",
      "finished q with 0.00005 loss\tExpected: q. Predicted: q.\n",
      "finished r with 0.00000 loss\tExpected: r. Predicted: r.\n",
      "finished s with 0.00002 loss\tExpected: s. Predicted: s.\n",
      "finished t with 0.00001 loss\tExpected: t. Predicted: t.\n",
      "finished u with 0.00001 loss\tExpected: u. Predicted: u.\n",
      "finished v with 0.00000 loss\tExpected: v. Predicted: v.\n",
      "finished w with 0.00001 loss\tExpected: w. Predicted: w.\n",
      "finished x with 0.00001 loss\tExpected: x. Predicted: x.\n",
      "finished y with 0.00000 loss\tExpected: y. Predicted: y.\n",
      "finished z with 0.00000 loss\tExpected: z. Predicted: z.\n"
     ]
    }
   ],
   "source": [
    "optimized_inputs = get_optimized_inputs(model2, nepochs=1000)"
   ]
  },
  {
   "cell_type": "code",
   "execution_count": 138,
   "id": "8be3ac67",
   "metadata": {},
   "outputs": [
    {
     "data": {
      "text/plain": [
       "<matplotlib.image.AxesImage at 0x7fbd7c42abe0>"
      ]
     },
     "execution_count": 138,
     "metadata": {},
     "output_type": "execute_result"
    },
    {
     "data": {
      "image/png": "[encoded data removed]",
      "text/plain": [
       "<Figure size 432x288 with 1 Axes>"
      ]
     },
     "metadata": {
      "needs_background": "light"
     },
     "output_type": "display_data"
    }
   ],
   "source": [
    "letter = 'b'\n",
    "letter_visualized = optimized_inputs[letter].T\n",
    "plt.imshow(letter_visualized, cmap='Greys_r')"
   ]
  },
  {
   "cell_type": "code",
   "execution_count": null,
   "id": "5bc6e3a3",
   "metadata": {},
   "outputs": [],
   "source": []
  }
 ],
 "metadata": {
  "interpreter": {
   "hash": "aee8b7b246df8f9039afb4144a1f6fd8d2ca17a180786b69acc140d282b71a49"
  },
  "kernelspec": {
   "display_name": "Python 3 (ipykernel)",
   "language": "python",
   "name": "python3"
  },
  "language_info": {
   "codemirror_mode": {
    "name": "ipython",
    "version": 3
   },
   "file_extension": ".py",
   "mimetype": "text/x-python",
   "name": "python",
   "nbconvert_exporter": "python",
   "pygments_lexer": "ipython3",
   "version": "3.9.7"
  }
 },
 "nbformat": 4,
 "nbformat_minor": 5
}
