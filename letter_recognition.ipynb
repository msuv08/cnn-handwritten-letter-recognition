{
 "cells": [
  {
   "cell_type": "markdown",
   "id": "21f69704",
   "metadata": {},
   "source": [
    "# CS 342 Final Project - Letter Recognition CNN"
   ]
  },
  {
   "cell_type": "markdown",
   "id": "d1664c6b",
   "metadata": {},
   "source": [
    "Mrityunjay Mishra, Mihir Suvarna, Daniel Sialm"
   ]
  },
  {
   "cell_type": "markdown",
   "id": "f55a6548",
   "metadata": {},
   "source": [
    "## Project Description"
   ]
  },
  {
   "cell_type": "markdown",
   "id": "7f97ac96",
   "metadata": {},
   "source": [
    "This project aims to create a convolutional neural network (CNN) for the task of letter recognition. The task of letter recognition, or more generally speaking, text recognition (also known as optical character recognition, or OCR) has gained much importance in recent years due to emerging applications. For example, OCR software can be used to convert handwritten text into digital text and robots use cameras to read signs in their environment. Due to the increasing importance of the task of text recognition, we aim to create a robust CNN that is able to correctly classify handwritten and digital letters."
   ]
  },
  {
   "cell_type": "code",
   "execution_count": 1,
   "id": "75da0fed",
   "metadata": {},
   "outputs": [],
   "source": [
    "# Run these two blocks to load important libraries and set things up\n",
    "import torch\n",
    "from torch import nn\n",
    "import numpy as np\n",
    "\n",
    "%matplotlib inline\n",
    "import matplotlib.pyplot as plt"
   ]
  },
  {
   "cell_type": "markdown",
   "id": "b1977be9",
   "metadata": {},
   "source": [
    "## Dataset"
   ]
  },
  {
   "cell_type": "code",
   "execution_count": 2,
   "id": "3894a12d",
   "metadata": {},
   "outputs": [
    {
     "name": "stdout",
     "output_type": "stream",
     "text": [
      "{'N/A': 0, 'a': 1, 'b': 2, 'c': 3, 'd': 4, 'e': 5, 'f': 6, 'g': 7, 'h': 8, 'i': 9, 'j': 10, 'k': 11, 'l': 12, 'm': 13, 'n': 14, 'o': 15, 'p': 16, 'q': 17, 'r': 18, 's': 19, 't': 20, 'u': 21, 'v': 22, 'w': 23, 'x': 24, 'y': 25, 'z': 26}\n"
     ]
    }
   ],
   "source": [
    "letter_to_label = dict()\n",
    "classes_collected = ['N/A', 'a', 'b', 'c', 'd', 'e', 'f', 'g', 'h', 'i', 'j', 'k', 'l', 'm', 'n', 'o', 'p', 'q', 'r', 's', 't', 'u', 'v', 'w', 'x', 'y', 'z']\n",
    "for i in range(len(classes_collected)):\n",
    "    letter_to_label[classes_collected[i]] = i\n",
    "print(letter_to_label)"
   ]
  },
  {
   "cell_type": "code",
   "execution_count": 3,
   "id": "06d182b2",
   "metadata": {},
   "outputs": [
    {
     "name": "stdout",
     "output_type": "stream",
     "text": [
      "torch.Size([4160, 1, 28, 28]) torch.Size([1300, 1, 28, 28]) torch.Size([780, 1, 28, 28])\n",
      "torch.Size([4160]) torch.Size([1300]) torch.Size([780])\n"
     ]
    },
    {
     "name": "stderr",
     "output_type": "stream",
     "text": [
      "/var/folders/k7/zz5h09l90lz91rrnxkcsyfv00000gn/T/ipykernel_93592/2075399133.py:40: UserWarning: Creating a tensor from a list of numpy.ndarrays is extremely slow. Please consider converting the list to a single numpy.ndarray with numpy.array() before converting to a tensor. (Triggered internally at  /Users/distiller/project/conda/conda-bld/pytorch_1640812094853/work/torch/csrc/utils/tensor_new.cpp:201.)\n",
      "  data_train = torch.tensor(imgs_train)\n"
     ]
    }
   ],
   "source": [
    "import os\n",
    "import shutil\n",
    "import glob\n",
    "\n",
    "from PIL import Image\n",
    "import torchvision.transforms as transforms\n",
    "\n",
    "src_dir = 'dataset'\n",
    "transform = transforms.ToTensor()\n",
    "\n",
    "files_train = []\n",
    "files_val = []\n",
    "files_test = []\n",
    "for i in range(0,16): files_train.append('P' + str(i))\n",
    "for i in range(16,21): files_val.append('P' + str(i))\n",
    "for i in range(21,24): files_test.append('P' + str(i))\n",
    "\n",
    "imgs_train = []\n",
    "imgs_val = []\n",
    "imgs_test = []\n",
    "labels_train = []\n",
    "labels_val = []\n",
    "labels_test = []\n",
    "for f in glob.glob(os.path.join(src_dir, '*.png')):\n",
    "    ftitle, fext = os.path.splitext(os.path.basename(f))\n",
    "    letter = ftitle.split(\"_\")[1].lower()\n",
    "    file = ftitle.split(\"_\")[0].split(\"-\")[0]\n",
    "    im = Image.open(f).convert('L')\n",
    "\n",
    "    if file in files_train:\n",
    "        imgs_train.append(transform(im).detach().numpy())\n",
    "        labels_train.append(letter_to_label[letter])\n",
    "    elif file in files_val:\n",
    "        imgs_val.append(transform(im).detach().numpy())\n",
    "        labels_val.append(letter_to_label[letter])\n",
    "    elif file in files_test:\n",
    "        imgs_test.append(transform(im).detach().numpy())\n",
    "        labels_test.append(letter_to_label[letter])\n",
    "    \n",
    "data_train = torch.tensor(imgs_train)\n",
    "data_val = torch.tensor(imgs_val)\n",
    "data_test = torch.tensor(imgs_test)\n",
    "labels_train = torch.tensor(np.array(labels_train))\n",
    "labels_val = torch.tensor(np.array(labels_val))\n",
    "labels_test = torch.tensor(np.array(labels_test))\n",
    "\n",
    "print(data_train.shape, data_val.shape, data_test.shape)\n",
    "print(labels_train.shape, labels_val.shape, labels_test.shape)"
   ]
  },
  {
   "cell_type": "code",
   "execution_count": 4,
   "id": "feffc6c0",
   "metadata": {},
   "outputs": [
    {
     "name": "stdout",
     "output_type": "stream",
     "text": [
      "['N/A', 'a', 'b', 'c', 'd', 'e', 'f', 'g', 'h', 'i', 'j', 'k', 'l', 'm', 'n', 'o', 'p', 'q', 'r', 's', 't', 'u', 'v', 'w', 'x', 'y', 'z']\n",
      "Label: m\n"
     ]
    },
    {
     "data": {
      "image/png": "[encoded data removed]",
      "text/plain": [
       "<Figure size 432x288 with 1 Axes>"
      ]
     },
     "metadata": {
      "needs_background": "light"
     },
     "output_type": "display_data"
    }
   ],
   "source": [
    "# Data visualization\n",
    "\n",
    "# print classes\n",
    "print(classes_collected)\n",
    "# print label\n",
    "index = 125\n",
    "plt.imshow(data_train[index].reshape((28, 28)), cmap='Greys_r')\n",
    "print(\"Label: %s\" % classes_collected[labels_train[index].item()])"
   ]
  },
  {
   "cell_type": "code",
   "execution_count": 5,
   "id": "1a4ba3b7",
   "metadata": {},
   "outputs": [],
   "source": [
    "batch_size = 64\n",
    "\n",
    "train_set_collected = torch.utils.data.TensorDataset(data_train, labels_train)\n",
    "val_set_collected = torch.utils.data.TensorDataset(data_val, labels_val)\n",
    "test_set_collected = torch.utils.data.TensorDataset(data_test, labels_test)\n",
    "\n",
    "train_loader_collected = torch.utils.data.DataLoader(train_set_collected, batch_size=batch_size, shuffle=True)\n",
    "val_loader_collected = torch.utils.data.DataLoader(val_set_collected, batch_size=batch_size, shuffle=True)\n",
    "test_loader_collected = torch.utils.data.DataLoader(test_set_collected, batch_size=batch_size, shuffle=True)"
   ]
  },
  {
   "cell_type": "markdown",
   "id": "d2599f8d",
   "metadata": {},
   "source": [
    "## Defining a basic LetterCNN"
   ]
  },
  {
   "cell_type": "code",
   "execution_count": 6,
   "id": "52067f62",
   "metadata": {},
   "outputs": [],
   "source": [
    "class letterCNN(nn.Module):\n",
    "    def __init__(self, classes):\n",
    "        super().__init__()\n",
    "        self.classes = classes\n",
    "        self.layers = nn.Sequential(\n",
    "            nn.Conv2d(in_channels=1, out_channels=8, kernel_size=(5,5), stride=1),\n",
    "            nn.MaxPool2d(kernel_size=(2,2), stride=2),\n",
    "            nn.ReLU(),\n",
    "            nn.Flatten(),\n",
    "            nn.Linear(1152, len(self.classes))\n",
    "        )\n",
    "            \n",
    "    def forward(self, x):\n",
    "        output = self.layers(x)\n",
    "        return output"
   ]
  },
  {
   "cell_type": "code",
   "execution_count": 7,
   "id": "f393cdfa",
   "metadata": {},
   "outputs": [
    {
     "name": "stdout",
     "output_type": "stream",
     "text": [
      "torch.Size([64, 1, 28, 28])\n",
      "torch.Size([64])\n",
      "torch.float32 torch.int64\n",
      "torch.Size([64, 27])\n"
     ]
    }
   ],
   "source": [
    "# Testing the model above, TODO remove before submission\n",
    "model_test = letterCNN(classes_collected)\n",
    "for inputs, labels in train_loader_collected:\n",
    "    print(inputs.shape)\n",
    "    print(labels.shape)\n",
    "    print(inputs.dtype, labels.dtype)\n",
    "    outputs = model_test.forward(inputs)\n",
    "    print(outputs.shape)\n",
    "    break"
   ]
  },
  {
   "cell_type": "markdown",
   "id": "c58a7299",
   "metadata": {},
   "source": [
    "## Testing the basic LetterCNN"
   ]
  },
  {
   "cell_type": "code",
   "execution_count": 8,
   "id": "a5b1939c",
   "metadata": {},
   "outputs": [],
   "source": [
    "from tqdm.notebook import tqdm\n",
    "import torch.nn.functional as F\n",
    "\n",
    "# Architecture to train and test our differnt models\n",
    "\n",
    "def train_network(model, train_loader, val_loader, criterion, optimizer, nepoch=100):\n",
    "    try:\n",
    "        for epoch in tqdm(range(nepoch)):\n",
    "            print('EPOCH %d'%epoch)\n",
    "            total_loss = 0\n",
    "            count = 0\n",
    "            for inputs, labels in train_loader:\n",
    "                optimizer.zero_grad()\n",
    "                outputs = model.forward(inputs)\n",
    "                labels = labels.type(torch.long)\n",
    "                loss = criterion(outputs, labels)\n",
    "                loss.backward()\n",
    "                optimizer.step()\n",
    "                total_loss += loss.item()\n",
    "                count += 1\n",
    "            print('{:>12s} {:>7.5f}'.format('Train loss:', total_loss/count))\n",
    "            with torch.no_grad():\n",
    "                total_loss = 0\n",
    "                count = 0\n",
    "                for inputs, labels in val_loader:\n",
    "                    outputs = model.forward(inputs)\n",
    "                    labels = labels.type(torch.long)\n",
    "                    loss = criterion(outputs, labels)\n",
    "                    total_loss += loss.item()\n",
    "                    count += 1\n",
    "                print('{:>12s} {:>7.5f}'.format('Val loss:', total_loss/count))\n",
    "            print()\n",
    "    except KeyboardInterrupt:\n",
    "        print('Exiting from training early')\n",
    "    return\n",
    "\n",
    "def test_network(model, test_loader):\n",
    "    correct = 0\n",
    "    total = 0\n",
    "    true, pred = [], []\n",
    "    with torch.no_grad():\n",
    "        for inputs, labels  in test_loader:\n",
    "            outputs = model.forward(inputs)\n",
    "            predicted = torch.argmax(outputs, dim=1) # get predicted class label for each test example.\n",
    "            total += labels.size(0)\n",
    "            correct += (predicted == labels).sum().item()\n",
    "            true.append(labels)\n",
    "            pred.append(predicted)\n",
    "    acc = (100 * correct / total)\n",
    "    true = np.concatenate(true)\n",
    "    pred = np.concatenate(pred)\n",
    "    return acc, true, pred\n",
    "\n",
    "def display_contingency_matrix(num_classes, pred, true):\n",
    "    contingency = np.zeros((num_classes, num_classes))\n",
    "    for i in range(len(pred)):\n",
    "        contingency[int(pred[i])][int(true[i])] += 1\n",
    "\n",
    "    plt.matshow(contingency)\n",
    "    plt.xlabel(\"true\")\n",
    "    plt.ylabel(\"predictions\")\n",
    "    plt.colorbar()"
   ]
  },
  {
   "cell_type": "code",
   "execution_count": 9,
   "id": "1ca49e77",
   "metadata": {},
   "outputs": [
    {
     "data": {
      "application/vnd.jupyter.widget-view+json": {
       "model_id": "291778ca006440dca3c15557668e943a",
       "version_major": 2,
       "version_minor": 0
      },
      "text/plain": [
       "  0%|          | 0/10 [00:00<?, ?it/s]"
      ]
     },
     "metadata": {},
     "output_type": "display_data"
    },
    {
     "name": "stdout",
     "output_type": "stream",
     "text": [
      "EPOCH 0\n",
      " Train loss: 2.39954\n",
      "   Val loss: 2.19297\n",
      "\n",
      "EPOCH 1\n",
      " Train loss: 1.01926\n",
      "   Val loss: 2.13553\n",
      "\n",
      "EPOCH 2\n",
      " Train loss: 0.58339\n",
      "   Val loss: 2.23987\n",
      "\n",
      "EPOCH 3\n",
      " Train loss: 0.36621\n",
      "   Val loss: 2.37830\n",
      "\n",
      "EPOCH 4\n",
      " Train loss: 0.23188\n",
      "   Val loss: 2.65089\n",
      "\n",
      "EPOCH 5\n",
      " Train loss: 0.14913\n",
      "   Val loss: 2.75879\n",
      "\n",
      "EPOCH 6\n",
      " Train loss: 0.10315\n",
      "   Val loss: 2.96026\n",
      "\n",
      "EPOCH 7\n",
      " Train loss: 0.07067\n",
      "   Val loss: 3.10044\n",
      "\n",
      "EPOCH 8\n",
      " Train loss: 0.05249\n",
      "   Val loss: 3.23439\n",
      "\n",
      "EPOCH 9\n",
      " Train loss: 0.04013\n",
      "   Val loss: 3.32404\n",
      "\n"
     ]
    }
   ],
   "source": [
    "basic_model = letterCNN(classes_collected)\n",
    "criterion = nn.CrossEntropyLoss()\n",
    "optimizer = torch.optim.Adam(basic_model.parameters(), lr=1e-3)\n",
    "train_network(basic_model, train_loader_collected, val_loader_collected, criterion, optimizer, nepoch=10)"
   ]
  },
  {
   "cell_type": "code",
   "execution_count": 10,
   "id": "efb36f26",
   "metadata": {},
   "outputs": [
    {
     "name": "stdout",
     "output_type": "stream",
     "text": [
      "Test accuracy: 44.872\n"
     ]
    },
    {
     "data": {
      "image/png": "[encoded data removed]",
      "text/plain": [
       "<Figure size 288x288 with 2 Axes>"
      ]
     },
     "metadata": {
      "needs_background": "light"
     },
     "output_type": "display_data"
    }
   ],
   "source": [
    "acc, true, pred = test_network(basic_model, test_loader_collected)\n",
    "print('Test accuracy: %0.3f' % acc)\n",
    "\n",
    "display_contingency_matrix(len(basic_model.classes), pred, true)"
   ]
  },
  {
   "cell_type": "markdown",
   "id": "dd60841e",
   "metadata": {},
   "source": [
    "We can see that there is quite a bit of overfitting going on (val loss is not converging). Also, our accuracy is quite low. While this accuracy is still quite good - $48.718 / (1 / 26) = 12.67$ times increase in accuracy from just taking a random guess - we can still do better. The reason for this poor performance is because only a few people's data was obtained which. This ends up heavily overrepresenting our training dataset towards the handwriting of a few people. Consequently, our model does not generalize well. We can also see this from the increasing validation loss. \n",
    "\n",
    "Thus, we will combine our dataset with the EMNIST dataset to create a better model."
   ]
  },
  {
   "cell_type": "markdown",
   "id": "89d0599f",
   "metadata": {},
   "source": [
    "### EMNIST Data Set"
   ]
  },
  {
   "cell_type": "code",
   "execution_count": 11,
   "id": "65c076b1",
   "metadata": {},
   "outputs": [
    {
     "name": "stdout",
     "output_type": "stream",
     "text": [
      "Dataset EMNIST\n",
      "    Number of datapoints: 124800\n",
      "    Root location: letterEMNIST\n",
      "    Split: Train\n",
      "    StandardTransform\n",
      "Transform: ToTensor()\n",
      "Dataset EMNIST\n",
      "    Number of datapoints: 20800\n",
      "    Root location: letterEMNIST\n",
      "    Split: Test\n",
      "    StandardTransform\n",
      "Transform: ToTensor()\n"
     ]
    }
   ],
   "source": [
    "from torchvision import datasets, transforms\n",
    "\n",
    "save_dir = 'letterEMNIST'\n",
    "\n",
    "transform = transforms.ToTensor() # Convert the image into a torch tensor.\n",
    "\n",
    "train_set = datasets.EMNIST(save_dir, split=\"letters\", download=True, train=True, transform=transform)\n",
    "test_set = datasets.EMNIST(save_dir, split=\"letters\", download=True, train=False, transform=transform)\n",
    "\n",
    "print(train_set)\n",
    "print(test_set)"
   ]
  },
  {
   "cell_type": "code",
   "execution_count": 12,
   "id": "1cc0f048",
   "metadata": {},
   "outputs": [],
   "source": [
    "from torch.utils.data.sampler import SubsetRandomSampler\n",
    "ntotal = 60000\n",
    "ntrain = int(0.78*ntotal)\n",
    "nval = ntotal - ntrain\n",
    "\n",
    "val_ix = np.random.choice(range(ntotal), size=nval, replace=False)\n",
    "train_ix = list(set(range(ntotal)) - set(val_ix))\n",
    "\n",
    "train_sampler = SubsetRandomSampler(train_ix)\n",
    "val_sampler = SubsetRandomSampler(val_ix)"
   ]
  },
  {
   "cell_type": "code",
   "execution_count": 13,
   "id": "c1c36234",
   "metadata": {},
   "outputs": [],
   "source": [
    "# initialize the data sets\n",
    "batch_size = 1\n",
    "train_loader = torch.utils.data.DataLoader(train_set, batch_size=batch_size, sampler=train_sampler)\n",
    "val_loader = torch.utils.data.DataLoader(train_set, batch_size=batch_size, sampler=val_sampler)\n",
    "test_loader = torch.utils.data.DataLoader(test_set, batch_size=batch_size)"
   ]
  },
  {
   "cell_type": "code",
   "execution_count": 14,
   "id": "bc5266dd",
   "metadata": {},
   "outputs": [
    {
     "name": "stdout",
     "output_type": "stream",
     "text": [
      "['N/A', 'a', 'b', 'c', 'd', 'e', 'f', 'g', 'h', 'i', 'j', 'k', 'l', 'm', 'n', 'o', 'p', 'q', 'r', 's', 't', 'u', 'v', 'w', 'x', 'y', 'z']\n",
      "Label: w\n"
     ]
    },
    {
     "data": {
      "image/png": "[encoded data removed]",
      "text/plain": [
       "<Figure size 432x288 with 1 Axes>"
      ]
     },
     "metadata": {
      "needs_background": "light"
     },
     "output_type": "display_data"
    }
   ],
   "source": [
    "# Visualizing EMNIST\n",
    "\n",
    "# print classes\n",
    "print(train_set.classes)\n",
    "classes = train_set.classes\n",
    "# print label\n",
    "index = 0\n",
    "plt.imshow(train_set.data[index].T, cmap='Greys_r')\n",
    "print(\"Label: %s\" % train_set.classes[train_set.targets[index]])"
   ]
  },
  {
   "cell_type": "markdown",
   "id": "07941a2b",
   "metadata": {},
   "source": [
    "### Combining EMNIST with our Data"
   ]
  },
  {
   "cell_type": "code",
   "execution_count": 15,
   "id": "37e4eb8b",
   "metadata": {},
   "outputs": [],
   "source": [
    "combined_batch_size=64\n",
    "\n",
    "combined_train = []\n",
    "combined_train_labels = []\n",
    "combined_val = []\n",
    "combined_val_labels = []\n",
    "combined_test = []\n",
    "combined_test_labels = []\n",
    "\n",
    "for inputs, labels in train_loader:\n",
    "    combined_train.append(inputs[0].detach().transpose(1, 2).numpy())\n",
    "    combined_train_labels.append( labels[0].item() )\n",
    "for inputs, labels in train_loader_collected:\n",
    "    for i in range(inputs.shape[0]):\n",
    "        combined_train.append( inputs[i].detach().numpy() )\n",
    "        combined_train_labels.append( labels[i].item() )\n",
    "        \n",
    "for inputs, labels in val_loader:\n",
    "    combined_val.append( inputs[0].detach().transpose(1, 2).numpy() )\n",
    "    combined_val_labels.append( labels[0].item() )\n",
    "for inputs, labels in val_loader_collected:\n",
    "    for i in range(inputs.shape[0]):\n",
    "        combined_val.append( inputs[i].detach().numpy() )\n",
    "        combined_val_labels.append( labels[i].item() )\n",
    "        \n",
    "for inputs, labels in test_loader:\n",
    "    combined_test.append( inputs[0].detach().transpose(1, 2).numpy() )\n",
    "    combined_test_labels.append( labels[0].item() )\n",
    "for inputs, labels in test_loader_collected:\n",
    "    for i in range(inputs.shape[0]):\n",
    "        combined_test.append( inputs[i].detach().numpy() )\n",
    "        combined_test_labels.append( labels[i].item() )\n",
    "\n",
    "combined_train = np.array(combined_train)\n",
    "combined_train_labels = np.array(combined_train_labels)\n",
    "combined_val = np.array(combined_val)\n",
    "combined_val_labels = np.array(combined_val_labels)\n",
    "combined_test = np.array(combined_test)\n",
    "combined_test_labels = np.array(combined_test_labels)\n",
    "\n",
    "# print(combined_train.shape)\n",
    "# print(combined_train_labels.shape)\n",
    "# print(combined_val.shape)\n",
    "# print(combined_val_labels.shape)\n",
    "# print(combined_test.shape)\n",
    "# print(combined_test_labels.shape)\n",
    "\n",
    "combined_train = torch.Tensor(combined_train)\n",
    "combined_train_labels = torch.Tensor(combined_train_labels)\n",
    "\n",
    "combined_val = torch.Tensor(combined_val)\n",
    "combined_val_labels = torch.Tensor(combined_val_labels)\n",
    "\n",
    "combined_test = torch.Tensor(combined_test)\n",
    "combined_test_labels = torch.Tensor(combined_test_labels)\n",
    "\n",
    "\n",
    "combined_train_set = torch.utils.data.TensorDataset(combined_train, combined_train_labels)\n",
    "combined_train_loader = torch.utils.data.DataLoader(combined_train_set, batch_size=combined_batch_size, shuffle=True)\n",
    "\n",
    "combined_val_set = torch.utils.data.TensorDataset(combined_val, combined_val_labels)\n",
    "combined_val_loader = torch.utils.data.DataLoader(combined_val_set, batch_size=combined_batch_size, shuffle=True)\n",
    "\n",
    "combined_test_set = torch.utils.data.TensorDataset(combined_test, combined_test_labels)\n",
    "combined_test_loader = torch.utils.data.DataLoader(combined_test_set, batch_size=combined_batch_size, shuffle=True)\n",
    "\n",
    "# print(len(combined_train_loader))\n",
    "# print(len(combined_val_loader))\n",
    "# print(len(combined_test_loader))"
   ]
  },
  {
   "cell_type": "code",
   "execution_count": 16,
   "id": "8244e7f6",
   "metadata": {},
   "outputs": [
    {
     "name": "stdout",
     "output_type": "stream",
     "text": [
      "EMNIST: min: 0, max: 1\n",
      "Label: l\n"
     ]
    },
    {
     "data": {
      "image/png": "[encoded data removed]",
      "text/plain": [
       "<Figure size 432x288 with 1 Axes>"
      ]
     },
     "metadata": {
      "needs_background": "light"
     },
     "output_type": "display_data"
    }
   ],
   "source": [
    "# Have to transpose EMNIST data (testing transpose, TODO remove before submission\n",
    "for inputs, labels in train_loader:\n",
    "    transposed = inputs[0].transpose(1, 2)\n",
    "    print(\"EMNIST: min: %d, max: %d\" % (transposed.min().item(), transposed.max().item()))\n",
    "    plt.imshow(transposed.reshape((28, 28)), cmap='Greys_r')\n",
    "    print(\"Label: %s\" % classes_collected[labels[0]])\n",
    "    break"
   ]
  },
  {
   "cell_type": "code",
   "execution_count": 17,
   "id": "6fb3bb68",
   "metadata": {},
   "outputs": [
    {
     "name": "stdout",
     "output_type": "stream",
     "text": [
      "EMNIST: min: 0, max: 1\n",
      "Label: w\n"
     ]
    },
    {
     "data": {
      "image/png": "[encoded data removed]",
      "text/plain": [
       "<Figure size 432x288 with 1 Axes>"
      ]
     },
     "metadata": {
      "needs_background": "light"
     },
     "output_type": "display_data"
    }
   ],
   "source": [
    "# validate that our two classes are being stored the same way\n",
    "for inputs, labels in train_loader_collected:\n",
    "    img = inputs[0]\n",
    "    print(\"Collected: min: %d, max: %d\" % (img.min().item(), img.max().item()))\n",
    "    plt.imshow(img.reshape((28, 28)), cmap='Greys_r')\n",
    "    print(\"Label: %s\" % classes_collected[labels[0]])\n",
    "    break"
   ]
  },
  {
   "cell_type": "markdown",
   "id": "fcb1e5d0",
   "metadata": {},
   "source": [
    "## Making a new LetterCNN on the Combined Dataset"
   ]
  },
  {
   "cell_type": "code",
   "execution_count": 18,
   "id": "82ab2a0d",
   "metadata": {},
   "outputs": [
    {
     "data": {
      "application/vnd.jupyter.widget-view+json": {
       "model_id": "247eb900884a4daf837d6be7020fe966",
       "version_major": 2,
       "version_minor": 0
      },
      "text/plain": [
       "  0%|          | 0/10 [00:00<?, ?it/s]"
      ]
     },
     "metadata": {},
     "output_type": "display_data"
    },
    {
     "name": "stdout",
     "output_type": "stream",
     "text": [
      "EPOCH 0\n",
      " Train loss: 1.24138\n",
      "   Val loss: 0.93942\n",
      "\n",
      "EPOCH 1\n",
      " Train loss: 0.72009\n",
      "   Val loss: 0.75933\n",
      "\n",
      "EPOCH 2\n",
      " Train loss: 0.57530\n",
      "   Val loss: 0.68050\n",
      "\n",
      "EPOCH 3\n",
      " Train loss: 0.50422\n",
      "   Val loss: 0.64345\n",
      "\n",
      "EPOCH 4\n",
      " Train loss: 0.46033\n",
      "   Val loss: 0.62435\n",
      "\n",
      "EPOCH 5\n",
      " Train loss: 0.42778\n",
      "   Val loss: 0.63305\n",
      "\n",
      "EPOCH 6\n",
      " Train loss: 0.40244\n",
      "   Val loss: 0.63349\n",
      "\n",
      "EPOCH 7\n",
      " Train loss: 0.38319\n",
      "   Val loss: 0.61634\n",
      "\n",
      "EPOCH 8\n",
      " Train loss: 0.36935\n",
      "   Val loss: 0.61540\n",
      "\n",
      "EPOCH 9\n",
      " Train loss: 0.35337\n",
      "   Val loss: 0.64287\n",
      "\n"
     ]
    }
   ],
   "source": [
    "basic_model_combined = letterCNN(classes_collected)\n",
    "criterion = nn.CrossEntropyLoss()\n",
    "optimizer = torch.optim.Adam(basic_model_combined.parameters(), lr=1e-3)\n",
    "train_network(basic_model_combined, combined_train_loader, combined_val_loader, criterion, optimizer, nepoch=10)"
   ]
  },
  {
   "cell_type": "code",
   "execution_count": 19,
   "id": "494689c1",
   "metadata": {},
   "outputs": [
    {
     "name": "stdout",
     "output_type": "stream",
     "text": [
      "Test accuracy: 84.736\n"
     ]
    },
    {
     "data": {
      "image/png": "[encoded data removed]",
      "text/plain": [
       "<Figure size 288x288 with 2 Axes>"
      ]
     },
     "metadata": {
      "needs_background": "light"
     },
     "output_type": "display_data"
    }
   ],
   "source": [
    "acc, true, pred = test_network(basic_model_combined, combined_test_loader)\n",
    "print('Test accuracy: %0.3f' % acc)\n",
    "\n",
    "display_contingency_matrix(len(basic_model_combined.classes), pred, true)"
   ]
  },
  {
   "cell_type": "markdown",
   "id": "60d33042",
   "metadata": {},
   "source": [
    "Much higher accuracy. __TODO Explain more__"
   ]
  },
  {
   "cell_type": "markdown",
   "id": "2ba4a9d0",
   "metadata": {},
   "source": [
    "## Computational Experiment 1 - Regularization"
   ]
  },
  {
   "cell_type": "markdown",
   "id": "93e55838",
   "metadata": {},
   "source": [
    "### 1a) Regularization through data augmentation"
   ]
  },
  {
   "cell_type": "code",
   "execution_count": 20,
   "id": "27d56d7f",
   "metadata": {},
   "outputs": [
    {
     "name": "stdout",
     "output_type": "stream",
     "text": [
      "torch.Size([1820, 1, 28, 28]) torch.Size([390, 1, 28, 28]) torch.Size([468, 1, 28, 28])\n",
      "torch.Size([1820]) torch.Size([390]) torch.Size([468])\n"
     ]
    }
   ],
   "source": [
    "src_dir = \"dataset_digital\"\n",
    "idx = 0\n",
    "\n",
    "imgs_train = []\n",
    "imgs_val = []\n",
    "imgs_test = []\n",
    "labels_train = []\n",
    "labels_val = []\n",
    "labels_test = []\n",
    "for f in glob.glob(os.path.join(src_dir, '*.png')):\n",
    "    ftitle, fext = os.path.splitext(os.path.basename(f))\n",
    "    letter = ftitle.split(\"_\")[1].lower()\n",
    "    im = Image.open(f).convert('L')\n",
    "\n",
    "    if idx < 1820:\n",
    "        imgs_train.append(transform(im).detach().numpy())\n",
    "        labels_train.append(letter_to_label[letter])\n",
    "    elif idx < 2210:\n",
    "        imgs_val.append(transform(im).detach().numpy())\n",
    "        labels_val.append(letter_to_label[letter])\n",
    "    else:\n",
    "        imgs_test.append(transform(im).detach().numpy())\n",
    "        labels_test.append(letter_to_label[letter])\n",
    "    \n",
    "    idx += 1\n",
    "        \n",
    "data_train = torch.tensor(imgs_train)\n",
    "data_val = torch.tensor(imgs_val)\n",
    "data_test = torch.tensor(imgs_test)\n",
    "labels_train = torch.tensor(np.array(labels_train))\n",
    "labels_val = torch.tensor(np.array(labels_val))\n",
    "labels_test = torch.tensor(np.array(labels_test))\n",
    "\n",
    "print(data_train.shape, data_val.shape, data_test.shape)\n",
    "print(labels_train.shape, labels_val.shape, labels_test.shape)"
   ]
  },
  {
   "cell_type": "code",
   "execution_count": 21,
   "id": "9802ee26",
   "metadata": {},
   "outputs": [
    {
     "name": "stdout",
     "output_type": "stream",
     "text": [
      "['N/A', 'a', 'b', 'c', 'd', 'e', 'f', 'g', 'h', 'i', 'j', 'k', 'l', 'm', 'n', 'o', 'p', 'q', 'r', 's', 't', 'u', 'v', 'w', 'x', 'y', 'z']\n",
      "Label: q\n"
     ]
    },
    {
     "data": {
      "image/png": "[encoded data removed]",
      "text/plain": [
       "<Figure size 432x288 with 1 Axes>"
      ]
     },
     "metadata": {
      "needs_background": "light"
     },
     "output_type": "display_data"
    }
   ],
   "source": [
    "# Data visualization\n",
    "\n",
    "# print classes\n",
    "print(classes_collected)\n",
    "# print label\n",
    "index = 125\n",
    "plt.imshow(data_train[index].reshape((28, 28)), cmap='Greys_r')\n",
    "print(\"Label: %s\" % classes_collected[labels_train[index].item()])"
   ]
  },
  {
   "cell_type": "code",
   "execution_count": 22,
   "id": "467c0169",
   "metadata": {},
   "outputs": [],
   "source": [
    "batch_size = 64\n",
    "\n",
    "train_set_digital = torch.utils.data.TensorDataset(data_train, labels_train)\n",
    "val_set_digital = torch.utils.data.TensorDataset(data_val, labels_val)\n",
    "test_set_digital = torch.utils.data.TensorDataset(data_test, labels_test)\n",
    "\n",
    "train_loader_digital = torch.utils.data.DataLoader(train_set_digital, batch_size=batch_size, shuffle=True)\n",
    "val_loader_digital = torch.utils.data.DataLoader(val_set_digital, batch_size=batch_size, shuffle=True)\n",
    "test_loader_digital = torch.utils.data.DataLoader(test_set_digital, batch_size=batch_size, shuffle=True)"
   ]
  },
  {
   "cell_type": "code",
   "execution_count": 23,
   "id": "a2b8e6b8",
   "metadata": {},
   "outputs": [],
   "source": [
    "combined_batch_size=64\n",
    "\n",
    "combined_train = []\n",
    "combined_train_labels = []\n",
    "combined_val = []\n",
    "combined_val_labels = []\n",
    "combined_test = []\n",
    "combined_test_labels = []\n",
    "\n",
    "for inputs, labels in combined_train_loader:\n",
    "    for i in range(inputs.shape[0]):\n",
    "        combined_train.append( inputs[i].detach().numpy() )\n",
    "        combined_train_labels.append( labels[i].item() )\n",
    "for inputs, labels in train_loader_digital:\n",
    "    for i in range(inputs.shape[0]):\n",
    "        combined_train.append( inputs[i].detach().numpy() )\n",
    "        combined_train_labels.append( labels[i].item() )\n",
    "        \n",
    "for inputs, labels in combined_val_loader:\n",
    "    for i in range(inputs.shape[0]):\n",
    "        combined_val.append( inputs[i].detach().numpy() )\n",
    "        combined_val_labels.append( labels[i].item() )\n",
    "for inputs, labels in val_loader_digital:\n",
    "    for i in range(inputs.shape[0]):\n",
    "        combined_val.append( inputs[i].detach().numpy() )\n",
    "        combined_val_labels.append( labels[i].item() )\n",
    "        \n",
    "for inputs, labels in combined_test_loader:\n",
    "    for i in range(inputs.shape[0]):\n",
    "        combined_test.append( inputs[i].detach().numpy() )\n",
    "        combined_test_labels.append( labels[i].item() )\n",
    "for inputs, labels in test_loader_digital:\n",
    "    for i in range(inputs.shape[0]):\n",
    "        combined_test.append( inputs[i].detach().numpy() )\n",
    "        combined_test_labels.append( labels[i].item() )\n",
    "\n",
    "combined_train = np.array(combined_train)\n",
    "combined_train_labels = np.array(combined_train_labels)\n",
    "combined_val = np.array(combined_val)\n",
    "combined_val_labels = np.array(combined_val_labels)\n",
    "combined_test = np.array(combined_test)\n",
    "combined_test_labels = np.array(combined_test_labels)\n",
    "\n",
    "# print(combined_train.shape)\n",
    "# print(combined_train_labels.shape)\n",
    "# print(combined_val.shape)\n",
    "# print(combined_val_labels.shape)\n",
    "# print(combined_test.shape)\n",
    "# print(combined_test_labels.shape)\n",
    "\n",
    "combined_train = torch.Tensor(combined_train)\n",
    "combined_train_labels = torch.Tensor(combined_train_labels)\n",
    "\n",
    "combined_val = torch.Tensor(combined_val)\n",
    "combined_val_labels = torch.Tensor(combined_val_labels)\n",
    "\n",
    "combined_test = torch.Tensor(combined_test)\n",
    "combined_test_labels = torch.Tensor(combined_test_labels)\n",
    "\n",
    "combined_train_set = torch.utils.data.TensorDataset(combined_train, combined_train_labels)\n",
    "combined_train_digital_loader = torch.utils.data.DataLoader(combined_train_set, batch_size=combined_batch_size, shuffle=True)\n",
    "\n",
    "combined_val_set = torch.utils.data.TensorDataset(combined_val, combined_val_labels)\n",
    "combined_val_digital_loader = torch.utils.data.DataLoader(combined_val_set, batch_size=combined_batch_size, shuffle=True)\n",
    "\n",
    "combined_test_set = torch.utils.data.TensorDataset(combined_test, combined_test_labels)\n",
    "combined_test_digital_loader = torch.utils.data.DataLoader(combined_test_set, batch_size=combined_batch_size, shuffle=True)\n",
    "\n",
    "# print(len(combined_train_digital_loader))\n",
    "# print(len(combined_val_digital_loader))\n",
    "# print(len(combined_test_digital_loader))"
   ]
  },
  {
   "cell_type": "code",
   "execution_count": 24,
   "id": "d087317b",
   "metadata": {},
   "outputs": [
    {
     "data": {
      "application/vnd.jupyter.widget-view+json": {
       "model_id": "c3dcc3d78d4e40daafb5d3244fb7d922",
       "version_major": 2,
       "version_minor": 0
      },
      "text/plain": [
       "  0%|          | 0/10 [00:00<?, ?it/s]"
      ]
     },
     "metadata": {},
     "output_type": "display_data"
    },
    {
     "name": "stdout",
     "output_type": "stream",
     "text": [
      "EPOCH 0\n",
      " Train loss: 1.13593\n",
      "   Val loss: 0.81406\n",
      "\n",
      "EPOCH 1\n",
      " Train loss: 0.61108\n",
      "   Val loss: 0.64467\n",
      "\n",
      "EPOCH 2\n",
      " Train loss: 0.48896\n",
      "   Val loss: 0.60912\n",
      "\n",
      "EPOCH 3\n",
      " Train loss: 0.42616\n",
      "   Val loss: 0.57499\n",
      "\n",
      "EPOCH 4\n",
      " Train loss: 0.38748\n",
      "   Val loss: 0.55995\n",
      "\n",
      "EPOCH 5\n",
      " Train loss: 0.35897\n",
      "   Val loss: 0.55882\n",
      "\n",
      "EPOCH 6\n",
      " Train loss: 0.33605\n",
      "   Val loss: 0.56426\n",
      "\n",
      "EPOCH 7\n",
      " Train loss: 0.32157\n",
      "   Val loss: 0.57690\n",
      "\n",
      "EPOCH 8\n",
      " Train loss: 0.30568\n",
      "   Val loss: 0.56547\n",
      "\n",
      "EPOCH 9\n",
      " Train loss: 0.29377\n",
      "   Val loss: 0.56772\n",
      "\n"
     ]
    }
   ],
   "source": [
    "model_digital = letterCNN(classes_collected)\n",
    "criterion = nn.CrossEntropyLoss()\n",
    "optimizer = torch.optim.Adam(model_digital.parameters(), lr=1e-3)\n",
    "train_network(model_digital, combined_train_digital_loader, combined_val_digital_loader, criterion, optimizer, nepoch=10)"
   ]
  },
  {
   "cell_type": "code",
   "execution_count": 25,
   "id": "1fdf412e",
   "metadata": {},
   "outputs": [
    {
     "name": "stdout",
     "output_type": "stream",
     "text": [
      "Test accuracy: 86.634\n"
     ]
    },
    {
     "data": {
      "image/png": "[encoded data removed]",
      "text/plain": [
       "<Figure size 288x288 with 2 Axes>"
      ]
     },
     "metadata": {
      "needs_background": "light"
     },
     "output_type": "display_data"
    }
   ],
   "source": [
    "acc, true, pred = test_network(model_digital, combined_test_digital_loader)\n",
    "print('Test accuracy: %0.3f' % acc)\n",
    "\n",
    "display_contingency_matrix(len(model_digital.classes), pred, true)"
   ]
  },
  {
   "cell_type": "markdown",
   "id": "811559a7",
   "metadata": {},
   "source": [
    "### 1b) Regularization through dropout"
   ]
  },
  {
   "cell_type": "code",
   "execution_count": 26,
   "id": "a8042ba5",
   "metadata": {},
   "outputs": [],
   "source": [
    "class letterCNNDropout(nn.Module):\n",
    "    def __init__(self, classes):\n",
    "        super().__init__()\n",
    "        self.classes = classes\n",
    "        self.layers = nn.Sequential(\n",
    "            nn.Conv2d(in_channels=1, out_channels=8, kernel_size=(5,5), stride=1),\n",
    "            nn.MaxPool2d(kernel_size=(2,2), stride=2),\n",
    "            nn.ReLU(),\n",
    "            nn.Flatten(),\n",
    "            nn.Dropout(p=0.2),\n",
    "            nn.Linear(1152, len(self.classes))\n",
    "        )\n",
    "            \n",
    "    def forward(self, x):\n",
    "        output = self.layers(x)\n",
    "        return output"
   ]
  },
  {
   "cell_type": "code",
   "execution_count": 27,
   "id": "0613e3a0",
   "metadata": {},
   "outputs": [
    {
     "name": "stdout",
     "output_type": "stream",
     "text": [
      "torch.Size([64, 1, 28, 28])\n",
      "torch.Size([64])\n",
      "torch.float32 torch.int64\n",
      "torch.Size([64, 27])\n"
     ]
    }
   ],
   "source": [
    "# Testing the model above, TODO remove before submission\n",
    "model_test = letterCNNDropout(classes_collected)\n",
    "for inputs, labels in train_loader_collected:\n",
    "    print(inputs.shape)\n",
    "    print(labels.shape)\n",
    "    print(inputs.dtype, labels.dtype)\n",
    "    outputs = model_test.forward(inputs)\n",
    "    print(outputs.shape)\n",
    "    break"
   ]
  },
  {
   "cell_type": "code",
   "execution_count": 28,
   "id": "2c09b34b",
   "metadata": {},
   "outputs": [
    {
     "data": {
      "application/vnd.jupyter.widget-view+json": {
       "model_id": "6a677552692d4729bc09fc0602d8af05",
       "version_major": 2,
       "version_minor": 0
      },
      "text/plain": [
       "  0%|          | 0/10 [00:00<?, ?it/s]"
      ]
     },
     "metadata": {},
     "output_type": "display_data"
    },
    {
     "name": "stdout",
     "output_type": "stream",
     "text": [
      "EPOCH 0\n",
      " Train loss: 1.22635\n",
      "   Val loss: 0.98114\n",
      "\n",
      "EPOCH 1\n",
      " Train loss: 0.76030\n",
      "   Val loss: 0.78771\n",
      "\n",
      "EPOCH 2\n",
      " Train loss: 0.62370\n",
      "   Val loss: 0.72922\n",
      "\n",
      "EPOCH 3\n",
      " Train loss: 0.56049\n",
      "   Val loss: 0.69054\n",
      "\n",
      "EPOCH 4\n",
      " Train loss: 0.51387\n",
      "   Val loss: 0.67230\n",
      "\n",
      "EPOCH 5\n",
      " Train loss: 0.48740\n",
      "   Val loss: 0.65866\n",
      "\n",
      "EPOCH 6\n",
      " Train loss: 0.46033\n",
      "   Val loss: 0.66733\n",
      "\n",
      "EPOCH 7\n",
      " Train loss: 0.44231\n",
      "   Val loss: 0.65060\n",
      "\n",
      "EPOCH 8\n",
      " Train loss: 0.42749\n",
      "   Val loss: 0.64906\n",
      "\n",
      "EPOCH 9\n",
      " Train loss: 0.41261\n",
      "   Val loss: 0.64148\n",
      "\n"
     ]
    }
   ],
   "source": [
    "model_dropout = letterCNNDropout(classes_collected)\n",
    "criterion = nn.CrossEntropyLoss()\n",
    "optimizer = torch.optim.Adam(model_dropout.parameters(), lr=1e-3)\n",
    "train_network(model_dropout, combined_train_loader, combined_val_loader, criterion, optimizer, nepoch=10)"
   ]
  },
  {
   "cell_type": "code",
   "execution_count": 29,
   "id": "b150871b",
   "metadata": {},
   "outputs": [
    {
     "name": "stdout",
     "output_type": "stream",
     "text": [
      "Test accuracy: 84.435\n"
     ]
    },
    {
     "data": {
      "image/png": "[encoded data removed]",
      "text/plain": [
       "<Figure size 288x288 with 2 Axes>"
      ]
     },
     "metadata": {
      "needs_background": "light"
     },
     "output_type": "display_data"
    }
   ],
   "source": [
    "acc, true, pred = test_network(model_dropout, combined_test_loader)\n",
    "print('Test accuracy: %0.3f' % acc)\n",
    "\n",
    "display_contingency_matrix(len(model_dropout.classes), pred, true)"
   ]
  },
  {
   "cell_type": "markdown",
   "id": "122f4bbd",
   "metadata": {},
   "source": [
    "### 1c) Regularization through Average Pooling"
   ]
  },
  {
   "cell_type": "code",
   "execution_count": 30,
   "id": "b81c814b",
   "metadata": {},
   "outputs": [],
   "source": [
    "class letterCNNAvgPool(nn.Module):\n",
    "    def __init__(self, classes):\n",
    "        super().__init__()\n",
    "        self.classes = classes\n",
    "        self.layers = nn.Sequential(\n",
    "            nn.Conv2d(in_channels=1, out_channels=8, kernel_size=(5,5), stride=1),\n",
    "            nn.AvgPool2d(kernel_size=(2,2), stride=2),\n",
    "            nn.ReLU(),\n",
    "            nn.Flatten(),\n",
    "            nn.Linear(1152, len(self.classes))\n",
    "        )\n",
    "            \n",
    "    def forward(self, x):\n",
    "        output = self.layers(x)\n",
    "        return output"
   ]
  },
  {
   "cell_type": "code",
   "execution_count": 31,
   "id": "44249b0a",
   "metadata": {},
   "outputs": [
    {
     "name": "stdout",
     "output_type": "stream",
     "text": [
      "torch.Size([64, 1, 28, 28])\n",
      "torch.Size([64])\n",
      "torch.float32 torch.int64\n",
      "torch.Size([64, 27])\n"
     ]
    }
   ],
   "source": [
    "# Testing the model above, TODO remove before submission\n",
    "model_test = letterCNNAvgPool(classes_collected)\n",
    "for inputs, labels in train_loader_collected:\n",
    "    print(inputs.shape)\n",
    "    print(labels.shape)\n",
    "    print(inputs.dtype, labels.dtype)\n",
    "    outputs = model_test.forward(inputs)\n",
    "    print(outputs.shape)\n",
    "    break"
   ]
  },
  {
   "cell_type": "code",
   "execution_count": 32,
   "id": "ad5169ac",
   "metadata": {},
   "outputs": [
    {
     "data": {
      "application/vnd.jupyter.widget-view+json": {
       "model_id": "d894868534ab42c6a7a47b08a9331d4e",
       "version_major": 2,
       "version_minor": 0
      },
      "text/plain": [
       "  0%|          | 0/10 [00:00<?, ?it/s]"
      ]
     },
     "metadata": {},
     "output_type": "display_data"
    },
    {
     "name": "stdout",
     "output_type": "stream",
     "text": [
      "EPOCH 0\n",
      " Train loss: 1.27726\n",
      "   Val loss: 1.01340\n",
      "\n",
      "EPOCH 1\n",
      " Train loss: 0.76268\n",
      "   Val loss: 0.79416\n",
      "\n",
      "EPOCH 2\n",
      " Train loss: 0.59742\n",
      "   Val loss: 0.71204\n",
      "\n",
      "EPOCH 3\n",
      " Train loss: 0.51837\n",
      "   Val loss: 0.67658\n",
      "\n",
      "EPOCH 4\n",
      " Train loss: 0.47022\n",
      "   Val loss: 0.66399\n",
      "\n",
      "EPOCH 5\n",
      " Train loss: 0.43440\n",
      "   Val loss: 0.65566\n",
      "\n",
      "EPOCH 6\n",
      " Train loss: 0.40994\n",
      "   Val loss: 0.63990\n",
      "\n",
      "EPOCH 7\n",
      " Train loss: 0.38828\n",
      "   Val loss: 0.65226\n",
      "\n",
      "EPOCH 8\n",
      " Train loss: 0.37107\n",
      "   Val loss: 0.65710\n",
      "\n",
      "EPOCH 9\n",
      " Train loss: 0.35629\n",
      "   Val loss: 0.66257\n",
      "\n"
     ]
    }
   ],
   "source": [
    "model_avgpool = letterCNNAvgPool(classes_collected)\n",
    "criterion = nn.CrossEntropyLoss()\n",
    "optimizer = torch.optim.Adam(model_avgpool.parameters(), lr=1e-3)\n",
    "train_network(model_avgpool, combined_train_loader, combined_val_loader, criterion, optimizer, nepoch=10)"
   ]
  },
  {
   "cell_type": "code",
   "execution_count": 33,
   "id": "e670b4e9",
   "metadata": {},
   "outputs": [
    {
     "name": "stdout",
     "output_type": "stream",
     "text": [
      "Test accuracy: 84.532\n"
     ]
    },
    {
     "data": {
      "image/png": "[encoded data removed]",
      "text/plain": [
       "<Figure size 288x288 with 2 Axes>"
      ]
     },
     "metadata": {
      "needs_background": "light"
     },
     "output_type": "display_data"
    }
   ],
   "source": [
    "acc, true, pred = test_network(model_avgpool, combined_test_loader)\n",
    "print('Test accuracy: %0.3f' % acc)\n",
    "\n",
    "display_contingency_matrix(len(model_avgpool.classes), pred, true)"
   ]
  },
  {
   "cell_type": "markdown",
   "id": "0829dc6e",
   "metadata": {},
   "source": [
    "### 1d) Regularization through Early Stopping"
   ]
  },
  {
   "cell_type": "code",
   "execution_count": 34,
   "id": "7a0f970c",
   "metadata": {},
   "outputs": [],
   "source": [
    "def train_network_early_stopping(model, train_loader, val_loader, criterion, optimizer, nepoch=100):\n",
    "    prev_val_losses = [0] * 5\n",
    "    try:\n",
    "        for epoch in tqdm(range(nepoch)):\n",
    "            print('EPOCH %d'%epoch)\n",
    "            total_loss = 0\n",
    "            count = 0\n",
    "            for inputs, labels in train_loader:\n",
    "                optimizer.zero_grad()\n",
    "                outputs = model.forward(inputs)\n",
    "                labels = labels.type(torch.long)\n",
    "                loss = criterion(outputs, labels)\n",
    "                loss.backward()\n",
    "                optimizer.step()\n",
    "                total_loss += loss.item()\n",
    "                count += 1\n",
    "            print('{:>12s} {:>7.5f}'.format('Train loss:', total_loss/count))\n",
    "            with torch.no_grad():\n",
    "                total_loss = 0\n",
    "                count = 0\n",
    "                for inputs, labels in val_loader:\n",
    "                    outputs = model.forward(inputs)\n",
    "                    labels = labels.type(torch.long)\n",
    "                    loss = criterion(outputs, labels)\n",
    "                    total_loss += loss.item()\n",
    "                    count += 1\n",
    "                prev_val_losses[epoch % 5] = total_loss/count\n",
    "                print('{:>12s} {:>7.5f}'.format('Val loss:', total_loss/count))\n",
    "            if epoch > 5:\n",
    "                prev_error_mean = sum(prev_val_losses) / len(prev_val_losses)\n",
    "                if prev_error_mean > 0.80:\n",
    "                    # implementing early stopping for regularization\n",
    "                    # note that 0.65 here is a hyperparameter\n",
    "                    print('Early stopping in epoch ' + str(epoch) + ' because the average of last 5 validation error was ' + str(prev_error_mean))\n",
    "                    break\n",
    "            print()\n",
    "    except KeyboardInterrupt:\n",
    "        print('Exiting from training early')\n",
    "    return"
   ]
  },
  {
   "cell_type": "code",
   "execution_count": 35,
   "id": "d590e600",
   "metadata": {},
   "outputs": [
    {
     "data": {
      "application/vnd.jupyter.widget-view+json": {
       "model_id": "dc9a27cda84c4589a39cf43792bbde83",
       "version_major": 2,
       "version_minor": 0
      },
      "text/plain": [
       "  0%|          | 0/50 [00:00<?, ?it/s]"
      ]
     },
     "metadata": {},
     "output_type": "display_data"
    },
    {
     "name": "stdout",
     "output_type": "stream",
     "text": [
      "EPOCH 0\n",
      " Train loss: 1.22933\n",
      "   Val loss: 0.90086\n",
      "\n",
      "EPOCH 1\n",
      " Train loss: 0.66729\n",
      "   Val loss: 0.69901\n",
      "\n",
      "EPOCH 2\n",
      " Train loss: 0.51694\n",
      "   Val loss: 0.62772\n",
      "\n",
      "EPOCH 3\n",
      " Train loss: 0.44670\n",
      "   Val loss: 0.60421\n",
      "\n",
      "EPOCH 4\n",
      " Train loss: 0.40125\n",
      "   Val loss: 0.58846\n",
      "\n",
      "EPOCH 5\n",
      " Train loss: 0.37142\n",
      "   Val loss: 0.59959\n",
      "\n",
      "EPOCH 6\n",
      " Train loss: 0.34662\n",
      "   Val loss: 0.58308\n",
      "\n",
      "EPOCH 7\n",
      " Train loss: 0.32625\n",
      "   Val loss: 0.59262\n",
      "\n",
      "EPOCH 8\n",
      " Train loss: 0.31220\n",
      "   Val loss: 0.59123\n",
      "\n",
      "EPOCH 9\n",
      " Train loss: 0.29615\n",
      "   Val loss: 0.60855\n",
      "\n",
      "EPOCH 10\n",
      " Train loss: 0.28473\n",
      "   Val loss: 0.61120\n",
      "\n",
      "EPOCH 11\n",
      " Train loss: 0.27157\n",
      "   Val loss: 0.59913\n",
      "\n",
      "EPOCH 12\n",
      " Train loss: 0.26138\n",
      "   Val loss: 0.59734\n",
      "\n",
      "EPOCH 13\n",
      " Train loss: 0.25126\n",
      "   Val loss: 0.59952\n",
      "\n",
      "EPOCH 14\n",
      " Train loss: 0.24277\n",
      "   Val loss: 0.60724\n",
      "\n",
      "EPOCH 15\n",
      " Train loss: 0.23550\n",
      "   Val loss: 0.62981\n",
      "\n",
      "EPOCH 16\n",
      " Train loss: 0.22874\n",
      "   Val loss: 0.62523\n",
      "\n",
      "EPOCH 17\n",
      " Train loss: 0.22221\n",
      "   Val loss: 0.63380\n",
      "\n",
      "EPOCH 18\n",
      " Train loss: 0.21565\n",
      "   Val loss: 0.63855\n",
      "\n",
      "EPOCH 19\n",
      " Train loss: 0.20915\n",
      "   Val loss: 0.65107\n",
      "\n",
      "EPOCH 20\n",
      " Train loss: 0.20546\n",
      "   Val loss: 0.66642\n",
      "\n",
      "EPOCH 21\n",
      " Train loss: 0.20034\n",
      "   Val loss: 0.66483\n",
      "\n",
      "EPOCH 22\n",
      " Train loss: 0.19475\n",
      "   Val loss: 0.67329\n",
      "\n",
      "EPOCH 23\n",
      " Train loss: 0.18993\n",
      "   Val loss: 0.67220\n",
      "\n",
      "EPOCH 24\n",
      " Train loss: 0.18401\n",
      "   Val loss: 0.67901\n",
      "\n",
      "EPOCH 25\n",
      " Train loss: 0.18146\n",
      "   Val loss: 0.68589\n",
      "\n",
      "EPOCH 26\n",
      " Train loss: 0.17716\n",
      "   Val loss: 0.69643\n",
      "\n",
      "EPOCH 27\n",
      " Train loss: 0.17224\n",
      "   Val loss: 0.72198\n",
      "\n",
      "EPOCH 28\n",
      " Train loss: 0.16857\n",
      "   Val loss: 0.71706\n",
      "\n",
      "EPOCH 29\n",
      " Train loss: 0.16390\n",
      "   Val loss: 0.71581\n",
      "\n",
      "EPOCH 30\n",
      " Train loss: 0.16132\n",
      "   Val loss: 0.72617\n",
      "\n",
      "EPOCH 31\n",
      " Train loss: 0.15773\n",
      "   Val loss: 0.75810\n",
      "\n",
      "EPOCH 32\n",
      " Train loss: 0.15531\n",
      "   Val loss: 0.73844\n",
      "\n",
      "EPOCH 33\n",
      " Train loss: 0.15342\n",
      "   Val loss: 0.75841\n",
      "\n",
      "EPOCH 34\n",
      " Train loss: 0.14838\n",
      "   Val loss: 0.77376\n",
      "\n",
      "EPOCH 35\n",
      " Train loss: 0.14727\n",
      "   Val loss: 0.77849\n",
      "\n",
      "EPOCH 36\n",
      " Train loss: 0.14478\n",
      "   Val loss: 0.80004\n",
      "\n",
      "EPOCH 37\n",
      " Train loss: 0.13895\n",
      "   Val loss: 0.80611\n",
      "\n",
      "EPOCH 38\n",
      " Train loss: 0.13868\n",
      "   Val loss: 0.80376\n",
      "\n",
      "EPOCH 39\n",
      " Train loss: 0.13606\n",
      "   Val loss: 0.82018\n",
      "Early stopping in epoch 39 because the average of last 5 validation error was 0.80171621067671\n"
     ]
    }
   ],
   "source": [
    "model_early_stopping = letterCNN(classes_collected)\n",
    "criterion = nn.CrossEntropyLoss()\n",
    "optimizer = torch.optim.Adam(model_early_stopping.parameters(), lr=1e-3)\n",
    "train_network_early_stopping(model_early_stopping, combined_train_loader, combined_val_loader, criterion, optimizer, nepoch=50)"
   ]
  },
  {
   "cell_type": "code",
   "execution_count": 36,
   "id": "dc8cf3bf",
   "metadata": {},
   "outputs": [
    {
     "name": "stdout",
     "output_type": "stream",
     "text": [
      "Test accuracy: 86.432\n"
     ]
    },
    {
     "data": {
      "image/png": "[encoded data removed]",
      "text/plain": [
       "<Figure size 288x288 with 2 Axes>"
      ]
     },
     "metadata": {
      "needs_background": "light"
     },
     "output_type": "display_data"
    }
   ],
   "source": [
    "acc, true, pred = test_network(model_early_stopping, combined_test_loader)\n",
    "print('Test accuracy: %0.3f' % acc)\n",
    "\n",
    "display_contingency_matrix(len(model_early_stopping.classes), pred, true)"
   ]
  },
  {
   "cell_type": "markdown",
   "id": "b4c74c3f",
   "metadata": {},
   "source": [
    "## Computational Experiment 2 - Architecture"
   ]
  },
  {
   "cell_type": "markdown",
   "id": "d10205d8",
   "metadata": {},
   "source": [
    "### 2a) Double Convolutional Layer"
   ]
  },
  {
   "cell_type": "code",
   "execution_count": 37,
   "id": "8128e36e",
   "metadata": {},
   "outputs": [],
   "source": [
    "def display_kernels(conv_weights):\n",
    "    num_kernels = conv_weights.shape[0]\n",
    "    # \"unnecessary code\" to get square-like dimensions to align different kernels\n",
    "    cols = num_kernels // int(num_kernels ** 0.5)\n",
    "    rows = num_kernels // cols\n",
    "    \n",
    "    _, axes = plt.subplots(rows, cols, figsize=(9,9))\n",
    "    kernel = 0\n",
    "    for i in range(rows):\n",
    "        for j in range(cols):\n",
    "            axes[i,j].matshow(conv_weights[kernel][0], cmap='gray')\n",
    "            kernel += 1\n",
    "            title = 'Kernel ' + str(kernel)\n",
    "            axes[i,j].set_title(title)\n",
    "    plt.setp(axes, xticks=[], yticks=[])\n",
    "    plt.tight_layout()"
   ]
  },
  {
   "cell_type": "code",
   "execution_count": 39,
   "id": "9d3c3303",
   "metadata": {},
   "outputs": [
    {
     "data": {
      "image/png": "[encoded data removed]",
      "text/plain": [
       "<Figure size 648x648 with 8 Axes>"
      ]
     },
     "metadata": {},
     "output_type": "display_data"
    }
   ],
   "source": [
    "# extract the weights from the learned model\n",
    "conv1wt = basic_model_combined.layers[0].weight.data.numpy()\n",
    "display_kernels(conv1wt)"
   ]
  },
  {
   "cell_type": "code",
   "execution_count": 40,
   "id": "5d4dc8c9",
   "metadata": {},
   "outputs": [],
   "source": [
    "class letterCNNDouble(nn.Module):\n",
    "    def __init__(self, classes):\n",
    "        super().__init__()\n",
    "        self.classes = classes\n",
    "        self.layers = nn.Sequential(\n",
    "            nn.Conv2d(in_channels=1, out_channels=8, kernel_size=(5,5), stride=1),\n",
    "            nn.MaxPool2d(kernel_size=(2,2), stride=2),\n",
    "            nn.ReLU(),\n",
    "            nn.Conv2d(in_channels=8, out_channels=64, kernel_size=(5,5), stride=1),\n",
    "            nn.MaxPool2d(kernel_size=(2,2), stride=2),\n",
    "            nn.ReLU(),\n",
    "            nn.Flatten(),\n",
    "            nn.Linear(1024, len(self.classes))\n",
    "        )\n",
    "            \n",
    "    def forward(self, x):\n",
    "        return self.layers(x)"
   ]
  },
  {
   "cell_type": "code",
   "execution_count": 41,
   "id": "b2dde111",
   "metadata": {},
   "outputs": [
    {
     "data": {
      "application/vnd.jupyter.widget-view+json": {
       "model_id": "4674eb67df7d4e8da9f313a924c690d9",
       "version_major": 2,
       "version_minor": 0
      },
      "text/plain": [
       "  0%|          | 0/10 [00:00<?, ?it/s]"
      ]
     },
     "metadata": {},
     "output_type": "display_data"
    },
    {
     "name": "stdout",
     "output_type": "stream",
     "text": [
      "EPOCH 0\n",
      " Train loss: 0.84097\n",
      "   Val loss: 0.53678\n",
      "\n",
      "EPOCH 1\n",
      " Train loss: 0.38269\n",
      "   Val loss: 0.47076\n",
      "\n",
      "EPOCH 2\n",
      " Train loss: 0.29375\n",
      "   Val loss: 0.43595\n",
      "\n",
      "EPOCH 3\n",
      " Train loss: 0.24922\n",
      "   Val loss: 0.38050\n",
      "\n",
      "EPOCH 4\n",
      " Train loss: 0.21849\n",
      "   Val loss: 0.40586\n",
      "\n",
      "EPOCH 5\n",
      " Train loss: 0.19468\n",
      "   Val loss: 0.38329\n",
      "\n",
      "EPOCH 6\n",
      " Train loss: 0.17645\n",
      "   Val loss: 0.39143\n",
      "\n",
      "EPOCH 7\n",
      " Train loss: 0.16138\n",
      "   Val loss: 0.38599\n",
      "\n",
      "EPOCH 8\n",
      " Train loss: 0.14661\n",
      "   Val loss: 0.39926\n",
      "\n",
      "EPOCH 9\n",
      " Train loss: 0.13554\n",
      "   Val loss: 0.40829\n",
      "\n"
     ]
    }
   ],
   "source": [
    "model_double_layer = letterCNNDouble(classes_collected)\n",
    "criterion = nn.CrossEntropyLoss()\n",
    "optimizer = torch.optim.Adam(model_double_layer.parameters(), lr=1e-3)\n",
    "train_network(model_double_layer, combined_train_loader, combined_val_loader, criterion, optimizer, nepoch=10)"
   ]
  },
  {
   "cell_type": "code",
   "execution_count": 42,
   "id": "6fe90fd9",
   "metadata": {},
   "outputs": [
    {
     "name": "stdout",
     "output_type": "stream",
     "text": [
      "Test accuracy: 90.741\n"
     ]
    },
    {
     "data": {
      "image/png": "[encoded data removed]",
      "text/plain": [
       "<Figure size 288x288 with 2 Axes>"
      ]
     },
     "metadata": {
      "needs_background": "light"
     },
     "output_type": "display_data"
    }
   ],
   "source": [
    "acc, true, pred = test_network(model_double_layer, combined_test_loader)\n",
    "print('Test accuracy: %0.3f' % acc)\n",
    "\n",
    "display_contingency_matrix(len(model_double_layer.classes), pred, true)"
   ]
  },
  {
   "cell_type": "code",
   "execution_count": 43,
   "id": "b2ae72ec",
   "metadata": {},
   "outputs": [
    {
     "data": {
      "image/png": "[encoded data removed]",
      "text/plain": [
       "<Figure size 648x648 with 8 Axes>"
      ]
     },
     "metadata": {},
     "output_type": "display_data"
    }
   ],
   "source": [
    "# extract the weights from the learned model\n",
    "conv2wtsfirst = model_double_layer.layers[0].weight.data.numpy()\n",
    "display_kernels(conv2wtsfirst)"
   ]
  },
  {
   "cell_type": "code",
   "execution_count": 44,
   "id": "e6fae13c",
   "metadata": {},
   "outputs": [
    {
     "data": {
      "image/png": "[encoded data removed]",
      "text/plain": [
       "<Figure size 648x648 with 64 Axes>"
      ]
     },
     "metadata": {},
     "output_type": "display_data"
    }
   ],
   "source": [
    "# extract the weights from the learned model\n",
    "conv2wtssecond = model_double_layer.layers[3].weight.data.numpy()\n",
    "display_kernels(conv2wtssecond)"
   ]
  },
  {
   "cell_type": "markdown",
   "id": "09a4aa03",
   "metadata": {},
   "source": [
    "### 2b) Changing the Kernel Size"
   ]
  },
  {
   "cell_type": "code",
   "execution_count": 45,
   "id": "53490e45",
   "metadata": {},
   "outputs": [],
   "source": [
    "class letterCNNKernel(nn.Module):\n",
    "    def __init__(self, classes, size):\n",
    "        super().__init__()\n",
    "        self.classes = classes\n",
    "        output_size = (((28 - size) + 1) // 2) ** 2 * 8 \n",
    "        self.layers = nn.Sequential(\n",
    "            nn.Conv2d(in_channels=1, out_channels=8, kernel_size=(size,size), stride=1),\n",
    "            nn.MaxPool2d(kernel_size=(2,2), stride=2),\n",
    "            nn.ReLU(),\n",
    "            nn.Flatten(),\n",
    "            nn.Linear(output_size, len(self.classes))\n",
    "        )\n",
    "            \n",
    "    def forward(self, x):\n",
    "        return self.layers(x)"
   ]
  },
  {
   "cell_type": "markdown",
   "id": "27c4b6ef",
   "metadata": {},
   "source": [
    "#### Size 3 kernel"
   ]
  },
  {
   "cell_type": "code",
   "execution_count": 46,
   "id": "b80de01f",
   "metadata": {},
   "outputs": [
    {
     "data": {
      "application/vnd.jupyter.widget-view+json": {
       "model_id": "0ec23b61ea3e4a2dafdd34b4ca5d6d58",
       "version_major": 2,
       "version_minor": 0
      },
      "text/plain": [
       "  0%|          | 0/10 [00:00<?, ?it/s]"
      ]
     },
     "metadata": {},
     "output_type": "display_data"
    },
    {
     "name": "stdout",
     "output_type": "stream",
     "text": [
      "EPOCH 0\n",
      " Train loss: 1.26756\n",
      "   Val loss: 1.01389\n",
      "\n",
      "EPOCH 1\n",
      " Train loss: 0.76398\n",
      "   Val loss: 0.78053\n",
      "\n",
      "EPOCH 2\n",
      " Train loss: 0.58966\n",
      "   Val loss: 0.69749\n",
      "\n",
      "EPOCH 3\n",
      " Train loss: 0.50281\n",
      "   Val loss: 0.65394\n",
      "\n",
      "EPOCH 4\n",
      " Train loss: 0.44949\n",
      "   Val loss: 0.65273\n",
      "\n",
      "EPOCH 5\n",
      " Train loss: 0.41500\n",
      "   Val loss: 0.64909\n",
      "\n",
      "EPOCH 6\n",
      " Train loss: 0.38895\n",
      "   Val loss: 0.62806\n",
      "\n",
      "EPOCH 7\n",
      " Train loss: 0.37144\n",
      "   Val loss: 0.62221\n",
      "\n",
      "EPOCH 8\n",
      " Train loss: 0.35522\n",
      "   Val loss: 0.63128\n",
      "\n",
      "EPOCH 9\n",
      " Train loss: 0.34271\n",
      "   Val loss: 0.63524\n",
      "\n"
     ]
    }
   ],
   "source": [
    "model_kernel_3 = letterCNNKernel(classes, 3)\n",
    "criterion = nn.CrossEntropyLoss()\n",
    "optimizer = torch.optim.Adam(model_kernel_3.parameters(), lr=1e-3)\n",
    "train_network(model_kernel_3, combined_train_loader, combined_val_loader, criterion, optimizer, nepoch=10)"
   ]
  },
  {
   "cell_type": "code",
   "execution_count": 47,
   "id": "02b54d88",
   "metadata": {},
   "outputs": [
    {
     "name": "stdout",
     "output_type": "stream",
     "text": [
      "Test accuracy: 85.088\n"
     ]
    },
    {
     "data": {
      "image/png": "[encoded data removed]",
      "text/plain": [
       "<Figure size 288x288 with 2 Axes>"
      ]
     },
     "metadata": {
      "needs_background": "light"
     },
     "output_type": "display_data"
    }
   ],
   "source": [
    "acc, true, pred = test_network(model_kernel_3, combined_test_loader)\n",
    "print('Test accuracy: %0.3f' % acc)\n",
    "\n",
    "display_contingency_matrix(len(model_kernel_3.classes), pred, true)"
   ]
  },
  {
   "cell_type": "code",
   "execution_count": 48,
   "id": "e8085aaa",
   "metadata": {},
   "outputs": [
    {
     "data": {
      "image/png": "[encoded data removed]",
      "text/plain": [
       "<Figure size 648x648 with 8 Axes>"
      ]
     },
     "metadata": {},
     "output_type": "display_data"
    }
   ],
   "source": [
    "# extract the weights from the learned model\n",
    "convk3wts = model_kernel_3.layers[0].weight.data.numpy()\n",
    "display_kernels(convk3wts)"
   ]
  },
  {
   "cell_type": "markdown",
   "id": "61dbd39b",
   "metadata": {},
   "source": [
    "#### Size 8 kernel"
   ]
  },
  {
   "cell_type": "code",
   "execution_count": 49,
   "id": "53d9d5ed",
   "metadata": {},
   "outputs": [
    {
     "data": {
      "application/vnd.jupyter.widget-view+json": {
       "model_id": "a877263003ff4d78b34256139769abae",
       "version_major": 2,
       "version_minor": 0
      },
      "text/plain": [
       "  0%|          | 0/10 [00:00<?, ?it/s]"
      ]
     },
     "metadata": {},
     "output_type": "display_data"
    },
    {
     "name": "stdout",
     "output_type": "stream",
     "text": [
      "EPOCH 0\n",
      " Train loss: 1.08759\n",
      "   Val loss: 0.76200\n",
      "\n",
      "EPOCH 1\n",
      " Train loss: 0.55149\n",
      "   Val loss: 0.61114\n",
      "\n",
      "EPOCH 2\n",
      " Train loss: 0.45093\n",
      "   Val loss: 0.57187\n",
      "\n",
      "EPOCH 3\n",
      " Train loss: 0.40330\n",
      "   Val loss: 0.57247\n",
      "\n",
      "EPOCH 4\n",
      " Train loss: 0.37205\n",
      "   Val loss: 0.54554\n",
      "\n",
      "EPOCH 5\n",
      " Train loss: 0.34778\n",
      "   Val loss: 0.57866\n",
      "\n",
      "EPOCH 6\n",
      " Train loss: 0.32944\n",
      "   Val loss: 0.56796\n",
      "\n",
      "EPOCH 7\n",
      " Train loss: 0.31557\n",
      "   Val loss: 0.55356\n",
      "\n",
      "EPOCH 8\n",
      " Train loss: 0.30350\n",
      "   Val loss: 0.57014\n",
      "\n",
      "EPOCH 9\n",
      " Train loss: 0.29230\n",
      "   Val loss: 0.57892\n",
      "\n"
     ]
    }
   ],
   "source": [
    "model_kernel_8 = letterCNNKernel(classes, 8)\n",
    "criterion = nn.CrossEntropyLoss()\n",
    "optimizer = torch.optim.Adam(model_kernel_8.parameters(), lr=1e-3)\n",
    "train_network(model_kernel_8, combined_train_loader, combined_val_loader, criterion, optimizer, nepoch=10)"
   ]
  },
  {
   "cell_type": "code",
   "execution_count": 50,
   "id": "10f21c93",
   "metadata": {},
   "outputs": [
    {
     "name": "stdout",
     "output_type": "stream",
     "text": [
      "Test accuracy: 86.937\n"
     ]
    },
    {
     "data": {
      "image/png": "[encoded data removed]",
      "text/plain": [
       "<Figure size 288x288 with 2 Axes>"
      ]
     },
     "metadata": {
      "needs_background": "light"
     },
     "output_type": "display_data"
    }
   ],
   "source": [
    "acc, true, pred = test_network(model_kernel_8, combined_test_loader)\n",
    "print('Test accuracy: %0.3f' % acc)\n",
    "\n",
    "display_contingency_matrix(len(model_kernel_8.classes), pred, true)"
   ]
  },
  {
   "cell_type": "code",
   "execution_count": 51,
   "id": "d287894a",
   "metadata": {},
   "outputs": [
    {
     "data": {
      "image/png": "[encoded data removed]",
      "text/plain": [
       "<Figure size 648x648 with 8 Axes>"
      ]
     },
     "metadata": {},
     "output_type": "display_data"
    }
   ],
   "source": [
    "# extract the weights from the learned model\n",
    "convk8wts = model_kernel_8.layers[0].weight.data.numpy()\n",
    "display_kernels(convk8wts)"
   ]
  },
  {
   "cell_type": "markdown",
   "id": "7e565e42",
   "metadata": {},
   "source": [
    "#### Size 11 kernel"
   ]
  },
  {
   "cell_type": "code",
   "execution_count": 52,
   "id": "1577f001",
   "metadata": {},
   "outputs": [
    {
     "data": {
      "application/vnd.jupyter.widget-view+json": {
       "model_id": "12ec8ec20980494f87992093aa8c88c9",
       "version_major": 2,
       "version_minor": 0
      },
      "text/plain": [
       "  0%|          | 0/10 [00:00<?, ?it/s]"
      ]
     },
     "metadata": {},
     "output_type": "display_data"
    },
    {
     "name": "stdout",
     "output_type": "stream",
     "text": [
      "EPOCH 0\n",
      " Train loss: 1.09465\n",
      "   Val loss: 0.78244\n",
      "\n",
      "EPOCH 1\n",
      " Train loss: 0.58213\n",
      "   Val loss: 0.64321\n",
      "\n",
      "EPOCH 2\n",
      " Train loss: 0.48357\n",
      "   Val loss: 0.60450\n",
      "\n",
      "EPOCH 3\n",
      " Train loss: 0.42837\n",
      "   Val loss: 0.59527\n",
      "\n",
      "EPOCH 4\n",
      " Train loss: 0.39192\n",
      "   Val loss: 0.56762\n",
      "\n",
      "EPOCH 5\n",
      " Train loss: 0.36528\n",
      "   Val loss: 0.55360\n",
      "\n",
      "EPOCH 6\n",
      " Train loss: 0.34799\n",
      "   Val loss: 0.56122\n",
      "\n",
      "EPOCH 7\n",
      " Train loss: 0.33093\n",
      "   Val loss: 0.54861\n",
      "\n",
      "EPOCH 8\n",
      " Train loss: 0.31737\n",
      "   Val loss: 0.55724\n",
      "\n",
      "EPOCH 9\n",
      " Train loss: 0.30679\n",
      "   Val loss: 0.58168\n",
      "\n"
     ]
    }
   ],
   "source": [
    "model_kernel_11 = letterCNNKernel(classes, 11)\n",
    "criterion = nn.CrossEntropyLoss()\n",
    "optimizer = torch.optim.Adam(model_kernel_11.parameters(), lr=1e-3)\n",
    "train_network(model_kernel_11, combined_train_loader, combined_val_loader, criterion, optimizer, nepoch=10)"
   ]
  },
  {
   "cell_type": "code",
   "execution_count": 53,
   "id": "10f21c93",
   "metadata": {},
   "outputs": [
    {
     "name": "stdout",
     "output_type": "stream",
     "text": [
      "Test accuracy: 86.515\n"
     ]
    },
    {
     "data": {
      "image/png": "[encoded data removed]",
      "text/plain": [
       "<Figure size 288x288 with 2 Axes>"
      ]
     },
     "metadata": {
      "needs_background": "light"
     },
     "output_type": "display_data"
    }
   ],
   "source": [
    "acc, true, pred = test_network(model_kernel_11, combined_test_loader)\n",
    "print('Test accuracy: %0.3f' % acc)\n",
    "\n",
    "display_contingency_matrix(len(model_kernel_11.classes), pred, true)"
   ]
  },
  {
   "cell_type": "code",
   "execution_count": 54,
   "id": "205cc9e0",
   "metadata": {},
   "outputs": [
    {
     "data": {
      "image/png": "[encoded data removed]",
      "text/plain": [
       "<Figure size 648x648 with 8 Axes>"
      ]
     },
     "metadata": {},
     "output_type": "display_data"
    }
   ],
   "source": [
    "# extract the weights from the learned model\n",
    "convk11wts = model_kernel_11.layers[0].weight.data.numpy()\n",
    "display_kernels(convk11wts)"
   ]
  },
  {
   "cell_type": "markdown",
   "id": "18290673",
   "metadata": {},
   "source": [
    "## Optimized Inputs"
   ]
  },
  {
   "cell_type": "code",
   "execution_count": 55,
   "id": "68965e5a",
   "metadata": {},
   "outputs": [],
   "source": [
    "class OptimizeInput(nn.Module):\n",
    "    def __init__(self, learned_model, input_shape=(1, 1, 28, 28)):\n",
    "        super().__init__()\n",
    "        self.learned_model = learned_model\n",
    "        self.optimized_input = torch.zeros(input_shape, requires_grad=True)\n",
    "        \n",
    "    def forward(self):\n",
    "        return self.learned_model(self.optimized_input)\n",
    "    \n",
    "    def parameters(self):\n",
    "        return [self.optimized_input]"
   ]
  },
  {
   "cell_type": "code",
   "execution_count": 56,
   "id": "cb3cce1a",
   "metadata": {},
   "outputs": [],
   "source": [
    "# Given model, get optimized input for each character\n",
    "def get_optimized_inputs(model, nepochs = 10000, validate_loss=False):\n",
    "    targets = torch.arange(len(model.classes)).long()\n",
    "    optimized_inputs = {}\n",
    "\n",
    "    for t in targets:\n",
    "        # train input\n",
    "        input_model = OptimizeInput(model)\n",
    "        optimizer = torch.optim.Adam(input_model.parameters(), lr=.01)\n",
    "        criterion = nn.CrossEntropyLoss()\n",
    "        for epoch in range(nepochs):\n",
    "            optimizer.zero_grad()\n",
    "            outputs = input_model()\n",
    "            loss = criterion(outputs, t.reshape(1))\n",
    "            loss.backward()\n",
    "            optimizer.step()\n",
    "        optimized_inputs[model.classes[t]] = input_model.optimized_input.detach().numpy().reshape((28, 28))\n",
    "        \n",
    "        # test input\n",
    "        if (validate_loss):\n",
    "            print(\"finished %s with %0.5f loss\" % (model.classes[t], loss.item()), end = \"\\t\")\n",
    "            tensor = torch.Tensor(optimized_inputs[model.classes[t]].reshape(1, 1, 28, 28))\n",
    "            with torch.no_grad():\n",
    "                output = model(tensor)\n",
    "            prob = output.squeeze().detach().numpy()\n",
    "            pred = model.classes[torch.argmax(output, dim=1)]\n",
    "            print(f\"Expected: {model.classes[t]}. Predicted: {pred}.\")\n",
    "    return optimized_inputs\n",
    "\n",
    "def display_optimized_inputs(optimized_inputs):\n",
    "    letters = ['a', 'b', 'c', 'd', 'e', 'f', 'g', 'h', 'i', 'j', 'k', 'l', 'm', 'n', 'o', 'p', 'q', 'r', 's', 't', 'u', 'v', 'w', 'x', 'y', 'z']\n",
    "    fig, axes = plt.subplots(4, 7, figsize=(9,9))\n",
    "    letter = 0\n",
    "    for i in range(4):\n",
    "        for j in range(7):\n",
    "            img = optimized_inputs[letters[letter]]\n",
    "            axes[i,j].matshow(img, cmap='gray')\n",
    "            title = 'opt ' + str(letters[letter])\n",
    "            letter += 1\n",
    "            axes[i,j].set_title(title)\n",
    "            if letter > 25: break\n",
    "    fig.delaxes(axes[3,5])\n",
    "    fig.delaxes(axes[3,6])\n",
    "    plt.setp(axes, xticks=[], yticks=[])\n",
    "    plt.tight_layout()    "
   ]
  },
  {
   "cell_type": "code",
   "execution_count": null,
   "id": "9b14cf50",
   "metadata": {},
   "outputs": [],
   "source": [
    "optimized_inputs_kernel_3 = get_optimized_inputs(model_kernel_3, nepochs=1000)\n",
    "optimized_inputs_kernel_5 = get_optimized_inputs(basic_model_combined, nepochs=1000)\n",
    "optimized_inputs_kernel_8 = get_optimized_inputs(model_kernel_8, nepochs=1000)\n",
    "optimized_inputs_kernel_11 = get_optimized_inputs(model_kernel_11, nepochs=1000)"
   ]
  },
  {
   "cell_type": "code",
   "execution_count": null,
   "id": "9c97b443",
   "metadata": {},
   "outputs": [],
   "source": [
    "display_optimized_inputs(optimized_inputs_kernel_3)"
   ]
  },
  {
   "cell_type": "code",
   "execution_count": null,
   "id": "8da04f08",
   "metadata": {},
   "outputs": [],
   "source": [
    "display_optimized_inputs(optimized_inputs_kernel_5)"
   ]
  },
  {
   "cell_type": "code",
   "execution_count": null,
   "id": "3f1d0475",
   "metadata": {},
   "outputs": [],
   "source": [
    "display_optimized_inputs(optimized_inputs_kernel_8)"
   ]
  },
  {
   "cell_type": "code",
   "execution_count": null,
   "id": "8f5a7397",
   "metadata": {},
   "outputs": [],
   "source": [
    "display_optimized_inputs(optimized_inputs_kernel_11)"
   ]
  },
  {
   "cell_type": "code",
   "execution_count": null,
   "id": "13a824ab",
   "metadata": {},
   "outputs": [],
   "source": []
  }
 ],
 "metadata": {
  "interpreter": {
   "hash": "aee8b7b246df8f9039afb4144a1f6fd8d2ca17a180786b69acc140d282b71a49"
  },
  "kernelspec": {
   "display_name": "Python 3 (ipykernel)",
   "language": "python",
   "name": "python3"
  },
  "language_info": {
   "codemirror_mode": {
    "name": "ipython",
    "version": 3
   },
   "file_extension": ".py",
   "mimetype": "text/x-python",
   "name": "python",
   "nbconvert_exporter": "python",
   "pygments_lexer": "ipython3",
   "version": "3.9.7"
  }
 },
 "nbformat": 4,
 "nbformat_minor": 5
}
