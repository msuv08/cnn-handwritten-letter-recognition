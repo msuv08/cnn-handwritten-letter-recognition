{
 "cells": [
  {
   "cell_type": "markdown",
   "id": "21f69704",
   "metadata": {},
   "source": [
    "# CS 342 Final Project - Letter Recognition CNN"
   ]
  },
  {
   "cell_type": "markdown",
   "id": "d1664c6b",
   "metadata": {},
   "source": [
    "Mrityunjay Mishra, Mihir Suvarna, Daniel Sialm"
   ]
  },
  {
   "cell_type": "markdown",
   "id": "f55a6548",
   "metadata": {},
   "source": [
    "## Project Description"
   ]
  },
  {
   "cell_type": "markdown",
   "id": "7f97ac96",
   "metadata": {},
   "source": [
    "This project aims to create a convolutional neural network (CNN) for the task of letter recognition. The task of letter recognition, or more generally speaking, text recognition (also known as optical character recognition, or OCR) has gained much importance in recent years due to emerging applications. For example, OCR software can be used to convert handwritten text into digital text and robots use cameras to read signs in their environment. Due to the increasing importance of the task of text recognition, we aim to create a robust CNN that is able to correctly classify handwritten and digital letters."
   ]
  },
  {
   "cell_type": "code",
   "execution_count": 1,
   "id": "75da0fed",
   "metadata": {},
   "outputs": [],
   "source": [
    "# Run these two blocks to load important libraries and set things up\n",
    "import torch\n",
    "from torch import nn\n",
    "import numpy as np\n",
    "\n",
    "%matplotlib inline\n",
    "import matplotlib.pyplot as plt"
   ]
  },
  {
   "cell_type": "markdown",
   "id": "b1977be9",
   "metadata": {},
   "source": [
    "## Load Dataset"
   ]
  },
  {
   "cell_type": "markdown",
   "id": "89d0599f",
   "metadata": {},
   "source": [
    "### EMNIST Data Set"
   ]
  },
  {
   "cell_type": "code",
   "execution_count": 2,
   "id": "65c076b1",
   "metadata": {},
   "outputs": [
    {
     "name": "stdout",
     "output_type": "stream",
     "text": [
      "Dataset EMNIST\n",
      "    Number of datapoints: 124800\n",
      "    Root location: letterEMNIST\n",
      "    Split: Train\n",
      "    StandardTransform\n",
      "Transform: ToTensor()\n",
      "Dataset EMNIST\n",
      "    Number of datapoints: 20800\n",
      "    Root location: letterEMNIST\n",
      "    Split: Test\n",
      "    StandardTransform\n",
      "Transform: ToTensor()\n"
     ]
    }
   ],
   "source": [
    "from torchvision import datasets, transforms\n",
    "\n",
    "save_dir = 'letterEMNIST'\n",
    "\n",
    "transform = transforms.ToTensor() # Convert the image into a torch tensor.\n",
    "\n",
    "train_set = datasets.EMNIST(save_dir, split=\"letters\", download=True, train=True, transform=transform)\n",
    "test_set = datasets.EMNIST(save_dir, split=\"letters\", download=True, train=False, transform=transform)\n",
    "\n",
    "print(train_set)\n",
    "print(test_set)"
   ]
  },
  {
   "cell_type": "code",
   "execution_count": 3,
   "id": "1cc0f048",
   "metadata": {},
   "outputs": [],
   "source": [
    "from torch.utils.data.sampler import SubsetRandomSampler\n",
    "ntotal = 60000\n",
    "ntrain = int(0.9*ntotal)\n",
    "nval = ntotal - ntrain\n",
    "\n",
    "val_ix = np.random.choice(range(ntotal), size=nval, replace=False)\n",
    "train_ix = list(set(range(ntotal)) - set(val_ix))\n",
    "\n",
    "train_sampler = SubsetRandomSampler(train_ix)\n",
    "val_sampler = SubsetRandomSampler(val_ix)"
   ]
  },
  {
   "cell_type": "code",
   "execution_count": 4,
   "id": "c1c36234",
   "metadata": {},
   "outputs": [],
   "source": [
    "# initialize the data sets\n",
    "batch_size = 64\n",
    "train_loader = torch.utils.data.DataLoader(train_set, batch_size=batch_size, sampler=train_sampler)\n",
    "val_loader = torch.utils.data.DataLoader(train_set, batch_size=batch_size, sampler=val_sampler)\n",
    "test_loader = torch.utils.data.DataLoader(test_set, batch_size=batch_size)"
   ]
  },
  {
   "cell_type": "code",
   "execution_count": 32,
   "id": "bc5266dd",
   "metadata": {},
   "outputs": [
    {
     "name": "stdout",
     "output_type": "stream",
     "text": [
      "['N/A', 'a', 'b', 'c', 'd', 'e', 'f', 'g', 'h', 'i', 'j', 'k', 'l', 'm', 'n', 'o', 'p', 'q', 'r', 's', 't', 'u', 'v', 'w', 'x', 'y', 'z']\n",
      "Label: w\n"
     ]
    },
    {
     "ename": "AttributeError",
     "evalue": "",
     "output_type": "error",
     "traceback": [
      "\u001b[0;31m---------------------------------------------------------------------------\u001b[0m",
      "\u001b[0;31mAttributeError\u001b[0m                            Traceback (most recent call last)",
      "\u001b[0;32m/var/folders/k7/zz5h09l90lz91rrnxkcsyfv00000gn/T/ipykernel_92362/3815496719.py\u001b[0m in \u001b[0;36m<module>\u001b[0;34m\u001b[0m\n\u001b[1;32m      6\u001b[0m \u001b[0mplt\u001b[0m\u001b[0;34m.\u001b[0m\u001b[0mimshow\u001b[0m\u001b[0;34m(\u001b[0m\u001b[0mtrain_set\u001b[0m\u001b[0;34m.\u001b[0m\u001b[0mdata\u001b[0m\u001b[0;34m[\u001b[0m\u001b[0mindex\u001b[0m\u001b[0;34m]\u001b[0m\u001b[0;34m.\u001b[0m\u001b[0mT\u001b[0m\u001b[0;34m,\u001b[0m \u001b[0mcmap\u001b[0m\u001b[0;34m=\u001b[0m\u001b[0;34m'Greys_r'\u001b[0m\u001b[0;34m)\u001b[0m\u001b[0;34m\u001b[0m\u001b[0;34m\u001b[0m\u001b[0m\n\u001b[1;32m      7\u001b[0m \u001b[0mprint\u001b[0m\u001b[0;34m(\u001b[0m\u001b[0;34m\"Label: %s\"\u001b[0m \u001b[0;34m%\u001b[0m \u001b[0mtrain_set\u001b[0m\u001b[0;34m.\u001b[0m\u001b[0mclasses\u001b[0m\u001b[0;34m[\u001b[0m\u001b[0mtrain_set\u001b[0m\u001b[0;34m.\u001b[0m\u001b[0mtargets\u001b[0m\u001b[0;34m[\u001b[0m\u001b[0mindex\u001b[0m\u001b[0;34m]\u001b[0m\u001b[0;34m]\u001b[0m\u001b[0;34m)\u001b[0m\u001b[0;34m\u001b[0m\u001b[0;34m\u001b[0m\u001b[0m\n\u001b[0;32m----> 8\u001b[0;31m \u001b[0mprint\u001b[0m\u001b[0;34m(\u001b[0m\u001b[0mtrain_set\u001b[0m\u001b[0;34m.\u001b[0m\u001b[0mshape\u001b[0m\u001b[0;34m)\u001b[0m\u001b[0;34m\u001b[0m\u001b[0;34m\u001b[0m\u001b[0m\n\u001b[0m",
      "\u001b[0;32m/opt/anaconda3/lib/python3.9/site-packages/torch/utils/data/dataset.py\u001b[0m in \u001b[0;36m__getattr__\u001b[0;34m(self, attribute_name)\u001b[0m\n\u001b[1;32m     81\u001b[0m             \u001b[0;32mreturn\u001b[0m \u001b[0mfunction\u001b[0m\u001b[0;34m\u001b[0m\u001b[0;34m\u001b[0m\u001b[0m\n\u001b[1;32m     82\u001b[0m         \u001b[0;32melse\u001b[0m\u001b[0;34m:\u001b[0m\u001b[0;34m\u001b[0m\u001b[0;34m\u001b[0m\u001b[0m\n\u001b[0;32m---> 83\u001b[0;31m             \u001b[0;32mraise\u001b[0m \u001b[0mAttributeError\u001b[0m\u001b[0;34m\u001b[0m\u001b[0;34m\u001b[0m\u001b[0m\n\u001b[0m\u001b[1;32m     84\u001b[0m \u001b[0;34m\u001b[0m\u001b[0m\n\u001b[1;32m     85\u001b[0m     \u001b[0;34m@\u001b[0m\u001b[0mclassmethod\u001b[0m\u001b[0;34m\u001b[0m\u001b[0;34m\u001b[0m\u001b[0m\n",
      "\u001b[0;31mAttributeError\u001b[0m: "
     ]
    },
    {
     "data": {
      "image/png": "[encoded data removed]",
      "text/plain": [
       "<Figure size 432x288 with 1 Axes>"
      ]
     },
     "metadata": {
      "needs_background": "light"
     },
     "output_type": "display_data"
    }
   ],
   "source": [
    "# print classes\n",
    "print(train_set.classes)\n",
    "classes = train_set.classes\n",
    "# print label\n",
    "index = 0\n",
    "plt.imshow(train_set.data[index].T, cmap='Greys_r')\n",
    "print(\"Label: %s\" % train_set.classes[train_set.targets[index]])"
   ]
  },
  {
   "cell_type": "markdown",
   "id": "07941a2b",
   "metadata": {},
   "source": [
    "### Collected Data"
   ]
  },
  {
   "cell_type": "code",
   "execution_count": 6,
   "id": "3286b58c",
   "metadata": {},
   "outputs": [
    {
     "name": "stdout",
     "output_type": "stream",
     "text": [
      "{'N/A': 0, 'a': 1, 'b': 2, 'c': 3, 'd': 4, 'e': 5, 'f': 6, 'g': 7, 'h': 8, 'i': 9, 'j': 10, 'k': 11, 'l': 12, 'm': 13, 'n': 14, 'o': 15, 'p': 16, 'q': 17, 'r': 18, 's': 19, 't': 20, 'u': 21, 'v': 22, 'w': 23, 'x': 24, 'y': 25, 'z': 26}\n"
     ]
    }
   ],
   "source": [
    "letter_to_label = dict()\n",
    "classes_collected = ['N/A', 'a', 'b', 'c', 'd', 'e', 'f', 'g', 'h', 'i', 'j', 'k', 'l', 'm', 'n', 'o', 'p', 'q', 'r', 's', 't', 'u', 'v', 'w', 'x', 'y', 'z']\n",
    "for i in range(len(classes_collected)):\n",
    "    letter_to_label[classes_collected[i]] = i\n",
    "print(letter_to_label)"
   ]
  },
  {
   "cell_type": "code",
   "execution_count": 76,
   "id": "56381d10",
   "metadata": {},
   "outputs": [
    {
     "name": "stdout",
     "output_type": "stream",
     "text": [
      "torch.Size([234, 1, 28, 28])\n",
      "(234,)\n"
     ]
    }
   ],
   "source": [
    "# making a dataset of our data\n",
    "import os\n",
    "import shutil\n",
    "import glob\n",
    "\n",
    "from PIL import Image\n",
    "import torchvision.transforms as transforms\n",
    "\n",
    "transform = transforms.ToTensor()\n",
    "\n",
    "src_dir = 'dataset'\n",
    "imgs = []\n",
    "labels = []\n",
    "for f in glob.glob(os.path.join(src_dir, '*.png')):\n",
    "    ftitle, fext = os.path.splitext(os.path.basename(f))\n",
    "    letter = ftitle.split(\"_\")[1].lower()\n",
    "    labels.append(letter_to_label[letter])\n",
    "    im = Image.open(f).convert('L')\n",
    "    imgs.append(transform(im).detach().numpy()*255)\n",
    "data = torch.tensor(imgs)\n",
    "labels = np.array(labels)\n",
    "\n",
    "print(data.shape)\n",
    "print(labels.shape)"
   ]
  },
  {
   "cell_type": "code",
   "execution_count": 77,
   "id": "f9eb9b45",
   "metadata": {},
   "outputs": [],
   "source": [
    "# shuffling the data\n",
    "ntotal = data.shape[0]\n",
    "ntrain = int(0.7*ntotal)\n",
    "nval = (ntotal - ntrain) // 2\n",
    "\n",
    "indices = torch.randperm(ntotal)\n",
    "data = data[indices]\n",
    "labels = torch.tensor(labels[indices])\n",
    "\n",
    "\n",
    "\n",
    "batch_size = 64\n",
    "train_set_collected = torch.utils.data.TensorDataset(data[:ntrain], labels[:ntrain])\n",
    "val_set_collected = torch.utils.data.TensorDataset(data[ntrain:ntrain+nval], labels[ntrain:ntrain+nval])\n",
    "test_set_collected = torch.utils.data.TensorDataset(data[ntrain+nval:], labels[ntrain+nval:])\n",
    "data_set_collected = torch.utils.data.TensorDataset(data, labels)\n",
    "\n",
    "train_loader_collected = torch.utils.data.DataLoader(train_set_collected, batch_size=batch_size)\n",
    "val_loader_collected = torch.utils.data.DataLoader(val_set_collected, batch_size=batch_size)\n",
    "test_loader_collected = torch.utils.data.DataLoader(test_set_collected, batch_size=batch_size)\n",
    "data_loader_collected = torch.utils.data.DataLoader(data_set_collected, batch_size=batch_size)"
   ]
  },
  {
   "cell_type": "code",
   "execution_count": 78,
   "id": "953353ef",
   "metadata": {},
   "outputs": [
    {
     "name": "stdout",
     "output_type": "stream",
     "text": [
      "['N/A', 'a', 'b', 'c', 'd', 'e', 'f', 'g', 'h', 'i', 'j', 'k', 'l', 'm', 'n', 'o', 'p', 'q', 'r', 's', 't', 'u', 'v', 'w', 'x', 'y', 'z']\n",
      "Label: t\n"
     ]
    },
    {
     "data": {
      "image/png": "[encoded data removed]",
      "text/plain": [
       "<Figure size 432x288 with 1 Axes>"
      ]
     },
     "metadata": {
      "needs_background": "light"
     },
     "output_type": "display_data"
    }
   ],
   "source": [
    "# print classes\n",
    "print(classes_collected)\n",
    "# print label\n",
    "index = 0\n",
    "plt.imshow(data[index].reshape((28, 28)), cmap='Greys_r')\n",
    "print(\"Label: %s\" % classes_collected[labels[index].item()])"
   ]
  },
  {
   "cell_type": "markdown",
   "id": "8840579b",
   "metadata": {},
   "source": [
    "## Testing CNNs"
   ]
  },
  {
   "cell_type": "code",
   "execution_count": 71,
   "id": "a6cd8f78",
   "metadata": {},
   "outputs": [],
   "source": [
    "from tqdm.notebook import tqdm\n",
    "import torch.nn.functional as F\n",
    "\n",
    "def train_network(model, train_loader, val_loader, criterion, optimizer, nepoch=100):\n",
    "    try:\n",
    "        for epoch in tqdm(range(nepoch)):\n",
    "            print('EPOCH %d'%epoch)\n",
    "            total_loss = 0\n",
    "            count = 0\n",
    "            for inputs, labels in train_loader:\n",
    "                optimizer.zero_grad()\n",
    "                outputs = model(inputs)\n",
    "                loss = criterion(outputs, labels)\n",
    "                loss.backward()\n",
    "                optimizer.step()\n",
    "                total_loss += loss.item()\n",
    "                count += 1\n",
    "            print('{:>12s} {:>7.5f}'.format('Train loss:', total_loss/count))\n",
    "            with torch.no_grad():\n",
    "                total_loss = 0\n",
    "                count = 0\n",
    "                for inputs, labels in val_loader:\n",
    "                    outputs = model(inputs)\n",
    "                    loss = criterion(outputs, labels)\n",
    "                    total_loss += loss.item()\n",
    "                    count += 1\n",
    "                print('{:>12s} {:>7.5f}'.format('Val loss:', total_loss/count))\n",
    "            print()\n",
    "    except KeyboardInterrupt:\n",
    "        print('Exiting from training early')\n",
    "    return\n",
    "\n",
    "def test_network(model, test_loader):\n",
    "    correct = 0\n",
    "    total = 0\n",
    "    true, pred = [], []\n",
    "    with torch.no_grad():\n",
    "        for inputs, labels  in test_loader:\n",
    "            outputs = model(inputs)\n",
    "            predicted = torch.argmax(outputs, dim=1) # get predicted class label for each test example.\n",
    "            total += labels.size(0)\n",
    "            correct += (predicted == labels).sum().item()\n",
    "            true.append(labels)\n",
    "            pred.append(predicted)\n",
    "    acc = (100 * correct / total)\n",
    "    true = np.concatenate(true)\n",
    "    pred = np.concatenate(pred)\n",
    "    return acc, true, pred\n",
    "\n",
    "def display_contingency_matrix(num_classes, pred, true):\n",
    "    contingency = np.zeros((num_classes, num_classes))\n",
    "    for i in range(len(pred)):\n",
    "        contingency[int(pred[i])][int(true[i])] += 1\n",
    "\n",
    "    plt.matshow(contingency)\n",
    "    plt.xlabel(\"true\")\n",
    "    plt.ylabel(\"predictions\")\n",
    "    plt.colorbar()"
   ]
  },
  {
   "cell_type": "markdown",
   "id": "9a7c0b3b",
   "metadata": {},
   "source": [
    "### Single Convolution Layer with MaxPool"
   ]
  },
  {
   "cell_type": "code",
   "execution_count": 72,
   "id": "86d642d9",
   "metadata": {},
   "outputs": [],
   "source": [
    "class modelCM(nn.Module):\n",
    "    def __init__(self, classes):\n",
    "        super().__init__()\n",
    "        self.classes = classes\n",
    "        self.layers = nn.Sequential(\n",
    "            nn.Conv2d(in_channels=1, out_channels=8, kernel_size=(5,5), stride=1),\n",
    "            nn.MaxPool2d(kernel_size=(2,2), stride=2),\n",
    "            nn.ReLU(),\n",
    "            nn.Flatten(),\n",
    "            nn.Linear(1152, len(self.classes))\n",
    "        )\n",
    "            \n",
    "\n",
    "    def forward(self, x):\n",
    "        return self.layers(x)"
   ]
  },
  {
   "cell_type": "code",
   "execution_count": 12,
   "id": "82ab2a0d",
   "metadata": {},
   "outputs": [
    {
     "data": {
      "application/vnd.jupyter.widget-view+json": {
       "model_id": "43bca2abf0714d6883c78ac6441963d1",
       "version_major": 2,
       "version_minor": 0
      },
      "text/plain": [
       "  0%|          | 0/10 [00:00<?, ?it/s]"
      ]
     },
     "metadata": {},
     "output_type": "display_data"
    },
    {
     "name": "stdout",
     "output_type": "stream",
     "text": [
      "EPOCH 0\n",
      " Train loss: 1.07477\n",
      "   Val loss: 0.75479\n",
      "\n",
      "EPOCH 1\n",
      " Train loss: 0.61728\n",
      "   Val loss: 0.56477\n",
      "\n",
      "EPOCH 2\n",
      " Train loss: 0.48548\n",
      "   Val loss: 0.46985\n",
      "\n",
      "EPOCH 3\n",
      " Train loss: 0.42577\n",
      "   Val loss: 0.44630\n",
      "\n",
      "EPOCH 4\n",
      " Train loss: 0.38574\n",
      "   Val loss: 0.41276\n",
      "\n",
      "EPOCH 5\n",
      " Train loss: 0.35794\n",
      "   Val loss: 0.39183\n",
      "\n",
      "EPOCH 6\n",
      " Train loss: 0.33654\n",
      "   Val loss: 0.38816\n",
      "\n",
      "EPOCH 7\n",
      " Train loss: 0.31785\n",
      "   Val loss: 0.37577\n",
      "\n",
      "EPOCH 8\n",
      " Train loss: 0.30524\n",
      "   Val loss: 0.37615\n",
      "\n",
      "EPOCH 9\n",
      " Train loss: 0.29421\n",
      "   Val loss: 0.37364\n",
      "\n"
     ]
    }
   ],
   "source": [
    "model1 = modelCM(classes)\n",
    "criterion = nn.CrossEntropyLoss()\n",
    "optimizer = torch.optim.Adam(model1.parameters(), lr=.001)\n",
    "train_network(model1, train_loader, val_loader, criterion, optimizer, nepoch=10)"
   ]
  },
  {
   "cell_type": "code",
   "execution_count": 73,
   "id": "494689c1",
   "metadata": {},
   "outputs": [
    {
     "name": "stdout",
     "output_type": "stream",
     "text": [
      "Test accuracy: 88.447\n"
     ]
    },
    {
     "data": {
      "image/png": "[encoded data removed]",
      "text/plain": [
       "<Figure size 288x288 with 2 Axes>"
      ]
     },
     "metadata": {
      "needs_background": "light"
     },
     "output_type": "display_data"
    }
   ],
   "source": [
    "acc, true, pred = test_network(model1, test_loader)\n",
    "print('Test accuracy: %0.3f' % acc)\n",
    "\n",
    "display_contingency_matrix(len(model1.classes), pred, true)"
   ]
  },
  {
   "cell_type": "markdown",
   "id": "addcc528",
   "metadata": {},
   "source": [
    "#### Great example of overfitting:"
   ]
  },
  {
   "cell_type": "code",
   "execution_count": 74,
   "id": "fba0accb",
   "metadata": {},
   "outputs": [
    {
     "data": {
      "application/vnd.jupyter.widget-view+json": {
       "model_id": "129fc367390c41c2b6d8cda4d2680876",
       "version_major": 2,
       "version_minor": 0
      },
      "text/plain": [
       "  0%|          | 0/100 [00:00<?, ?it/s]"
      ]
     },
     "metadata": {},
     "output_type": "display_data"
    },
    {
     "name": "stdout",
     "output_type": "stream",
     "text": [
      "EPOCH 0\n",
      " Train loss: 3.27793\n",
      "   Val loss: 3.31252\n",
      "\n",
      "EPOCH 1\n",
      " Train loss: 3.14403\n",
      "   Val loss: 3.31833\n",
      "\n",
      "EPOCH 2\n",
      " Train loss: 3.02879\n",
      "   Val loss: 3.32129\n",
      "\n",
      "EPOCH 3\n",
      " Train loss: 2.91485\n",
      "   Val loss: 3.31418\n",
      "\n",
      "EPOCH 4\n",
      " Train loss: 2.79778\n",
      "   Val loss: 3.29239\n",
      "\n",
      "EPOCH 5\n",
      " Train loss: 2.67427\n",
      "   Val loss: 3.25436\n",
      "\n",
      "EPOCH 6\n",
      " Train loss: 2.54261\n",
      "   Val loss: 3.20103\n",
      "\n",
      "EPOCH 7\n",
      " Train loss: 2.40273\n",
      "   Val loss: 3.13590\n",
      "\n",
      "EPOCH 8\n",
      " Train loss: 2.25669\n",
      "   Val loss: 3.06405\n",
      "\n",
      "EPOCH 9\n",
      " Train loss: 2.10792\n",
      "   Val loss: 2.98829\n",
      "\n",
      "EPOCH 10\n",
      " Train loss: 1.95985\n",
      "   Val loss: 2.91042\n",
      "\n",
      "EPOCH 11\n",
      " Train loss: 1.81565\n",
      "   Val loss: 2.83149\n",
      "\n",
      "EPOCH 12\n",
      " Train loss: 1.67802\n",
      "   Val loss: 2.75352\n",
      "\n",
      "EPOCH 13\n",
      " Train loss: 1.54908\n",
      "   Val loss: 2.68004\n",
      "\n",
      "EPOCH 14\n",
      " Train loss: 1.43006\n",
      "   Val loss: 2.61367\n",
      "\n",
      "EPOCH 15\n",
      " Train loss: 1.32129\n",
      "   Val loss: 2.55644\n",
      "\n",
      "EPOCH 16\n",
      " Train loss: 1.22228\n",
      "   Val loss: 2.51001\n",
      "\n",
      "EPOCH 17\n",
      " Train loss: 1.13241\n",
      "   Val loss: 2.47501\n",
      "\n",
      "EPOCH 18\n",
      " Train loss: 1.05085\n",
      "   Val loss: 2.45045\n",
      "\n",
      "EPOCH 19\n",
      " Train loss: 0.97658\n",
      "   Val loss: 2.43426\n",
      "\n",
      "EPOCH 20\n",
      " Train loss: 0.90863\n",
      "   Val loss: 2.42456\n",
      "\n",
      "EPOCH 21\n",
      " Train loss: 0.84630\n",
      "   Val loss: 2.42014\n",
      "\n",
      "EPOCH 22\n",
      " Train loss: 0.78901\n",
      "   Val loss: 2.42036\n",
      "\n",
      "EPOCH 23\n",
      " Train loss: 0.73627\n",
      "   Val loss: 2.42448\n",
      "\n",
      "EPOCH 24\n",
      " Train loss: 0.68775\n",
      "   Val loss: 2.43132\n",
      "\n",
      "EPOCH 25\n",
      " Train loss: 0.64304\n",
      "   Val loss: 2.44001\n",
      "\n",
      "EPOCH 26\n",
      " Train loss: 0.60179\n",
      "   Val loss: 2.44969\n",
      "\n",
      "EPOCH 27\n",
      " Train loss: 0.56369\n",
      "   Val loss: 2.46000\n",
      "\n",
      "EPOCH 28\n",
      " Train loss: 0.52845\n",
      "   Val loss: 2.47131\n",
      "\n",
      "EPOCH 29\n",
      " Train loss: 0.49580\n",
      "   Val loss: 2.48423\n",
      "\n",
      "EPOCH 30\n",
      " Train loss: 0.46553\n",
      "   Val loss: 2.49886\n",
      "\n",
      "EPOCH 31\n",
      " Train loss: 0.43740\n",
      "   Val loss: 2.51492\n",
      "\n",
      "EPOCH 32\n",
      " Train loss: 0.41127\n",
      "   Val loss: 2.53189\n",
      "\n",
      "EPOCH 33\n",
      " Train loss: 0.38696\n",
      "   Val loss: 2.54953\n",
      "\n",
      "EPOCH 34\n",
      " Train loss: 0.36432\n",
      "   Val loss: 2.56730\n",
      "\n",
      "EPOCH 35\n",
      " Train loss: 0.34321\n",
      "   Val loss: 2.58477\n",
      "\n",
      "EPOCH 36\n",
      " Train loss: 0.32349\n",
      "   Val loss: 2.60197\n",
      "\n",
      "EPOCH 37\n",
      " Train loss: 0.30504\n",
      "   Val loss: 2.61917\n",
      "\n",
      "EPOCH 38\n",
      " Train loss: 0.28779\n",
      "   Val loss: 2.63669\n",
      "\n",
      "EPOCH 39\n",
      " Train loss: 0.27165\n",
      "   Val loss: 2.65455\n",
      "\n",
      "EPOCH 40\n",
      " Train loss: 0.25654\n",
      "   Val loss: 2.67272\n",
      "\n",
      "EPOCH 41\n",
      " Train loss: 0.24239\n",
      "   Val loss: 2.69106\n",
      "\n",
      "EPOCH 42\n",
      " Train loss: 0.22915\n",
      "   Val loss: 2.70962\n",
      "\n",
      "EPOCH 43\n",
      " Train loss: 0.21675\n",
      "   Val loss: 2.72849\n",
      "\n",
      "EPOCH 44\n",
      " Train loss: 0.20514\n",
      "   Val loss: 2.74755\n",
      "\n",
      "EPOCH 45\n",
      " Train loss: 0.19426\n",
      "   Val loss: 2.76667\n",
      "\n",
      "EPOCH 46\n",
      " Train loss: 0.18407\n",
      "   Val loss: 2.78570\n",
      "\n",
      "EPOCH 47\n",
      " Train loss: 0.17453\n",
      "   Val loss: 2.80451\n",
      "\n",
      "EPOCH 48\n",
      " Train loss: 0.16559\n",
      "   Val loss: 2.82313\n",
      "\n",
      "EPOCH 49\n",
      " Train loss: 0.15722\n",
      "   Val loss: 2.84156\n",
      "\n",
      "EPOCH 50\n",
      " Train loss: 0.14938\n",
      "   Val loss: 2.85976\n",
      "\n",
      "EPOCH 51\n",
      " Train loss: 0.14204\n",
      "   Val loss: 2.87778\n",
      "\n",
      "EPOCH 52\n",
      " Train loss: 0.13516\n",
      "   Val loss: 2.89578\n",
      "\n",
      "EPOCH 53\n",
      " Train loss: 0.12871\n",
      "   Val loss: 2.91372\n",
      "\n",
      "EPOCH 54\n",
      " Train loss: 0.12267\n",
      "   Val loss: 2.93152\n",
      "\n",
      "EPOCH 55\n",
      " Train loss: 0.11701\n",
      "   Val loss: 2.94905\n",
      "\n",
      "EPOCH 56\n",
      " Train loss: 0.11170\n",
      "   Val loss: 2.96621\n",
      "\n",
      "EPOCH 57\n",
      " Train loss: 0.10671\n",
      "   Val loss: 2.98307\n",
      "\n",
      "EPOCH 58\n",
      " Train loss: 0.10204\n",
      "   Val loss: 2.99973\n",
      "\n",
      "EPOCH 59\n",
      " Train loss: 0.09764\n",
      "   Val loss: 3.01622\n",
      "\n",
      "EPOCH 60\n",
      " Train loss: 0.09351\n",
      "   Val loss: 3.03251\n",
      "\n",
      "EPOCH 61\n",
      " Train loss: 0.08962\n",
      "   Val loss: 3.04859\n",
      "\n",
      "EPOCH 62\n",
      " Train loss: 0.08596\n",
      "   Val loss: 3.06449\n",
      "\n",
      "EPOCH 63\n",
      " Train loss: 0.08252\n",
      "   Val loss: 3.08020\n",
      "\n",
      "EPOCH 64\n",
      " Train loss: 0.07927\n",
      "   Val loss: 3.09566\n",
      "\n",
      "EPOCH 65\n",
      " Train loss: 0.07621\n",
      "   Val loss: 3.11089\n",
      "\n",
      "EPOCH 66\n",
      " Train loss: 0.07332\n",
      "   Val loss: 3.12595\n",
      "\n",
      "EPOCH 67\n",
      " Train loss: 0.07059\n",
      "   Val loss: 3.14084\n",
      "\n",
      "EPOCH 68\n",
      " Train loss: 0.06800\n",
      "   Val loss: 3.15557\n",
      "\n",
      "EPOCH 69\n",
      " Train loss: 0.06556\n",
      "   Val loss: 3.17010\n",
      "\n",
      "EPOCH 70\n",
      " Train loss: 0.06324\n",
      "   Val loss: 3.18441\n",
      "\n",
      "EPOCH 71\n",
      " Train loss: 0.06104\n",
      "   Val loss: 3.19853\n",
      "\n",
      "EPOCH 72\n",
      " Train loss: 0.05896\n",
      "   Val loss: 3.21245\n",
      "\n",
      "EPOCH 73\n",
      " Train loss: 0.05698\n",
      "   Val loss: 3.22619\n",
      "\n",
      "EPOCH 74\n",
      " Train loss: 0.05510\n",
      "   Val loss: 3.23978\n",
      "\n",
      "EPOCH 75\n",
      " Train loss: 0.05331\n",
      "   Val loss: 3.25323\n",
      "\n",
      "EPOCH 76\n",
      " Train loss: 0.05161\n",
      "   Val loss: 3.26651\n",
      "\n",
      "EPOCH 77\n",
      " Train loss: 0.04999\n",
      "   Val loss: 3.27963\n",
      "\n",
      "EPOCH 78\n",
      " Train loss: 0.04844\n",
      "   Val loss: 3.29260\n",
      "\n",
      "EPOCH 79\n",
      " Train loss: 0.04697\n",
      "   Val loss: 3.30542\n",
      "\n",
      "EPOCH 80\n",
      " Train loss: 0.04556\n",
      "   Val loss: 3.31807\n",
      "\n",
      "EPOCH 81\n",
      " Train loss: 0.04422\n",
      "   Val loss: 3.33055\n",
      "\n",
      "EPOCH 82\n",
      " Train loss: 0.04294\n",
      "   Val loss: 3.34288\n",
      "\n",
      "EPOCH 83\n",
      " Train loss: 0.04171\n",
      "   Val loss: 3.35507\n",
      "\n",
      "EPOCH 84\n",
      " Train loss: 0.04054\n",
      "   Val loss: 3.36710\n",
      "\n",
      "EPOCH 85\n",
      " Train loss: 0.03941\n",
      "   Val loss: 3.37900\n",
      "\n",
      "EPOCH 86\n",
      " Train loss: 0.03833\n",
      "   Val loss: 3.39073\n",
      "\n",
      "EPOCH 87\n",
      " Train loss: 0.03730\n",
      "   Val loss: 3.40233\n",
      "\n",
      "EPOCH 88\n",
      " Train loss: 0.03631\n",
      "   Val loss: 3.41379\n",
      "\n",
      "EPOCH 89\n",
      " Train loss: 0.03536\n",
      "   Val loss: 3.42510\n",
      "\n",
      "EPOCH 90\n",
      " Train loss: 0.03444\n",
      "   Val loss: 3.43629\n",
      "\n",
      "EPOCH 91\n",
      " Train loss: 0.03356\n",
      "   Val loss: 3.44734\n",
      "\n",
      "EPOCH 92\n",
      " Train loss: 0.03272\n",
      "   Val loss: 3.45828\n",
      "\n",
      "EPOCH 93\n",
      " Train loss: 0.03191\n",
      "   Val loss: 3.46910\n",
      "\n",
      "EPOCH 94\n",
      " Train loss: 0.03113\n",
      "   Val loss: 3.47980\n",
      "\n",
      "EPOCH 95\n",
      " Train loss: 0.03037\n",
      "   Val loss: 3.49034\n",
      "\n",
      "EPOCH 96\n",
      " Train loss: 0.02965\n",
      "   Val loss: 3.50075\n",
      "\n",
      "EPOCH 97\n",
      " Train loss: 0.02895\n",
      "   Val loss: 3.51103\n",
      "\n",
      "EPOCH 98\n",
      " Train loss: 0.02828\n",
      "   Val loss: 3.52118\n",
      "\n",
      "EPOCH 99\n",
      " Train loss: 0.02763\n",
      "   Val loss: 3.53120\n",
      "\n"
     ]
    }
   ],
   "source": [
    "model1c = modelCM(classes_collected)\n",
    "criterion = nn.CrossEntropyLoss()\n",
    "optimizer = torch.optim.Adam(model1c.parameters(), lr=.001)\n",
    "train_network(model1c, train_loader_collected, val_loader_collected, criterion, optimizer, nepoch=100)"
   ]
  },
  {
   "cell_type": "code",
   "execution_count": 79,
   "id": "bae17d9d",
   "metadata": {},
   "outputs": [
    {
     "name": "stdout",
     "output_type": "stream",
     "text": [
      "Test accuracy: 2.778\n"
     ]
    },
    {
     "data": {
      "image/png": "[encoded data removed]",
      "text/plain": [
       "<Figure size 288x288 with 2 Axes>"
      ]
     },
     "metadata": {
      "needs_background": "light"
     },
     "output_type": "display_data"
    }
   ],
   "source": [
    "acc, true, pred = test_network(model1, test_loader_collected)\n",
    "print('Test accuracy: %0.3f' % acc)\n",
    "\n",
    "display_contingency_matrix(len(model1.classes), pred, true)"
   ]
  },
  {
   "cell_type": "markdown",
   "id": "4483ae3d",
   "metadata": {},
   "source": [
    "#### Test model on collected data"
   ]
  },
  {
   "cell_type": "code",
   "execution_count": 61,
   "id": "621fab5c",
   "metadata": {},
   "outputs": [
    {
     "ename": "RuntimeError",
     "evalue": "expected scalar type Byte but found Float",
     "output_type": "error",
     "traceback": [
      "\u001b[0;31m---------------------------------------------------------------------------\u001b[0m",
      "\u001b[0;31mRuntimeError\u001b[0m                              Traceback (most recent call last)",
      "\u001b[0;32m/var/folders/k7/zz5h09l90lz91rrnxkcsyfv00000gn/T/ipykernel_92362/2152242423.py\u001b[0m in \u001b[0;36m<module>\u001b[0;34m\u001b[0m\n\u001b[0;32m----> 1\u001b[0;31m \u001b[0macc\u001b[0m\u001b[0;34m,\u001b[0m \u001b[0mtrue\u001b[0m\u001b[0;34m,\u001b[0m \u001b[0mpred\u001b[0m \u001b[0;34m=\u001b[0m \u001b[0mtest_network\u001b[0m\u001b[0;34m(\u001b[0m\u001b[0mmodel1\u001b[0m\u001b[0;34m,\u001b[0m \u001b[0mdata_loader_collected\u001b[0m\u001b[0;34m)\u001b[0m\u001b[0;34m\u001b[0m\u001b[0;34m\u001b[0m\u001b[0m\n\u001b[0m\u001b[1;32m      2\u001b[0m \u001b[0mprint\u001b[0m\u001b[0;34m(\u001b[0m\u001b[0;34m'Test accuracy: %0.3f'\u001b[0m \u001b[0;34m%\u001b[0m \u001b[0macc\u001b[0m\u001b[0;34m)\u001b[0m\u001b[0;34m\u001b[0m\u001b[0;34m\u001b[0m\u001b[0m\n\u001b[1;32m      3\u001b[0m \u001b[0;34m\u001b[0m\u001b[0m\n\u001b[1;32m      4\u001b[0m \u001b[0mdisplay_contingency_matrix\u001b[0m\u001b[0;34m(\u001b[0m\u001b[0mlen\u001b[0m\u001b[0;34m(\u001b[0m\u001b[0mclasses_collected\u001b[0m\u001b[0;34m)\u001b[0m\u001b[0;34m,\u001b[0m \u001b[0mpred\u001b[0m\u001b[0;34m,\u001b[0m \u001b[0mtrue\u001b[0m\u001b[0;34m)\u001b[0m\u001b[0;34m\u001b[0m\u001b[0;34m\u001b[0m\u001b[0m\n",
      "\u001b[0;32m/var/folders/k7/zz5h09l90lz91rrnxkcsyfv00000gn/T/ipykernel_92362/1881839510.py\u001b[0m in \u001b[0;36mtest_network\u001b[0;34m(model, test_loader)\u001b[0m\n\u001b[1;32m     37\u001b[0m     \u001b[0;32mwith\u001b[0m \u001b[0mtorch\u001b[0m\u001b[0;34m.\u001b[0m\u001b[0mno_grad\u001b[0m\u001b[0;34m(\u001b[0m\u001b[0;34m)\u001b[0m\u001b[0;34m:\u001b[0m\u001b[0;34m\u001b[0m\u001b[0;34m\u001b[0m\u001b[0m\n\u001b[1;32m     38\u001b[0m         \u001b[0;32mfor\u001b[0m \u001b[0minputs\u001b[0m\u001b[0;34m,\u001b[0m \u001b[0mlabels\u001b[0m  \u001b[0;32min\u001b[0m \u001b[0mtest_loader\u001b[0m\u001b[0;34m:\u001b[0m\u001b[0;34m\u001b[0m\u001b[0;34m\u001b[0m\u001b[0m\n\u001b[0;32m---> 39\u001b[0;31m             \u001b[0moutputs\u001b[0m \u001b[0;34m=\u001b[0m \u001b[0mmodel\u001b[0m\u001b[0;34m(\u001b[0m\u001b[0minputs\u001b[0m\u001b[0;34m)\u001b[0m\u001b[0;34m\u001b[0m\u001b[0;34m\u001b[0m\u001b[0m\n\u001b[0m\u001b[1;32m     40\u001b[0m             \u001b[0mpredicted\u001b[0m \u001b[0;34m=\u001b[0m \u001b[0mtorch\u001b[0m\u001b[0;34m.\u001b[0m\u001b[0margmax\u001b[0m\u001b[0;34m(\u001b[0m\u001b[0moutputs\u001b[0m\u001b[0;34m,\u001b[0m \u001b[0mdim\u001b[0m\u001b[0;34m=\u001b[0m\u001b[0;36m1\u001b[0m\u001b[0;34m)\u001b[0m \u001b[0;31m# get predicted class label for each test example.\u001b[0m\u001b[0;34m\u001b[0m\u001b[0;34m\u001b[0m\u001b[0m\n\u001b[1;32m     41\u001b[0m             \u001b[0mtotal\u001b[0m \u001b[0;34m+=\u001b[0m \u001b[0mlabels\u001b[0m\u001b[0;34m.\u001b[0m\u001b[0msize\u001b[0m\u001b[0;34m(\u001b[0m\u001b[0;36m0\u001b[0m\u001b[0;34m)\u001b[0m\u001b[0;34m\u001b[0m\u001b[0;34m\u001b[0m\u001b[0m\n",
      "\u001b[0;32m/opt/anaconda3/lib/python3.9/site-packages/torch/nn/modules/module.py\u001b[0m in \u001b[0;36m_call_impl\u001b[0;34m(self, *input, **kwargs)\u001b[0m\n\u001b[1;32m   1100\u001b[0m         if not (self._backward_hooks or self._forward_hooks or self._forward_pre_hooks or _global_backward_hooks\n\u001b[1;32m   1101\u001b[0m                 or _global_forward_hooks or _global_forward_pre_hooks):\n\u001b[0;32m-> 1102\u001b[0;31m             \u001b[0;32mreturn\u001b[0m \u001b[0mforward_call\u001b[0m\u001b[0;34m(\u001b[0m\u001b[0;34m*\u001b[0m\u001b[0minput\u001b[0m\u001b[0;34m,\u001b[0m \u001b[0;34m**\u001b[0m\u001b[0mkwargs\u001b[0m\u001b[0;34m)\u001b[0m\u001b[0;34m\u001b[0m\u001b[0;34m\u001b[0m\u001b[0m\n\u001b[0m\u001b[1;32m   1103\u001b[0m         \u001b[0;31m# Do not call functions when jit is used\u001b[0m\u001b[0;34m\u001b[0m\u001b[0;34m\u001b[0m\u001b[0m\n\u001b[1;32m   1104\u001b[0m         \u001b[0mfull_backward_hooks\u001b[0m\u001b[0;34m,\u001b[0m \u001b[0mnon_full_backward_hooks\u001b[0m \u001b[0;34m=\u001b[0m \u001b[0;34m[\u001b[0m\u001b[0;34m]\u001b[0m\u001b[0;34m,\u001b[0m \u001b[0;34m[\u001b[0m\u001b[0;34m]\u001b[0m\u001b[0;34m\u001b[0m\u001b[0;34m\u001b[0m\u001b[0m\n",
      "\u001b[0;32m/var/folders/k7/zz5h09l90lz91rrnxkcsyfv00000gn/T/ipykernel_92362/2620156881.py\u001b[0m in \u001b[0;36mforward\u001b[0;34m(self, x)\u001b[0m\n\u001b[1;32m     13\u001b[0m \u001b[0;34m\u001b[0m\u001b[0m\n\u001b[1;32m     14\u001b[0m     \u001b[0;32mdef\u001b[0m \u001b[0mforward\u001b[0m\u001b[0;34m(\u001b[0m\u001b[0mself\u001b[0m\u001b[0;34m,\u001b[0m \u001b[0mx\u001b[0m\u001b[0;34m)\u001b[0m\u001b[0;34m:\u001b[0m\u001b[0;34m\u001b[0m\u001b[0;34m\u001b[0m\u001b[0m\n\u001b[0;32m---> 15\u001b[0;31m         \u001b[0;32mreturn\u001b[0m \u001b[0mself\u001b[0m\u001b[0;34m.\u001b[0m\u001b[0mlayers\u001b[0m\u001b[0;34m(\u001b[0m\u001b[0mx\u001b[0m\u001b[0;34m)\u001b[0m\u001b[0;34m\u001b[0m\u001b[0;34m\u001b[0m\u001b[0m\n\u001b[0m",
      "\u001b[0;32m/opt/anaconda3/lib/python3.9/site-packages/torch/nn/modules/module.py\u001b[0m in \u001b[0;36m_call_impl\u001b[0;34m(self, *input, **kwargs)\u001b[0m\n\u001b[1;32m   1100\u001b[0m         if not (self._backward_hooks or self._forward_hooks or self._forward_pre_hooks or _global_backward_hooks\n\u001b[1;32m   1101\u001b[0m                 or _global_forward_hooks or _global_forward_pre_hooks):\n\u001b[0;32m-> 1102\u001b[0;31m             \u001b[0;32mreturn\u001b[0m \u001b[0mforward_call\u001b[0m\u001b[0;34m(\u001b[0m\u001b[0;34m*\u001b[0m\u001b[0minput\u001b[0m\u001b[0;34m,\u001b[0m \u001b[0;34m**\u001b[0m\u001b[0mkwargs\u001b[0m\u001b[0;34m)\u001b[0m\u001b[0;34m\u001b[0m\u001b[0;34m\u001b[0m\u001b[0m\n\u001b[0m\u001b[1;32m   1103\u001b[0m         \u001b[0;31m# Do not call functions when jit is used\u001b[0m\u001b[0;34m\u001b[0m\u001b[0;34m\u001b[0m\u001b[0m\n\u001b[1;32m   1104\u001b[0m         \u001b[0mfull_backward_hooks\u001b[0m\u001b[0;34m,\u001b[0m \u001b[0mnon_full_backward_hooks\u001b[0m \u001b[0;34m=\u001b[0m \u001b[0;34m[\u001b[0m\u001b[0;34m]\u001b[0m\u001b[0;34m,\u001b[0m \u001b[0;34m[\u001b[0m\u001b[0;34m]\u001b[0m\u001b[0;34m\u001b[0m\u001b[0;34m\u001b[0m\u001b[0m\n",
      "\u001b[0;32m/opt/anaconda3/lib/python3.9/site-packages/torch/nn/modules/container.py\u001b[0m in \u001b[0;36mforward\u001b[0;34m(self, input)\u001b[0m\n\u001b[1;32m    139\u001b[0m     \u001b[0;32mdef\u001b[0m \u001b[0mforward\u001b[0m\u001b[0;34m(\u001b[0m\u001b[0mself\u001b[0m\u001b[0;34m,\u001b[0m \u001b[0minput\u001b[0m\u001b[0;34m)\u001b[0m\u001b[0;34m:\u001b[0m\u001b[0;34m\u001b[0m\u001b[0;34m\u001b[0m\u001b[0m\n\u001b[1;32m    140\u001b[0m         \u001b[0;32mfor\u001b[0m \u001b[0mmodule\u001b[0m \u001b[0;32min\u001b[0m \u001b[0mself\u001b[0m\u001b[0;34m:\u001b[0m\u001b[0;34m\u001b[0m\u001b[0;34m\u001b[0m\u001b[0m\n\u001b[0;32m--> 141\u001b[0;31m             \u001b[0minput\u001b[0m \u001b[0;34m=\u001b[0m \u001b[0mmodule\u001b[0m\u001b[0;34m(\u001b[0m\u001b[0minput\u001b[0m\u001b[0;34m)\u001b[0m\u001b[0;34m\u001b[0m\u001b[0;34m\u001b[0m\u001b[0m\n\u001b[0m\u001b[1;32m    142\u001b[0m         \u001b[0;32mreturn\u001b[0m \u001b[0minput\u001b[0m\u001b[0;34m\u001b[0m\u001b[0;34m\u001b[0m\u001b[0m\n\u001b[1;32m    143\u001b[0m \u001b[0;34m\u001b[0m\u001b[0m\n",
      "\u001b[0;32m/opt/anaconda3/lib/python3.9/site-packages/torch/nn/modules/module.py\u001b[0m in \u001b[0;36m_call_impl\u001b[0;34m(self, *input, **kwargs)\u001b[0m\n\u001b[1;32m   1100\u001b[0m         if not (self._backward_hooks or self._forward_hooks or self._forward_pre_hooks or _global_backward_hooks\n\u001b[1;32m   1101\u001b[0m                 or _global_forward_hooks or _global_forward_pre_hooks):\n\u001b[0;32m-> 1102\u001b[0;31m             \u001b[0;32mreturn\u001b[0m \u001b[0mforward_call\u001b[0m\u001b[0;34m(\u001b[0m\u001b[0;34m*\u001b[0m\u001b[0minput\u001b[0m\u001b[0;34m,\u001b[0m \u001b[0;34m**\u001b[0m\u001b[0mkwargs\u001b[0m\u001b[0;34m)\u001b[0m\u001b[0;34m\u001b[0m\u001b[0;34m\u001b[0m\u001b[0m\n\u001b[0m\u001b[1;32m   1103\u001b[0m         \u001b[0;31m# Do not call functions when jit is used\u001b[0m\u001b[0;34m\u001b[0m\u001b[0;34m\u001b[0m\u001b[0m\n\u001b[1;32m   1104\u001b[0m         \u001b[0mfull_backward_hooks\u001b[0m\u001b[0;34m,\u001b[0m \u001b[0mnon_full_backward_hooks\u001b[0m \u001b[0;34m=\u001b[0m \u001b[0;34m[\u001b[0m\u001b[0;34m]\u001b[0m\u001b[0;34m,\u001b[0m \u001b[0;34m[\u001b[0m\u001b[0;34m]\u001b[0m\u001b[0;34m\u001b[0m\u001b[0;34m\u001b[0m\u001b[0m\n",
      "\u001b[0;32m/opt/anaconda3/lib/python3.9/site-packages/torch/nn/modules/conv.py\u001b[0m in \u001b[0;36mforward\u001b[0;34m(self, input)\u001b[0m\n\u001b[1;32m    444\u001b[0m \u001b[0;34m\u001b[0m\u001b[0m\n\u001b[1;32m    445\u001b[0m     \u001b[0;32mdef\u001b[0m \u001b[0mforward\u001b[0m\u001b[0;34m(\u001b[0m\u001b[0mself\u001b[0m\u001b[0;34m,\u001b[0m \u001b[0minput\u001b[0m\u001b[0;34m:\u001b[0m \u001b[0mTensor\u001b[0m\u001b[0;34m)\u001b[0m \u001b[0;34m->\u001b[0m \u001b[0mTensor\u001b[0m\u001b[0;34m:\u001b[0m\u001b[0;34m\u001b[0m\u001b[0;34m\u001b[0m\u001b[0m\n\u001b[0;32m--> 446\u001b[0;31m         \u001b[0;32mreturn\u001b[0m \u001b[0mself\u001b[0m\u001b[0;34m.\u001b[0m\u001b[0m_conv_forward\u001b[0m\u001b[0;34m(\u001b[0m\u001b[0minput\u001b[0m\u001b[0;34m,\u001b[0m \u001b[0mself\u001b[0m\u001b[0;34m.\u001b[0m\u001b[0mweight\u001b[0m\u001b[0;34m,\u001b[0m \u001b[0mself\u001b[0m\u001b[0;34m.\u001b[0m\u001b[0mbias\u001b[0m\u001b[0;34m)\u001b[0m\u001b[0;34m\u001b[0m\u001b[0;34m\u001b[0m\u001b[0m\n\u001b[0m\u001b[1;32m    447\u001b[0m \u001b[0;34m\u001b[0m\u001b[0m\n\u001b[1;32m    448\u001b[0m \u001b[0;32mclass\u001b[0m \u001b[0mConv3d\u001b[0m\u001b[0;34m(\u001b[0m\u001b[0m_ConvNd\u001b[0m\u001b[0;34m)\u001b[0m\u001b[0;34m:\u001b[0m\u001b[0;34m\u001b[0m\u001b[0;34m\u001b[0m\u001b[0m\n",
      "\u001b[0;32m/opt/anaconda3/lib/python3.9/site-packages/torch/nn/modules/conv.py\u001b[0m in \u001b[0;36m_conv_forward\u001b[0;34m(self, input, weight, bias)\u001b[0m\n\u001b[1;32m    440\u001b[0m                             \u001b[0mweight\u001b[0m\u001b[0;34m,\u001b[0m \u001b[0mbias\u001b[0m\u001b[0;34m,\u001b[0m \u001b[0mself\u001b[0m\u001b[0;34m.\u001b[0m\u001b[0mstride\u001b[0m\u001b[0;34m,\u001b[0m\u001b[0;34m\u001b[0m\u001b[0;34m\u001b[0m\u001b[0m\n\u001b[1;32m    441\u001b[0m                             _pair(0), self.dilation, self.groups)\n\u001b[0;32m--> 442\u001b[0;31m         return F.conv2d(input, weight, bias, self.stride,\n\u001b[0m\u001b[1;32m    443\u001b[0m                         self.padding, self.dilation, self.groups)\n\u001b[1;32m    444\u001b[0m \u001b[0;34m\u001b[0m\u001b[0m\n",
      "\u001b[0;31mRuntimeError\u001b[0m: expected scalar type Byte but found Float"
     ]
    }
   ],
   "source": [
    "acc, true, pred = test_network(model1, data_loader_collected)\n",
    "print('Test accuracy: %0.3f' % acc)\n",
    "\n",
    "display_contingency_matrix(len(classes_collected), pred, true)"
   ]
  },
  {
   "cell_type": "markdown",
   "id": "8be1b441",
   "metadata": {},
   "source": [
    "### Smaller Kernel Size"
   ]
  },
  {
   "cell_type": "code",
   "execution_count": 17,
   "id": "ea65ac78",
   "metadata": {},
   "outputs": [],
   "source": [
    "class modelCMS(nn.Module):\n",
    "    def __init__(self, classes):\n",
    "        super().__init__()\n",
    "        self.classes = classes\n",
    "        self.layers = nn.Sequential(\n",
    "            nn.Conv2d(in_channels=1, out_channels=8, kernel_size=(3,3), stride=1),\n",
    "            nn.MaxPool2d(kernel_size=(2,2), stride=2),\n",
    "            nn.ReLU(),\n",
    "            nn.Flatten(),\n",
    "            nn.Linear(1352, len(self.classes))\n",
    "        )\n",
    "            \n",
    "\n",
    "    def forward(self, x):\n",
    "        return self.layers(x)"
   ]
  },
  {
   "cell_type": "code",
   "execution_count": 18,
   "id": "1a14c8e2",
   "metadata": {},
   "outputs": [
    {
     "data": {
      "application/vnd.jupyter.widget-view+json": {
       "model_id": "c6ae2a3954f2482ba90c00d620a4a520",
       "version_major": 2,
       "version_minor": 0
      },
      "text/plain": [
       "  0%|          | 0/10 [00:00<?, ?it/s]"
      ]
     },
     "metadata": {},
     "output_type": "display_data"
    },
    {
     "name": "stdout",
     "output_type": "stream",
     "text": [
      "EPOCH 0\n",
      " Train loss: 1.23041\n",
      "   Val loss: 0.97628\n",
      "\n",
      "EPOCH 1\n",
      " Train loss: 0.87156\n",
      "   Val loss: 0.82428\n",
      "\n",
      "EPOCH 2\n",
      " Train loss: 0.71721\n",
      "   Val loss: 0.68793\n",
      "\n",
      "EPOCH 3\n",
      " Train loss: 0.61153\n",
      "   Val loss: 0.61068\n",
      "\n",
      "EPOCH 4\n",
      " Train loss: 0.54508\n",
      "   Val loss: 0.57422\n",
      "\n",
      "EPOCH 5\n",
      " Train loss: 0.50417\n",
      "   Val loss: 0.53292\n",
      "\n",
      "EPOCH 6\n",
      " Train loss: 0.47292\n",
      "   Val loss: 0.50506\n",
      "\n",
      "EPOCH 7\n",
      " Train loss: 0.44726\n",
      "   Val loss: 0.50167\n",
      "\n",
      "EPOCH 8\n",
      " Train loss: 0.42715\n",
      "   Val loss: 0.48336\n",
      "\n",
      "EPOCH 9\n",
      " Train loss: 0.40840\n",
      "   Val loss: 0.46216\n",
      "\n"
     ]
    }
   ],
   "source": [
    "model1s = modelCMS(classes)\n",
    "criterion = nn.CrossEntropyLoss()\n",
    "optimizer = torch.optim.Adam(model1s.parameters(), lr=.001)\n",
    "train_network(model1s, train_loader, val_loader, criterion, optimizer, nepoch=10)"
   ]
  },
  {
   "cell_type": "code",
   "execution_count": 19,
   "id": "f5d1cfe1",
   "metadata": {},
   "outputs": [
    {
     "name": "stdout",
     "output_type": "stream",
     "text": [
      "Test accuracy: 85.981\n"
     ]
    },
    {
     "data": {
      "image/png": "[encoded data removed]",
      "text/plain": [
       "<Figure size 288x288 with 2 Axes>"
      ]
     },
     "metadata": {
      "needs_background": "light"
     },
     "output_type": "display_data"
    }
   ],
   "source": [
    "acc, true, pred = test_network(model1s, test_loader)\n",
    "print('Test accuracy: %0.3f' % acc)\n",
    "\n",
    "display_contingency_matrix(len(model1s.classes), pred, true)"
   ]
  },
  {
   "cell_type": "markdown",
   "id": "d10205d8",
   "metadata": {},
   "source": [
    "### Double Convolution Layer with MaxPool"
   ]
  },
  {
   "cell_type": "code",
   "execution_count": 20,
   "id": "5d4dc8c9",
   "metadata": {},
   "outputs": [],
   "source": [
    "class modelCMCM(nn.Module):\n",
    "    def __init__(self, classes):\n",
    "        super().__init__()\n",
    "        self.classes = classes\n",
    "        self.layers = nn.Sequential(\n",
    "            nn.Conv2d(in_channels=1, out_channels=8, kernel_size=(5,5), stride=1),\n",
    "            nn.MaxPool2d(kernel_size=(2,2), stride=2),\n",
    "            nn.ReLU(),\n",
    "            nn.Conv2d(in_channels=8, out_channels=64, kernel_size=(5,5), stride=1),\n",
    "            nn.MaxPool2d(kernel_size=(2,2), stride=2),\n",
    "            nn.ReLU(),\n",
    "            nn.Flatten(),\n",
    "            nn.Linear(1024, len(self.classes))\n",
    "        )\n",
    "            \n",
    "\n",
    "    def forward(self, x):\n",
    "        return self.layers(x)"
   ]
  },
  {
   "cell_type": "code",
   "execution_count": 21,
   "id": "b2dde111",
   "metadata": {},
   "outputs": [
    {
     "data": {
      "application/vnd.jupyter.widget-view+json": {
       "model_id": "b1701bf3648e48b8bb1f4cdfbc6b93f8",
       "version_major": 2,
       "version_minor": 0
      },
      "text/plain": [
       "  0%|          | 0/10 [00:00<?, ?it/s]"
      ]
     },
     "metadata": {},
     "output_type": "display_data"
    },
    {
     "name": "stdout",
     "output_type": "stream",
     "text": [
      "EPOCH 0\n",
      " Train loss: 0.76451\n",
      "   Val loss: 0.41834\n",
      "\n",
      "EPOCH 1\n",
      " Train loss: 0.35438\n",
      "   Val loss: 0.30533\n",
      "\n",
      "EPOCH 2\n",
      " Train loss: 0.28480\n",
      "   Val loss: 0.28355\n",
      "\n",
      "EPOCH 3\n",
      " Train loss: 0.24792\n",
      "   Val loss: 0.26275\n",
      "\n",
      "EPOCH 4\n",
      " Train loss: 0.22173\n",
      "   Val loss: 0.25514\n",
      "\n",
      "EPOCH 5\n",
      " Train loss: 0.20368\n",
      "   Val loss: 0.25890\n",
      "\n",
      "EPOCH 6\n",
      " Train loss: 0.18590\n",
      "   Val loss: 0.24120\n",
      "\n",
      "EPOCH 7\n",
      " Train loss: 0.17198\n",
      "   Val loss: 0.24355\n",
      "\n",
      "EPOCH 8\n",
      " Train loss: 0.15874\n",
      "   Val loss: 0.24639\n",
      "\n",
      "EPOCH 9\n",
      " Train loss: 0.14863\n",
      "   Val loss: 0.23129\n",
      "\n"
     ]
    }
   ],
   "source": [
    "model2 = modelCMCM(classes)\n",
    "criterion = nn.CrossEntropyLoss()\n",
    "optimizer = torch.optim.Adam(model2.parameters(), lr=.001)\n",
    "train_network(model2, train_loader, val_loader, criterion, optimizer, nepoch=10)"
   ]
  },
  {
   "cell_type": "code",
   "execution_count": 22,
   "id": "6fe90fd9",
   "metadata": {},
   "outputs": [
    {
     "name": "stdout",
     "output_type": "stream",
     "text": [
      "Test accuracy: 92.207\n"
     ]
    },
    {
     "data": {
      "image/png": "[encoded data removed]",
      "text/plain": [
       "<Figure size 288x288 with 2 Axes>"
      ]
     },
     "metadata": {
      "needs_background": "light"
     },
     "output_type": "display_data"
    }
   ],
   "source": [
    "acc, true, pred = test_network(model2, test_loader)\n",
    "print('Test accuracy: %0.3f' % acc)\n",
    "\n",
    "display_contingency_matrix(len(model2.classes), pred, true)"
   ]
  },
  {
   "cell_type": "markdown",
   "id": "2fe31660",
   "metadata": {},
   "source": [
    "### Single Convolution Network with Average Pool"
   ]
  },
  {
   "cell_type": "code",
   "execution_count": 23,
   "id": "471e4b72",
   "metadata": {},
   "outputs": [],
   "source": [
    "class modelCA(nn.Module):\n",
    "    def __init__(self, classes):\n",
    "        super().__init__()\n",
    "        self.classes = classes\n",
    "        self.layers = nn.Sequential(\n",
    "            nn.Conv2d(in_channels=1, out_channels=8, kernel_size=(5,5), stride=1),\n",
    "            nn.AvgPool2d(kernel_size=(2,2), stride=2),\n",
    "            nn.ReLU(),\n",
    "            nn.Flatten(),\n",
    "            nn.Linear(1152, len(self.classes))\n",
    "        )\n",
    "            \n",
    "\n",
    "    def forward(self, x):\n",
    "        return self.layers(x)"
   ]
  },
  {
   "cell_type": "code",
   "execution_count": 24,
   "id": "501cb00b",
   "metadata": {},
   "outputs": [
    {
     "data": {
      "application/vnd.jupyter.widget-view+json": {
       "model_id": "d2f47b15823b468886d698d34a57d5fb",
       "version_major": 2,
       "version_minor": 0
      },
      "text/plain": [
       "  0%|          | 0/10 [00:00<?, ?it/s]"
      ]
     },
     "metadata": {},
     "output_type": "display_data"
    },
    {
     "name": "stdout",
     "output_type": "stream",
     "text": [
      "EPOCH 0\n",
      " Train loss: 1.13020\n",
      "   Val loss: 0.81349\n",
      "\n",
      "EPOCH 1\n",
      " Train loss: 0.65135\n",
      "   Val loss: 0.58294\n",
      "\n",
      "EPOCH 2\n",
      " Train loss: 0.50856\n",
      "   Val loss: 0.49838\n",
      "\n",
      "EPOCH 3\n",
      " Train loss: 0.44802\n",
      "   Val loss: 0.48435\n",
      "\n",
      "EPOCH 4\n",
      " Train loss: 0.41661\n",
      "   Val loss: 0.44393\n",
      "\n",
      "EPOCH 5\n",
      " Train loss: 0.39233\n",
      "   Val loss: 0.44952\n",
      "\n",
      "EPOCH 6\n",
      " Train loss: 0.37350\n",
      "   Val loss: 0.42694\n",
      "\n",
      "EPOCH 7\n",
      " Train loss: 0.35506\n",
      "   Val loss: 0.41322\n",
      "\n",
      "EPOCH 8\n",
      " Train loss: 0.34208\n",
      "   Val loss: 0.41412\n",
      "\n",
      "EPOCH 9\n",
      " Train loss: 0.32794\n",
      "   Val loss: 0.40368\n",
      "\n"
     ]
    }
   ],
   "source": [
    "model3 = modelCA(classes)\n",
    "criterion = nn.CrossEntropyLoss()\n",
    "optimizer = torch.optim.Adam(model3.parameters(), lr=.001)\n",
    "train_network(model3, train_loader, val_loader, criterion, optimizer, nepoch=10)"
   ]
  },
  {
   "cell_type": "code",
   "execution_count": 25,
   "id": "0be8f94b",
   "metadata": {},
   "outputs": [
    {
     "name": "stdout",
     "output_type": "stream",
     "text": [
      "Test accuracy: 87.284\n"
     ]
    },
    {
     "data": {
      "image/png": "[encoded data removed]",
      "text/plain": [
       "<Figure size 288x288 with 2 Axes>"
      ]
     },
     "metadata": {
      "needs_background": "light"
     },
     "output_type": "display_data"
    }
   ],
   "source": [
    "acc, true, pred = test_network(model3, test_loader)\n",
    "print('Test accuracy: %0.3f' % acc)\n",
    "\n",
    "display_contingency_matrix(len(model3.classes), pred, true)"
   ]
  },
  {
   "cell_type": "markdown",
   "id": "09a4aa03",
   "metadata": {},
   "source": [
    "## Visualizing Optimized Inputs"
   ]
  },
  {
   "cell_type": "code",
   "execution_count": 26,
   "id": "68965e5a",
   "metadata": {},
   "outputs": [],
   "source": [
    "class OptimizeInput(nn.Module):\n",
    "    def __init__(self, learned_model, input_shape=(1, 1, 28, 28)):\n",
    "        super().__init__()\n",
    "        self.learned_model = learned_model\n",
    "        self.optimized_input = torch.zeros(input_shape, requires_grad=True)\n",
    "        \n",
    "    def forward(self):\n",
    "        return self.learned_model(self.optimized_input)\n",
    "    \n",
    "    def parameters(self):\n",
    "        return [self.optimized_input]"
   ]
  },
  {
   "cell_type": "code",
   "execution_count": 27,
   "id": "cb3cce1a",
   "metadata": {},
   "outputs": [],
   "source": [
    "# Given model, get optimized input for each character\n",
    "def get_optimized_inputs(model, nepochs = 10000):\n",
    "    targets = torch.arange(len(model.classes)).long()\n",
    "    optimized_inputs = {}\n",
    "\n",
    "    for t in targets:\n",
    "        # train input\n",
    "        input_model = OptimizeInput(model)\n",
    "        optimizer = torch.optim.Adam(input_model.parameters(), lr=.01)\n",
    "        criterion = nn.CrossEntropyLoss()\n",
    "        for epoch in range(nepochs):\n",
    "            optimizer.zero_grad()\n",
    "            outputs = input_model()\n",
    "            loss = criterion(outputs, t.reshape(1))\n",
    "            loss.backward()\n",
    "            optimizer.step()\n",
    "        print(\"finished %s with %0.5f loss\" % (model.classes[t], loss.item()), end = \"\\t\")\n",
    "        optimized_inputs[model.classes[t]] = input_model.optimized_input.detach().numpy().reshape((28, 28))\n",
    "        \n",
    "        # test input\n",
    "        tensor = torch.Tensor(optimized_inputs[model.classes[t]].reshape(1, 1, 28, 28))\n",
    "        with torch.no_grad():\n",
    "            output = model(tensor)\n",
    "        prob = output.squeeze().detach().numpy()\n",
    "        pred = model.classes[torch.argmax(output, dim=1)]\n",
    "        print(f\"Expected: {model.classes[t]}. Predicted: {pred}.\")\n",
    "    return optimized_inputs"
   ]
  },
  {
   "cell_type": "code",
   "execution_count": 28,
   "id": "9b14cf50",
   "metadata": {},
   "outputs": [
    {
     "name": "stdout",
     "output_type": "stream",
     "text": [
      "finished N/A with 0.64832 loss\tExpected: N/A. Predicted: N/A.\n",
      "finished a with 0.00029 loss\tExpected: a. Predicted: a.\n",
      "finished b with 0.00020 loss\tExpected: b. Predicted: b.\n",
      "finished c with 0.00013 loss\tExpected: c. Predicted: c.\n",
      "finished d with 0.00031 loss\tExpected: d. Predicted: d.\n",
      "finished e with 0.00019 loss\tExpected: e. Predicted: e.\n",
      "finished f with 0.00012 loss\tExpected: f. Predicted: f.\n",
      "finished g with 0.00011 loss\tExpected: g. Predicted: g.\n",
      "finished h with 0.00022 loss\tExpected: h. Predicted: h.\n",
      "finished i with 0.00004 loss\tExpected: i. Predicted: i.\n",
      "finished j with 0.00006 loss\tExpected: j. Predicted: j.\n",
      "finished k with 0.00013 loss\tExpected: k. Predicted: k.\n",
      "finished l with 0.00003 loss\tExpected: l. Predicted: l.\n",
      "finished m with 0.00016 loss\tExpected: m. Predicted: m.\n",
      "finished n with 0.00016 loss\tExpected: n. Predicted: n.\n",
      "finished o with 0.00062 loss\tExpected: o. Predicted: o.\n",
      "finished p with 0.00009 loss\tExpected: p. Predicted: p.\n",
      "finished q with 0.00011 loss\tExpected: q. Predicted: q.\n",
      "finished r with 0.00011 loss\tExpected: r. Predicted: r.\n",
      "finished s with 0.00011 loss\tExpected: s. Predicted: s.\n",
      "finished t with 0.00011 loss\tExpected: t. Predicted: t.\n",
      "finished u with 0.00018 loss\tExpected: u. Predicted: u.\n",
      "finished v with 0.00014 loss\tExpected: v. Predicted: v.\n",
      "finished w with 0.00013 loss\tExpected: w. Predicted: w.\n",
      "finished x with 0.00035 loss\tExpected: x. Predicted: x.\n",
      "finished y with 0.00012 loss\tExpected: y. Predicted: y.\n",
      "finished z with 0.00014 loss\tExpected: z. Predicted: z.\n"
     ]
    }
   ],
   "source": [
    "optimized_inputs = get_optimized_inputs(model2, nepochs=1000)"
   ]
  },
  {
   "cell_type": "code",
   "execution_count": 29,
   "id": "8be3ac67",
   "metadata": {},
   "outputs": [
    {
     "data": {
      "text/plain": [
       "<matplotlib.image.AxesImage at 0x7fc0b875bca0>"
      ]
     },
     "execution_count": 29,
     "metadata": {},
     "output_type": "execute_result"
    },
    {
     "data": {
      "image/png": "[encoded data removed]",
      "text/plain": [
       "<Figure size 432x288 with 1 Axes>"
      ]
     },
     "metadata": {
      "needs_background": "light"
     },
     "output_type": "display_data"
    }
   ],
   "source": [
    "letter = 'b'\n",
    "letter_visualized = optimized_inputs[letter].T\n",
    "plt.imshow(letter_visualized, cmap='Greys_r')"
   ]
  },
  {
   "cell_type": "code",
   "execution_count": null,
   "id": "5bc6e3a3",
   "metadata": {},
   "outputs": [],
   "source": []
  }
 ],
 "metadata": {
  "kernelspec": {
   "display_name": "condaEnv",
   "language": "python",
   "name": "condaenv"
  },
  "language_info": {
   "codemirror_mode": {
    "name": "ipython",
    "version": 3
   },
   "file_extension": ".py",
   "mimetype": "text/x-python",
   "name": "python",
   "nbconvert_exporter": "python",
   "pygments_lexer": "ipython3",
   "version": "3.9.7"
  }
 },
 "nbformat": 4,
 "nbformat_minor": 5
}
