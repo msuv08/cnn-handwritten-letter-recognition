{
 "cells": [
  {
   "cell_type": "code",
   "execution_count": 1,
   "id": "75da0fed",
   "metadata": {},
   "outputs": [],
   "source": [
    "# Run these two blocks to load important libraries and set things up\n",
    "import torch\n",
    "from torch import nn\n",
    "import numpy as np\n",
    "\n",
    "%matplotlib inline\n",
    "import matplotlib.pyplot as plt"
   ]
  },
  {
   "cell_type": "markdown",
   "id": "b1977be9",
   "metadata": {},
   "source": [
    "## Load Dataset"
   ]
  },
  {
   "cell_type": "code",
   "execution_count": 2,
   "id": "65c076b1",
   "metadata": {},
   "outputs": [
    {
     "name": "stdout",
     "output_type": "stream",
     "text": [
      "Downloading https://www.itl.nist.gov/iaui/vip/cs_links/EMNIST/gzip.zip to letterEMNIST/EMNIST/raw/gzip.zip\n"
     ]
    },
    {
     "data": {
      "application/vnd.jupyter.widget-view+json": {
       "model_id": "caa65803622740879285d98959c36b4e",
       "version_major": 2,
       "version_minor": 0
      },
      "text/plain": [
       "  0%|          | 0/561753746 [00:00<?, ?it/s]"
      ]
     },
     "metadata": {},
     "output_type": "display_data"
    },
    {
     "name": "stdout",
     "output_type": "stream",
     "text": [
      "Extracting letterEMNIST/EMNIST/raw/gzip.zip to letterEMNIST/EMNIST/raw\n",
      "Dataset EMNIST\n",
      "    Number of datapoints: 124800\n",
      "    Root location: letterEMNIST\n",
      "    Split: Train\n",
      "    StandardTransform\n",
      "Transform: ToTensor()\n",
      "Dataset EMNIST\n",
      "    Number of datapoints: 20800\n",
      "    Root location: letterEMNIST\n",
      "    Split: Test\n",
      "    StandardTransform\n",
      "Transform: ToTensor()\n"
     ]
    }
   ],
   "source": [
    "from torchvision import datasets, transforms\n",
    "\n",
    "save_dir = 'letterEMNIST'\n",
    "\n",
    "transform = transforms.ToTensor() # Convert the image into a torch tensor.\n",
    "\n",
    "train_set = datasets.EMNIST(save_dir, split=\"letters\", download=True, train=True, transform=transform)\n",
    "test_set = datasets.EMNIST(save_dir, split=\"letters\", download=True, train=False, transform=transform)\n",
    "\n",
    "print(train_set)\n",
    "print(test_set)"
   ]
  },
  {
   "cell_type": "code",
   "execution_count": 3,
   "id": "1cc0f048",
   "metadata": {},
   "outputs": [],
   "source": [
    "from torch.utils.data.sampler import SubsetRandomSampler\n",
    "ntotal = 60000\n",
    "ntrain = int(0.9*ntotal)\n",
    "nval = ntotal - ntrain\n",
    "\n",
    "val_ix = np.random.choice(range(ntotal), size=nval, replace=False)\n",
    "train_ix = list(set(range(ntotal)) - set(val_ix))\n",
    "\n",
    "train_sampler = SubsetRandomSampler(train_ix)\n",
    "val_sampler = SubsetRandomSampler(val_ix)"
   ]
  },
  {
   "cell_type": "code",
   "execution_count": 4,
   "id": "c1c36234",
   "metadata": {},
   "outputs": [],
   "source": [
    "# initialize the data sets\n",
    "batch_size = 64\n",
    "train_loader = torch.utils.data.DataLoader(train_set, batch_size=batch_size, sampler=train_sampler)\n",
    "val_loader = torch.utils.data.DataLoader(train_set, batch_size=batch_size, sampler=val_sampler)\n",
    "test_loader = torch.utils.data.DataLoader(test_set, batch_size=batch_size)"
   ]
  },
  {
   "cell_type": "code",
   "execution_count": 5,
   "id": "bc5266dd",
   "metadata": {},
   "outputs": [
    {
     "name": "stdout",
     "output_type": "stream",
     "text": [
      "['N/A', 'a', 'b', 'c', 'd', 'e', 'f', 'g', 'h', 'i', 'j', 'k', 'l', 'm', 'n', 'o', 'p', 'q', 'r', 's', 't', 'u', 'v', 'w', 'x', 'y', 'z']\n",
      "Label: w\n"
     ]
    },
    {
     "data": {
      "image/png": "[encoded data removed]",
      "text/plain": [
       "<Figure size 432x288 with 1 Axes>"
      ]
     },
     "metadata": {
      "needs_background": "light"
     },
     "output_type": "display_data"
    }
   ],
   "source": [
    "# print classes\n",
    "print(train_set.classes)\n",
    "classes = train_set.classes\n",
    "# print label\n",
    "index = 0\n",
    "plt.imshow(train_set.data[index].T, cmap='Greys_r')\n",
    "print(\"Label: %s\" % train_set.classes[train_set.targets[index]])"
   ]
  },
  {
   "cell_type": "markdown",
   "id": "8840579b",
   "metadata": {},
   "source": [
    "## Create the CNN"
   ]
  },
  {
   "cell_type": "code",
   "execution_count": 6,
   "id": "86d642d9",
   "metadata": {},
   "outputs": [],
   "source": [
    "# inputs are 28x28\n",
    "\n",
    "class letterMLP(nn.Module):\n",
    "    def __init__(self, classes):\n",
    "        super().__init__()\n",
    "        self.classes = classes\n",
    "        self.layers = nn.Sequential(\n",
    "            nn.Conv2d(in_channels=1, out_channels=8, kernel_size=(5,5), stride=1),\n",
    "            nn.MaxPool2d(kernel_size=(2,2), stride=2),\n",
    "            nn.ReLU(),\n",
    "            nn.Flatten(),\n",
    "            nn.Linear(1152, len(self.classes))\n",
    "        )\n",
    "            \n",
    "\n",
    "    def forward(self, x):\n",
    "        return self.layers(x)"
   ]
  },
  {
   "cell_type": "code",
   "execution_count": 7,
   "id": "82ab2a0d",
   "metadata": {},
   "outputs": [],
   "source": [
    "model = letterMLP(classes)\n",
    "criterion = nn.CrossEntropyLoss()\n",
    "optimizer = torch.optim.Adam(model.parameters(), lr=.0001)"
   ]
  },
  {
   "cell_type": "code",
   "execution_count": 8,
   "id": "a6cd8f78",
   "metadata": {},
   "outputs": [],
   "source": [
    "from tqdm.notebook import tqdm\n",
    "import torch.nn.functional as F\n",
    "\n",
    "def train_network(model, train_loader, val_loader, criterion, optimizer, nepoch=100):\n",
    "    try:\n",
    "        for epoch in tqdm(range(nepoch)):\n",
    "            print('EPOCH %d'%epoch)\n",
    "            total_loss = 0\n",
    "            count = 0\n",
    "            for inputs, labels in train_loader:\n",
    "                optimizer.zero_grad()\n",
    "                outputs = model(inputs)\n",
    "                loss = criterion(outputs, labels)\n",
    "                loss.backward()\n",
    "                optimizer.step()\n",
    "                total_loss += loss.item()\n",
    "                count += 1\n",
    "            print('{:>12s} {:>7.5f}'.format('Train loss:', total_loss/count))\n",
    "            with torch.no_grad():\n",
    "                total_loss = 0\n",
    "                count = 0\n",
    "                for inputs, labels in val_loader:\n",
    "                    outputs = model(inputs)\n",
    "                    loss = criterion(outputs, labels)\n",
    "                    total_loss += loss.item()\n",
    "                    count += 1\n",
    "                print('{:>12s} {:>7.5f}'.format('Val loss:', total_loss/count))\n",
    "            print()\n",
    "    except KeyboardInterrupt:\n",
    "        print('Exiting from training early')\n",
    "    return\n",
    "\n",
    "def test_network(model, test_loader):\n",
    "    correct = 0\n",
    "    total = 0\n",
    "    true, pred = [], []\n",
    "    with torch.no_grad():\n",
    "        for inputs, labels  in test_loader:\n",
    "            outputs = model(inputs)\n",
    "            predicted = torch.argmax(outputs, dim=1) # get predicted class label for each test example.\n",
    "            total += labels.size(0)\n",
    "            correct += (predicted == labels).sum().item()\n",
    "            true.append(labels)\n",
    "            pred.append(predicted)\n",
    "    acc = (100 * correct / total)\n",
    "    true = np.concatenate(true)\n",
    "    pred = np.concatenate(pred)\n",
    "    return acc, true, pred"
   ]
  },
  {
   "cell_type": "code",
   "execution_count": 9,
   "id": "3b96d278",
   "metadata": {},
   "outputs": [
    {
     "data": {
      "application/vnd.jupyter.widget-view+json": {
       "model_id": "183d599acb9f409c8edda5c678c2eeab",
       "version_major": 2,
       "version_minor": 0
      },
      "text/plain": [
       "  0%|          | 0/10 [00:00<?, ?it/s]"
      ]
     },
     "metadata": {},
     "output_type": "display_data"
    },
    {
     "name": "stdout",
     "output_type": "stream",
     "text": [
      "EPOCH 0\n",
      " Train loss: 1.93108\n",
      "   Val loss: 1.23702\n",
      "\n",
      "EPOCH 1\n",
      " Train loss: 1.12861\n",
      "   Val loss: 1.05253\n",
      "\n",
      "EPOCH 2\n",
      " Train loss: 1.01017\n",
      "   Val loss: 0.97499\n",
      "\n",
      "EPOCH 3\n",
      " Train loss: 0.93474\n",
      "   Val loss: 0.90611\n",
      "\n",
      "EPOCH 4\n",
      " Train loss: 0.87043\n",
      "   Val loss: 0.84412\n",
      "\n",
      "EPOCH 5\n",
      " Train loss: 0.80996\n",
      "   Val loss: 0.78800\n",
      "\n",
      "EPOCH 6\n",
      " Train loss: 0.75483\n",
      "   Val loss: 0.74014\n",
      "\n",
      "EPOCH 7\n",
      " Train loss: 0.70448\n",
      "   Val loss: 0.68746\n",
      "\n",
      "EPOCH 8\n",
      " Train loss: 0.65957\n",
      "   Val loss: 0.64999\n",
      "\n",
      "EPOCH 9\n",
      " Train loss: 0.62029\n",
      "   Val loss: 0.61886\n",
      "\n"
     ]
    }
   ],
   "source": [
    "train_network(model, train_loader, val_loader, criterion, optimizer, nepoch=10)"
   ]
  },
  {
   "cell_type": "code",
   "execution_count": 10,
   "id": "494689c1",
   "metadata": {},
   "outputs": [
    {
     "name": "stdout",
     "output_type": "stream",
     "text": [
      "Test accuracy: 81.615\n"
     ]
    },
    {
     "data": {
      "text/plain": [
       "<matplotlib.colorbar.Colorbar at 0x7fa4c8463b20>"
      ]
     },
     "execution_count": 10,
     "metadata": {},
     "output_type": "execute_result"
    },
    {
     "data": {
      "image/png": "[encoded data removed]",
      "text/plain": [
       "<Figure size 288x288 with 2 Axes>"
      ]
     },
     "metadata": {
      "needs_background": "light"
     },
     "output_type": "display_data"
    }
   ],
   "source": [
    "acc, true, pred = test_network(model, test_loader)\n",
    "print('Test accuracy: %0.3f' % acc)\n",
    "\n",
    "contingency = np.zeros((len(model.classes), len(model.classes)))\n",
    "for i in range(len(pred)):\n",
    "    contingency[int(pred[i])][int(true[i])] += 1\n",
    "\n",
    "plt.matshow(contingency)\n",
    "plt.xlabel(\"true\")\n",
    "plt.ylabel(\"predictions\")\n",
    "plt.colorbar()"
   ]
  },
  {
   "cell_type": "markdown",
   "id": "09a4aa03",
   "metadata": {},
   "source": [
    "## Visualizing Optimized Inputs"
   ]
  },
  {
   "cell_type": "code",
   "execution_count": 17,
   "id": "68965e5a",
   "metadata": {},
   "outputs": [],
   "source": [
    "class OptimizeInput(nn.Module):\n",
    "    def __init__(self, learned_model, input_shape=(1, 1, 28, 28)):\n",
    "        super().__init__()\n",
    "        self.learned_model = learned_model\n",
    "        self.optimized_input = torch.zeros(input_shape, requires_grad=True)\n",
    "        \n",
    "    def forward(self):\n",
    "        return self.learned_model(self.optimized_input)\n",
    "    \n",
    "    def parameters(self):\n",
    "        return [self.optimized_input]"
   ]
  },
  {
   "cell_type": "code",
   "execution_count": 24,
   "id": "cb3cce1a",
   "metadata": {},
   "outputs": [
    {
     "name": "stdout",
     "output_type": "stream",
     "text": [
      "finished N/A with 3.03184 loss\n",
      "finished a with 0.00216 loss\n",
      "finished b with 0.00142 loss\n",
      "finished c with 0.00112 loss\n",
      "finished d with 0.00128 loss\n",
      "finished e with 0.00272 loss\n",
      "finished f with 0.00080 loss\n",
      "finished g with 0.00213 loss\n",
      "finished h with 0.00089 loss\n",
      "finished i with 0.00159 loss\n",
      "finished j with 0.00028 loss\n",
      "finished k with 0.00096 loss\n",
      "finished l with 0.00040 loss\n",
      "finished m with 0.00185 loss\n",
      "finished n with 0.00201 loss\n",
      "finished o with 0.00407 loss\n",
      "finished p with 0.00109 loss\n",
      "finished q with 0.00141 loss\n",
      "finished r with 0.00184 loss\n",
      "finished s with 0.00102 loss\n",
      "finished t with 0.00053 loss\n",
      "finished u with 0.00170 loss\n",
      "finished v with 0.00159 loss\n",
      "finished w with 0.00119 loss\n",
      "finished x with 0.00165 loss\n",
      "finished y with 0.00051 loss\n",
      "finished z with 0.00088 loss\n"
     ]
    }
   ],
   "source": [
    "# Train OptimizeInput model, one for each letter\n",
    "targets = torch.arange(len(model.classes)).long()\n",
    "optimized_inputs = []\n",
    "\n",
    "n_epochs = 10000\n",
    "\n",
    "for t in targets:\n",
    "    input_model = OptimizeInput(model)\n",
    "    optimizer = torch.optim.Adam(input_model.parameters(), lr=.0001)\n",
    "    criterion = nn.CrossEntropyLoss()\n",
    "    for epoch in range(n_epochs):\n",
    "        optimizer.zero_grad()\n",
    "        outputs = input_model()\n",
    "        loss = criterion(outputs, t.reshape(1))\n",
    "        loss.backward()\n",
    "        optimizer.step()\n",
    "    print(\"finished %s with %0.5f loss\" % (model.classes[t], loss.item()))\n",
    "    optimized_inputs.append(input_model.optimized_input.detach().numpy().reshape((28, 28)))"
   ]
  },
  {
   "cell_type": "code",
   "execution_count": 25,
   "id": "9b14cf50",
   "metadata": {},
   "outputs": [
    {
     "name": "stdout",
     "output_type": "stream",
     "text": [
      "Expected: N/A. Predicted: j.\n",
      "Expected: a. Predicted: a.\n",
      "Expected: b. Predicted: b.\n",
      "Expected: c. Predicted: c.\n",
      "Expected: d. Predicted: d.\n",
      "Expected: e. Predicted: e.\n",
      "Expected: f. Predicted: f.\n",
      "Expected: g. Predicted: g.\n",
      "Expected: h. Predicted: h.\n",
      "Expected: i. Predicted: i.\n",
      "Expected: j. Predicted: j.\n",
      "Expected: k. Predicted: k.\n",
      "Expected: l. Predicted: l.\n",
      "Expected: m. Predicted: m.\n",
      "Expected: n. Predicted: n.\n",
      "Expected: o. Predicted: o.\n",
      "Expected: p. Predicted: p.\n",
      "Expected: q. Predicted: q.\n",
      "Expected: r. Predicted: r.\n",
      "Expected: s. Predicted: s.\n",
      "Expected: t. Predicted: t.\n",
      "Expected: u. Predicted: u.\n",
      "Expected: v. Predicted: v.\n",
      "Expected: w. Predicted: w.\n",
      "Expected: x. Predicted: x.\n",
      "Expected: y. Predicted: y.\n",
      "Expected: z. Predicted: z.\n"
     ]
    }
   ],
   "source": [
    "for i in range(len(model.classes)):\n",
    "    letter = model.classes[i]\n",
    "    tensor = torch.Tensor(optimized_inputs[i].reshape(1, 1, 28, 28))\n",
    "    output = model(tensor)\n",
    "    prob = output.squeeze().detach().numpy()\n",
    "    pred = model.classes[torch.argmax(output, dim=1)]\n",
    "    print(f\"Expected: {letter}. Predicted: {pred}.\")\n",
    "    \n",
    "#     plt.figure()\n",
    "#     plt.bar(range(len(model.classes)), np.exp(prob) / np.exp(prob).sum())\n",
    "#     plt.xticks(range(len(model.classes)), model.classes)"
   ]
  },
  {
   "cell_type": "code",
   "execution_count": 42,
   "id": "8be3ac67",
   "metadata": {},
   "outputs": [
    {
     "data": {
      "text/plain": [
       "<matplotlib.image.AxesImage at 0x7fa4d9cb2dc0>"
      ]
     },
     "execution_count": 42,
     "metadata": {},
     "output_type": "execute_result"
    },
    {
     "data": {
      "image/png": "[encoded data removed]",
      "text/plain": [
       "<Figure size 432x288 with 1 Axes>"
      ]
     },
     "metadata": {
      "needs_background": "light"
     },
     "output_type": "display_data"
    }
   ],
   "source": [
    "letter = 'j'\n",
    "letter_visualized = optimized_inputs[model.classes.index(letter)].T\n",
    "plt.imshow(letter_visualized, cmap='Greys_r')\n",
    "# letter_visualized = letter_visualized.flatten()\n",
    "# for i in range(28*28):\n",
    "#     letter_visualized[i] = 0 if letter_visualized[i] < 0 else 1  \n",
    "# plt.imshow(letter_visualized.reshape((28,28)), cmap='Greys_r')"
   ]
  },
  {
   "cell_type": "code",
   "execution_count": null,
   "id": "5bc6e3a3",
   "metadata": {},
   "outputs": [],
   "source": []
  }
 ],
 "metadata": {
  "kernelspec": {
   "display_name": "condaEnv",
   "language": "python",
   "name": "condaenv"
  },
  "language_info": {
   "codemirror_mode": {
    "name": "ipython",
    "version": 3
   },
   "file_extension": ".py",
   "mimetype": "text/x-python",
   "name": "python",
   "nbconvert_exporter": "python",
   "pygments_lexer": "ipython3",
   "version": "3.9.7"
  }
 },
 "nbformat": 4,
 "nbformat_minor": 5
}
