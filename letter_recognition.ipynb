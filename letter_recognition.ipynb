{
 "cells": [
  {
   "cell_type": "code",
   "execution_count": 1,
   "id": "75da0fed",
   "metadata": {
    "id": "75da0fed"
   },
   "outputs": [],
   "source": [
    "# Run these two blocks to load important libraries and set things up\n",
    "import torch\n",
    "from torch import nn\n",
    "import numpy as np\n",
    "\n",
    "%matplotlib inline\n",
    "import matplotlib.pyplot as plt"
   ]
  },
  {
   "cell_type": "markdown",
   "id": "b1977be9",
   "metadata": {
    "id": "b1977be9"
   },
   "source": [
    "## Load Dataset"
   ]
  },
  {
   "cell_type": "code",
   "execution_count": 2,
   "id": "65c076b1",
   "metadata": {
    "id": "65c076b1",
    "outputId": "989bdb93-c7e9-44e8-dee4-dbe6ce00df80"
   },
   "outputs": [
    {
     "name": "stdout",
     "output_type": "stream",
     "text": [
      "Dataset EMNIST\n",
      "    Number of datapoints: 124800\n",
      "    Root location: letterEMNIST\n",
      "    Split: Train\n",
      "    StandardTransform\n",
      "Transform: ToTensor()\n",
      "Dataset EMNIST\n",
      "    Number of datapoints: 20800\n",
      "    Root location: letterEMNIST\n",
      "    Split: Test\n",
      "    StandardTransform\n",
      "Transform: ToTensor()\n"
     ]
    }
   ],
   "source": [
    "from torchvision import datasets, transforms\n",
    "\n",
    "save_dir = 'letterEMNIST'\n",
    "\n",
    "transform = transforms.ToTensor() # Convert the image into a torch tensor.\n",
    "\n",
    "train_set = datasets.EMNIST(save_dir, split=\"letters\", download=True, train=True, transform=transform)\n",
    "test_set = datasets.EMNIST(save_dir, split=\"letters\", download=True, train=False, transform=transform)\n",
    "\n",
    "print(train_set)\n",
    "print(test_set)"
   ]
  },
  {
   "cell_type": "code",
   "execution_count": 3,
   "id": "1cc0f048",
   "metadata": {
    "id": "1cc0f048"
   },
   "outputs": [],
   "source": [
    "from torch.utils.data.sampler import SubsetRandomSampler\n",
    "ntotal = 60000\n",
    "ntrain = int(0.9*ntotal)\n",
    "nval = ntotal - ntrain\n",
    "\n",
    "val_ix = np.random.choice(range(ntotal), size=nval, replace=False)\n",
    "train_ix = list(set(range(ntotal)) - set(val_ix))\n",
    "\n",
    "train_sampler = SubsetRandomSampler(train_ix)\n",
    "val_sampler = SubsetRandomSampler(val_ix)"
   ]
  },
  {
   "cell_type": "code",
   "execution_count": 4,
   "id": "c1c36234",
   "metadata": {
    "id": "c1c36234"
   },
   "outputs": [],
   "source": [
    "# initialize the data sets\n",
    "batch_size = 64\n",
    "train_loader = torch.utils.data.DataLoader(train_set, batch_size=batch_size, sampler=train_sampler)\n",
    "val_loader = torch.utils.data.DataLoader(train_set, batch_size=batch_size, sampler=val_sampler)\n",
    "test_loader = torch.utils.data.DataLoader(test_set, batch_size=batch_size)"
   ]
  },
  {
   "cell_type": "code",
   "execution_count": 5,
   "id": "bc5266dd",
   "metadata": {
    "id": "bc5266dd",
    "outputId": "9bc2c87b-fde8-4396-d122-6a337ba7a67c"
   },
   "outputs": [
    {
     "name": "stdout",
     "output_type": "stream",
     "text": [
      "['N/A', 'a', 'b', 'c', 'd', 'e', 'f', 'g', 'h', 'i', 'j', 'k', 'l', 'm', 'n', 'o', 'p', 'q', 'r', 's', 't', 'u', 'v', 'w', 'x', 'y', 'z']\n",
      "['N/A', 'a', 'b', 'c', 'd', 'e', 'f', 'g', 'h', 'i', 'j', 'k', 'l', 'm', 'n', 'o', 'p', 'q', 'r', 's', 't', 'u', 'v', 'w', 'x', 'y', 'z']\n",
      "Label: c\n"
     ]
    },
    {
     "data": {
      "image/png": "[encoded data removed]",
      "text/plain": [
       "<Figure size 432x288 with 1 Axes>"
      ]
     },
     "metadata": {
      "needs_background": "light"
     },
     "output_type": "display_data"
    }
   ],
   "source": [
    "# print classes\n",
    "print(train_set.classes)\n",
    "print(test_set.classes)\n",
    "# print label\n",
    "index = 50\n",
    "plt.imshow(train_set.data[index].T, cmap='Greys_r')\n",
    "print(\"Label: %s\" % train_set.classes[train_set.targets[index]])"
   ]
  },
  {
   "cell_type": "markdown",
   "id": "8840579b",
   "metadata": {
    "id": "8840579b"
   },
   "source": [
    "## Create the CNN"
   ]
  },
  {
   "cell_type": "code",
   "execution_count": 6,
   "id": "86d642d9",
   "metadata": {
    "id": "86d642d9"
   },
   "outputs": [],
   "source": [
    "# inputs are 28x28\n",
    "\n",
    "class letterMLP(nn.Module):\n",
    "    def __init__(self, num_letters):\n",
    "        super().__init__()\n",
    "        self.classes = num_letters\n",
    "        self.layers = nn.Sequential(\n",
    "            nn.Conv2d(in_channels=1, out_channels=8, kernel_size=(5,5), stride=1),\n",
    "            nn.MaxPool2d(kernel_size=(2,2), stride=2),\n",
    "            nn.ReLU(),\n",
    "            nn.Flatten(),\n",
    "            nn.Linear(1152, self.classes)\n",
    "        )\n",
    "            \n",
    "\n",
    "    def forward(self, x):\n",
    "        return self.layers(x)"
   ]
  },
  {
   "cell_type": "code",
   "execution_count": 7,
   "id": "82ab2a0d",
   "metadata": {
    "id": "82ab2a0d"
   },
   "outputs": [],
   "source": [
    "model = letterMLP(len(train_set.classes))\n",
    "criterion = nn.CrossEntropyLoss()\n",
    "optimizer = torch.optim.Adam(model.parameters(), lr=.0001)"
   ]
  },
  {
   "cell_type": "code",
   "execution_count": 8,
   "id": "a6cd8f78",
   "metadata": {
    "id": "a6cd8f78"
   },
   "outputs": [],
   "source": [
    "from tqdm.notebook import tqdm\n",
    "import torch.nn.functional as F\n",
    "\n",
    "def train_network(model, train_loader, val_loader, criterion, optimizer, nepoch=100):\n",
    "    try:\n",
    "        for epoch in tqdm(range(nepoch)):\n",
    "            print('EPOCH %d'%epoch)\n",
    "            total_loss = 0\n",
    "            count = 0\n",
    "            for inputs, labels in train_loader:\n",
    "                optimizer.zero_grad()\n",
    "                outputs = model(inputs)\n",
    "                loss = criterion(outputs, labels)\n",
    "                loss.backward()\n",
    "                optimizer.step()\n",
    "                total_loss += loss.item()\n",
    "                count += 1\n",
    "            print('{:>12s} {:>7.5f}'.format('Train loss:', total_loss/count))\n",
    "            with torch.no_grad():\n",
    "                total_loss = 0\n",
    "                count = 0\n",
    "                for inputs, labels in val_loader:\n",
    "                    outputs = model(inputs)\n",
    "                    loss = criterion(outputs, labels)\n",
    "                    total_loss += loss.item()\n",
    "                    count += 1\n",
    "                print('{:>12s} {:>7.5f}'.format('Val loss:', total_loss/count))\n",
    "            print()\n",
    "    except KeyboardInterrupt:\n",
    "        print('Exiting from training early')\n",
    "    return\n",
    "\n",
    "def test_network(model, test_loader):\n",
    "    correct = 0\n",
    "    total = 0\n",
    "    true, pred = [], []\n",
    "    with torch.no_grad():\n",
    "        for inputs, labels  in test_loader:\n",
    "            outputs = model(inputs)\n",
    "            predicted = torch.argmax(outputs, dim=1) # get predicted class label for each test example.\n",
    "            total += labels.size(0)\n",
    "            correct += (predicted == labels).sum().item()\n",
    "            true.append(labels)\n",
    "            pred.append(predicted)\n",
    "    acc = (100 * correct / total)\n",
    "\n",
    "    true = np.concatenate(true)\n",
    "    pred = np.concatenate(pred)\n",
    "    return acc, true, pred"
   ]
  },
  {
   "cell_type": "code",
   "execution_count": 9,
   "id": "3b96d278",
   "metadata": {
    "colab": {
     "referenced_widgets": [
      "6af8eb69180a4899ae85ccbeb5598cad"
     ]
    },
    "id": "3b96d278",
    "outputId": "7c537b36-af50-43cf-806b-2e7d0ff5ba2b"
   },
   "outputs": [
    {
     "data": {
      "application/vnd.jupyter.widget-view+json": {
       "model_id": "1d774d6d6c9d4228a792d9b974889f01",
       "version_major": 2,
       "version_minor": 0
      },
      "text/plain": [
       "  0%|          | 0/10 [00:00<?, ?it/s]"
      ]
     },
     "metadata": {},
     "output_type": "display_data"
    },
    {
     "name": "stdout",
     "output_type": "stream",
     "text": [
      "EPOCH 0\n",
      " Train loss: 1.95049\n",
      "   Val loss: 1.25208\n",
      "\n",
      "EPOCH 1\n",
      " Train loss: 1.11897\n",
      "   Val loss: 1.04646\n",
      "\n",
      "EPOCH 2\n",
      " Train loss: 0.98263\n",
      "   Val loss: 0.94836\n",
      "\n",
      "EPOCH 3\n",
      " Train loss: 0.89565\n",
      "   Val loss: 0.87487\n",
      "\n",
      "EPOCH 4\n",
      " Train loss: 0.82348\n",
      "   Val loss: 0.81060\n",
      "\n",
      "EPOCH 5\n",
      " Train loss: 0.76208\n",
      "   Val loss: 0.75350\n",
      "\n",
      "EPOCH 6\n",
      " Train loss: 0.70946\n",
      "   Val loss: 0.70754\n",
      "\n",
      "EPOCH 7\n",
      " Train loss: 0.66473\n",
      "   Val loss: 0.67009\n",
      "\n",
      "EPOCH 8\n",
      " Train loss: 0.62603\n",
      "   Val loss: 0.63878\n",
      "\n",
      "EPOCH 9\n",
      " Train loss: 0.59349\n",
      "   Val loss: 0.60949\n",
      "\n"
     ]
    }
   ],
   "source": [
    "train_network(model, train_loader, val_loader, criterion, optimizer, nepoch=10)"
   ]
  },
  {
   "cell_type": "code",
   "execution_count": 12,
   "id": "a8c5f5af",
   "metadata": {},
   "outputs": [
    {
     "name": "stdout",
     "output_type": "stream",
     "text": [
      "Test accuracy: 82.495\n"
     ]
    },
    {
     "data": {
      "text/plain": [
       "<matplotlib.colorbar.Colorbar at 0x7f8b285e7a00>"
      ]
     },
     "execution_count": 12,
     "metadata": {},
     "output_type": "execute_result"
    },
    {
     "data": {
      "image/png": "[encoded data removed]",
      "text/plain": [
       "<Figure size 288x288 with 2 Axes>"
      ]
     },
     "metadata": {
      "needs_background": "light"
     },
     "output_type": "display_data"
    }
   ],
   "source": [
    "acc, true, pred = test_network(model, test_loader)\n",
    "print('Test accuracy: %0.3f' % acc)\n",
    "\n",
    "contingency = np.zeros((model.classes, model.classes))\n",
    "for i in range(len(pred)):\n",
    "    contingency[int(pred[i])][int(true[i])] += 1\n",
    "\n",
    "plt.matshow(contingency)\n",
    "plt.xlabel(\"Predicted\")\n",
    "plt.ylabel(\"True\")\n",
    "plt.colorbar()"
   ]
  },
  {
   "cell_type": "markdown",
   "id": "4c9e6896",
   "metadata": {
    "id": "494689c1"
   },
   "source": [
    "## Letter Visualizations"
   ]
  },
  {
   "cell_type": "code",
   "execution_count": null,
   "id": "ac773c12",
   "metadata": {},
   "outputs": [],
   "source": []
  }
 ],
 "metadata": {
  "colab": {
   "name": "letter_recognition.ipynb",
   "provenance": []
  },
  "kernelspec": {
   "display_name": "condaEnv",
   "language": "python",
   "name": "condaenv"
  },
  "language_info": {
   "codemirror_mode": {
    "name": "ipython",
    "version": 3
   },
   "file_extension": ".py",
   "mimetype": "text/x-python",
   "name": "python",
   "nbconvert_exporter": "python",
   "pygments_lexer": "ipython3",
   "version": "3.9.7"
  }
 },
 "nbformat": 4,
 "nbformat_minor": 5
}
