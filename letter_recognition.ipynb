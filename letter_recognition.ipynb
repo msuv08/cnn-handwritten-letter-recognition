{
 "cells": [
  {
   "cell_type": "markdown",
   "id": "21f69704",
   "metadata": {},
   "source": [
    "# CS 342 Final Project - Letter Recognition CNN"
   ]
  },
  {
   "cell_type": "markdown",
   "id": "d1664c6b",
   "metadata": {},
   "source": [
    "Mrityunjay Mishra, Mihir Suvarna, Daniel Sialm"
   ]
  },
  {
   "cell_type": "markdown",
   "id": "f55a6548",
   "metadata": {},
   "source": [
    "## Project Description"
   ]
  },
  {
   "cell_type": "markdown",
   "id": "7f97ac96",
   "metadata": {},
   "source": [
    "This project aims to create a convolutional neural network (CNN) for the task of letter recognition. The task of letter recognition, or more generally speaking, text recognition (also known as optical character recognition, or OCR) has gained much importance in recent years due to emerging applications. For example, OCR software can be used to convert handwritten text into digital text and robots use cameras to read signs in their environment. Due to the increasing importance of the task of text recognition, we aim to create a robust CNN that is able to correctly classify handwritten and digital letters."
   ]
  },
  {
   "cell_type": "code",
   "execution_count": 2,
   "id": "75da0fed",
   "metadata": {},
   "outputs": [],
   "source": [
    "# Run these two blocks to load important libraries and set things up\n",
    "import torch\n",
    "from torch import nn\n",
    "import numpy as np\n",
    "\n",
    "%matplotlib inline\n",
    "import matplotlib.pyplot as plt"
   ]
  },
  {
   "cell_type": "markdown",
   "id": "b1977be9",
   "metadata": {},
   "source": [
    "## Load Dataset"
   ]
  },
  {
   "cell_type": "markdown",
   "id": "89d0599f",
   "metadata": {},
   "source": [
    "### EMNIST Data Set"
   ]
  },
  {
   "cell_type": "code",
   "execution_count": 3,
   "id": "65c076b1",
   "metadata": {},
   "outputs": [
    {
     "name": "stdout",
     "output_type": "stream",
     "text": [
      "Dataset EMNIST\n",
      "    Number of datapoints: 124800\n",
      "    Root location: letterEMNIST\n",
      "    Split: Train\n",
      "    StandardTransform\n",
      "Transform: ToTensor()\n",
      "Dataset EMNIST\n",
      "    Number of datapoints: 20800\n",
      "    Root location: letterEMNIST\n",
      "    Split: Test\n",
      "    StandardTransform\n",
      "Transform: ToTensor()\n"
     ]
    }
   ],
   "source": [
    "from torchvision import datasets, transforms\n",
    "\n",
    "save_dir = 'letterEMNIST'\n",
    "\n",
    "transform = transforms.ToTensor() # Convert the image into a torch tensor.\n",
    "\n",
    "train_set = datasets.EMNIST(save_dir, split=\"letters\", download=True, train=True, transform=transform)\n",
    "test_set = datasets.EMNIST(save_dir, split=\"letters\", download=True, train=False, transform=transform)\n",
    "\n",
    "print(train_set)\n",
    "print(test_set)"
   ]
  },
  {
   "cell_type": "code",
   "execution_count": 4,
   "id": "1cc0f048",
   "metadata": {},
   "outputs": [],
   "source": [
    "from torch.utils.data.sampler import SubsetRandomSampler\n",
    "ntotal = 60000\n",
    "ntrain = int(0.9*ntotal)\n",
    "nval = ntotal - ntrain\n",
    "\n",
    "val_ix = np.random.choice(range(ntotal), size=nval, replace=False)\n",
    "train_ix = list(set(range(ntotal)) - set(val_ix))\n",
    "\n",
    "train_sampler = SubsetRandomSampler(train_ix)\n",
    "val_sampler = SubsetRandomSampler(val_ix)"
   ]
  },
  {
   "cell_type": "code",
   "execution_count": 5,
   "id": "c1c36234",
   "metadata": {},
   "outputs": [],
   "source": [
    "# initialize the data sets\n",
    "batch_size = 64\n",
    "train_loader = torch.utils.data.DataLoader(train_set, batch_size=batch_size, sampler=train_sampler)\n",
    "val_loader = torch.utils.data.DataLoader(train_set, batch_size=batch_size, sampler=val_sampler)\n",
    "test_loader = torch.utils.data.DataLoader(test_set, batch_size=batch_size)"
   ]
  },
  {
   "cell_type": "code",
   "execution_count": 6,
   "id": "bc5266dd",
   "metadata": {},
   "outputs": [
    {
     "name": "stdout",
     "output_type": "stream",
     "text": [
      "['N/A', 'a', 'b', 'c', 'd', 'e', 'f', 'g', 'h', 'i', 'j', 'k', 'l', 'm', 'n', 'o', 'p', 'q', 'r', 's', 't', 'u', 'v', 'w', 'x', 'y', 'z']\n",
      "Label: w\n"
     ]
    },
    {
     "data": {
      "image/png": "[encoded data removed]",
      "text/plain": [
       "<Figure size 432x288 with 1 Axes>"
      ]
     },
     "metadata": {
      "needs_background": "light"
     },
     "output_type": "display_data"
    }
   ],
   "source": [
    "# print classes\n",
    "print(train_set.classes)\n",
    "classes = train_set.classes\n",
    "# print label\n",
    "index = 0\n",
    "plt.imshow(train_set.data[index].T, cmap='Greys_r')\n",
    "print(\"Label: %s\" % train_set.classes[train_set.targets[index]])"
   ]
  },
  {
   "cell_type": "markdown",
   "id": "07941a2b",
   "metadata": {},
   "source": [
    "### Collected Data"
   ]
  },
  {
   "cell_type": "code",
   "execution_count": 90,
   "id": "3286b58c",
   "metadata": {},
   "outputs": [
    {
     "name": "stdout",
     "output_type": "stream",
     "text": [
      "{'a': 0, 'b': 1, 'c': 2, 'd': 3, 'e': 4, 'f': 5, 'g': 6, 'h': 7, 'i': 8, 'j': 9, 'k': 10, 'l': 11, 'm': 12, 'n': 13, 'o': 14, 'p': 15, 'q': 16, 'r': 17, 's': 18, 't': 19, 'u': 20, 'v': 21, 'w': 22, 'x': 23, 'y': 24, 'z': 25}\n"
     ]
    }
   ],
   "source": [
    "letter_to_label = dict()\n",
    "classes_collected = ['a', 'b', 'c', 'd', 'e', 'f', 'g', 'h', 'i', 'j', 'k', 'l', 'm', 'n', 'o', 'p', 'q', 'r', 's', 't', 'u', 'v', 'w', 'x', 'y', 'z']\n",
    "for i in range(len(classes_collected)):\n",
    "    letter_to_label[classes_collected[i]] = i\n",
    "print(letter_to_label)"
   ]
  },
  {
   "cell_type": "code",
   "execution_count": 92,
   "id": "56381d10",
   "metadata": {},
   "outputs": [
    {
     "name": "stdout",
     "output_type": "stream",
     "text": [
      "torch.Size([364, 1, 28, 28])\n",
      "(364,)\n"
     ]
    }
   ],
   "source": [
    "# making a dataset of our data\n",
    "import os\n",
    "import shutil\n",
    "import glob\n",
    "\n",
    "from PIL import Image\n",
    "import torchvision.transforms as transforms\n",
    "\n",
    "transform = transforms.ToTensor()\n",
    "\n",
    "src_dir = 'dataset'\n",
    "imgs = []\n",
    "labels = []\n",
    "for f in glob.glob(os.path.join(src_dir, '*.png')):\n",
    "    ftitle, fext = os.path.splitext(os.path.basename(f))\n",
    "    letter = ftitle.split(\"_\")[1].lower()\n",
    "    labels.append(letter_to_label[letter])\n",
    "    im = Image.open(f).convert('L')\n",
    "    imgs.append(transform(im).detach().numpy())\n",
    "data = torch.tensor(imgs)\n",
    "labels = np.array(labels)\n",
    "\n",
    "print(data.shape)\n",
    "print(labels.shape)"
   ]
  },
  {
   "cell_type": "code",
   "execution_count": 93,
   "id": "f9eb9b45",
   "metadata": {},
   "outputs": [],
   "source": [
    "# shuffling the data\n",
    "ntotal = data.shape[0]\n",
    "ntrain = int(0.7*ntotal)\n",
    "nval = (ntotal - ntrain) // 2\n",
    "\n",
    "indices = torch.randperm(ntotal)\n",
    "data = data[indices]\n",
    "labels = torch.tensor(labels[indices])\n",
    "\n",
    "\n",
    "\n",
    "batch_size = 64\n",
    "train_set_collected = torch.utils.data.TensorDataset(data[:ntrain], labels[:ntrain])\n",
    "val_set_collected = torch.utils.data.TensorDataset(data[ntrain:ntrain+nval], labels[ntrain:ntrain+nval])\n",
    "test_set_collected = torch.utils.data.TensorDataset(data[ntrain+nval:], labels[ntrain+nval:])\n",
    "\n",
    "train_loader_collected = torch.utils.data.DataLoader(train_set_collected, batch_size=batch_size)\n",
    "val_loader_collected = torch.utils.data.DataLoader(val_set_collected, batch_size=batch_size)\n",
    "test_loader_collected = torch.utils.data.DataLoader(test_set_collected, batch_size=batch_size)"
   ]
  },
  {
   "cell_type": "code",
   "execution_count": 94,
   "id": "953353ef",
   "metadata": {},
   "outputs": [
    {
     "name": "stdout",
     "output_type": "stream",
     "text": [
      "['a', 'b', 'c', 'd', 'e', 'f', 'g', 'h', 'i', 'j', 'k', 'l', 'm', 'n', 'o', 'p', 'q', 'r', 's', 't', 'u', 'v', 'w', 'x', 'y', 'z']\n",
      "Label: k\n"
     ]
    },
    {
     "data": {
      "image/png": "[encoded data removed]",
      "text/plain": [
       "<Figure size 432x288 with 1 Axes>"
      ]
     },
     "metadata": {
      "needs_background": "light"
     },
     "output_type": "display_data"
    }
   ],
   "source": [
    "# print classes\n",
    "print(classes_collected)\n",
    "# print label\n",
    "index = 0\n",
    "plt.imshow(data[index].reshape((28, 28)), cmap='Greys_r')\n",
    "print(\"Label: %s\" % classes_collected[labels[index].item()])"
   ]
  },
  {
   "cell_type": "markdown",
   "id": "8840579b",
   "metadata": {},
   "source": [
    "## Testing CNNs"
   ]
  },
  {
   "cell_type": "code",
   "execution_count": 31,
   "id": "a6cd8f78",
   "metadata": {},
   "outputs": [],
   "source": [
    "from tqdm.notebook import tqdm\n",
    "import torch.nn.functional as F\n",
    "\n",
    "def train_network(model, train_loader, val_loader, criterion, optimizer, nepoch=100):\n",
    "    try:\n",
    "        for epoch in tqdm(range(nepoch)):\n",
    "            print('EPOCH %d'%epoch)\n",
    "            total_loss = 0\n",
    "            count = 0\n",
    "            for inputs, labels in train_loader:\n",
    "                optimizer.zero_grad()\n",
    "                outputs = model(inputs)\n",
    "                loss = criterion(outputs, labels)\n",
    "                loss.backward()\n",
    "                optimizer.step()\n",
    "                total_loss += loss.item()\n",
    "                count += 1\n",
    "            print('{:>12s} {:>7.5f}'.format('Train loss:', total_loss/count))\n",
    "            with torch.no_grad():\n",
    "                total_loss = 0\n",
    "                count = 0\n",
    "                for inputs, labels in val_loader:\n",
    "                    outputs = model(inputs)\n",
    "                    loss = criterion(outputs, labels)\n",
    "                    total_loss += loss.item()\n",
    "                    count += 1\n",
    "                print('{:>12s} {:>7.5f}'.format('Val loss:', total_loss/count))\n",
    "            print()\n",
    "    except KeyboardInterrupt:\n",
    "        print('Exiting from training early')\n",
    "    return\n",
    "\n",
    "def test_network(model, test_loader):\n",
    "    correct = 0\n",
    "    total = 0\n",
    "    true, pred = [], []\n",
    "    with torch.no_grad():\n",
    "        for inputs, labels  in test_loader:\n",
    "            outputs = model(inputs)\n",
    "            predicted = torch.argmax(outputs, dim=1) # get predicted class label for each test example.\n",
    "            total += labels.size(0)\n",
    "            correct += (predicted == labels).sum().item()\n",
    "            true.append(labels)\n",
    "            pred.append(predicted)\n",
    "    acc = (100 * correct / total)\n",
    "    true = np.concatenate(true)\n",
    "    pred = np.concatenate(pred)\n",
    "    return acc, true, pred\n",
    "\n",
    "def display_contingency_matrix(num_classes, pred, true):\n",
    "    contingency = np.zeros((num_classes, num_classes))\n",
    "    for i in range(len(pred)):\n",
    "        contingency[int(pred[i])][int(true[i])] += 1\n",
    "\n",
    "    plt.matshow(contingency)\n",
    "    plt.xlabel(\"true\")\n",
    "    plt.ylabel(\"predictions\")\n",
    "    plt.colorbar()"
   ]
  },
  {
   "cell_type": "markdown",
   "id": "9a7c0b3b",
   "metadata": {},
   "source": [
    "### Single Convolution Layer with MaxPool"
   ]
  },
  {
   "cell_type": "code",
   "execution_count": 34,
   "id": "86d642d9",
   "metadata": {},
   "outputs": [],
   "source": [
    "class modelCM(nn.Module):\n",
    "    def __init__(self, classes):\n",
    "        super().__init__()\n",
    "        self.classes = classes\n",
    "        self.layers = nn.Sequential(\n",
    "            nn.Conv2d(in_channels=1, out_channels=8, kernel_size=(5,5), stride=1),\n",
    "            nn.MaxPool2d(kernel_size=(2,2), stride=2),\n",
    "            nn.ReLU(),\n",
    "            nn.Flatten(),\n",
    "            nn.Linear(1152, len(self.classes))\n",
    "        )\n",
    "            \n",
    "\n",
    "    def forward(self, x):\n",
    "        return self.layers(x)"
   ]
  },
  {
   "cell_type": "code",
   "execution_count": 35,
   "id": "82ab2a0d",
   "metadata": {},
   "outputs": [
    {
     "data": {
      "application/vnd.jupyter.widget-view+json": {
       "model_id": "eef6b977b58041219f1e4edc453d224a",
       "version_major": 2,
       "version_minor": 0
      },
      "text/plain": [
       "  0%|          | 0/10 [00:00<?, ?it/s]"
      ]
     },
     "metadata": {},
     "output_type": "display_data"
    },
    {
     "name": "stdout",
     "output_type": "stream",
     "text": [
      "EPOCH 0\n",
      " Train loss: 0.98078\n",
      "   Val loss: 0.58957\n",
      "\n",
      "EPOCH 1\n",
      " Train loss: 0.52378\n",
      "   Val loss: 0.46848\n",
      "\n",
      "EPOCH 2\n",
      " Train loss: 0.43910\n",
      "   Val loss: 0.43008\n",
      "\n",
      "EPOCH 3\n",
      " Train loss: 0.39566\n",
      "   Val loss: 0.40402\n",
      "\n",
      "EPOCH 4\n",
      " Train loss: 0.36528\n",
      "   Val loss: 0.41254\n",
      "\n",
      "EPOCH 5\n",
      " Train loss: 0.34225\n",
      "   Val loss: 0.38645\n",
      "\n",
      "EPOCH 6\n",
      " Train loss: 0.32329\n",
      "   Val loss: 0.38580\n",
      "\n",
      "EPOCH 7\n",
      " Train loss: 0.30687\n",
      "   Val loss: 0.36336\n",
      "\n",
      "EPOCH 8\n",
      " Train loss: 0.29509\n",
      "   Val loss: 0.36017\n",
      "\n",
      "EPOCH 9\n",
      " Train loss: 0.28236\n",
      "   Val loss: 0.35651\n",
      "\n"
     ]
    }
   ],
   "source": [
    "model1 = modelCM(classes)\n",
    "criterion = nn.CrossEntropyLoss()\n",
    "optimizer = torch.optim.Adam(model1.parameters(), lr=.001)\n",
    "train_network(model1, train_loader, val_loader, criterion, optimizer, nepoch=10)"
   ]
  },
  {
   "cell_type": "code",
   "execution_count": 36,
   "id": "494689c1",
   "metadata": {},
   "outputs": [
    {
     "name": "stdout",
     "output_type": "stream",
     "text": [
      "Test accuracy: 88.630\n"
     ]
    },
    {
     "data": {
      "image/png": "[encoded data removed]",
      "text/plain": [
       "<Figure size 288x288 with 2 Axes>"
      ]
     },
     "metadata": {
      "needs_background": "light"
     },
     "output_type": "display_data"
    }
   ],
   "source": [
    "acc, true, pred = test_network(model1, test_loader)\n",
    "print('Test accuracy: %0.3f' % acc)\n",
    "\n",
    "display_contingency_matrix(len(model1.classes), pred, true)"
   ]
  },
  {
   "cell_type": "markdown",
   "id": "8be1b441",
   "metadata": {},
   "source": [
    "### Smaller Kernel Size"
   ]
  },
  {
   "cell_type": "code",
   "execution_count": 75,
   "id": "ea65ac78",
   "metadata": {},
   "outputs": [],
   "source": [
    "class modelCMS(nn.Module):\n",
    "    def __init__(self, classes):\n",
    "        super().__init__()\n",
    "        self.classes = classes\n",
    "        self.layers = nn.Sequential(\n",
    "            nn.Conv2d(in_channels=1, out_channels=8, kernel_size=(3,3), stride=1),\n",
    "            nn.MaxPool2d(kernel_size=(2,2), stride=2),\n",
    "            nn.ReLU(),\n",
    "            nn.Flatten(),\n",
    "            nn.Linear(1352, len(self.classes))\n",
    "        )\n",
    "            \n",
    "\n",
    "    def forward(self, x):\n",
    "        return self.layers(x)"
   ]
  },
  {
   "cell_type": "code",
   "execution_count": 76,
   "id": "1a14c8e2",
   "metadata": {},
   "outputs": [
    {
     "data": {
      "application/vnd.jupyter.widget-view+json": {
       "model_id": "e56d1b1a337c44588e68dc1a7a7ea2f9",
       "version_major": 2,
       "version_minor": 0
      },
      "text/plain": [
       "  0%|          | 0/10 [00:00<?, ?it/s]"
      ]
     },
     "metadata": {},
     "output_type": "display_data"
    },
    {
     "name": "stdout",
     "output_type": "stream",
     "text": [
      "EPOCH 0\n",
      " Train loss: 1.17019\n",
      "   Val loss: 0.87196\n",
      "\n",
      "EPOCH 1\n",
      " Train loss: 0.75781\n",
      "   Val loss: 0.66895\n",
      "\n",
      "EPOCH 2\n",
      " Train loss: 0.60232\n",
      "   Val loss: 0.55976\n",
      "\n",
      "EPOCH 3\n",
      " Train loss: 0.52092\n",
      "   Val loss: 0.50821\n",
      "\n",
      "EPOCH 4\n",
      " Train loss: 0.46934\n",
      "   Val loss: 0.48267\n",
      "\n",
      "EPOCH 5\n",
      " Train loss: 0.43284\n",
      "   Val loss: 0.46089\n",
      "\n",
      "EPOCH 6\n",
      " Train loss: 0.40675\n",
      "   Val loss: 0.43168\n",
      "\n",
      "EPOCH 7\n",
      " Train loss: 0.38466\n",
      "   Val loss: 0.42446\n",
      "\n",
      "EPOCH 8\n",
      " Train loss: 0.36922\n",
      "   Val loss: 0.42302\n",
      "\n",
      "EPOCH 9\n",
      " Train loss: 0.35414\n",
      "   Val loss: 0.41236\n",
      "\n"
     ]
    }
   ],
   "source": [
    "model1s = modelCMS(classes)\n",
    "criterion = nn.CrossEntropyLoss()\n",
    "optimizer = torch.optim.Adam(model1s.parameters(), lr=.001)\n",
    "train_network(model1s, train_loader, val_loader, criterion, optimizer, nepoch=10)"
   ]
  },
  {
   "cell_type": "code",
   "execution_count": 77,
   "id": "f5d1cfe1",
   "metadata": {},
   "outputs": [
    {
     "name": "stdout",
     "output_type": "stream",
     "text": [
      "Test accuracy: 87.226\n"
     ]
    },
    {
     "data": {
      "image/png": "[encoded data removed]",
      "text/plain": [
       "<Figure size 288x288 with 2 Axes>"
      ]
     },
     "metadata": {
      "needs_background": "light"
     },
     "output_type": "display_data"
    }
   ],
   "source": [
    "acc, true, pred = test_network(model1s, test_loader)\n",
    "print('Test accuracy: %0.3f' % acc)\n",
    "\n",
    "display_contingency_matrix(len(model1s.classes), pred, true)"
   ]
  },
  {
   "cell_type": "markdown",
   "id": "d10205d8",
   "metadata": {},
   "source": [
    "### Double Convolution Layer with MaxPool"
   ]
  },
  {
   "cell_type": "code",
   "execution_count": 45,
   "id": "5d4dc8c9",
   "metadata": {},
   "outputs": [],
   "source": [
    "class modelCMCM(nn.Module):\n",
    "    def __init__(self, classes):\n",
    "        super().__init__()\n",
    "        self.classes = classes\n",
    "        self.layers = nn.Sequential(\n",
    "            nn.Conv2d(in_channels=1, out_channels=8, kernel_size=(5,5), stride=1),\n",
    "            nn.MaxPool2d(kernel_size=(2,2), stride=2),\n",
    "            nn.ReLU(),\n",
    "            nn.Conv2d(in_channels=8, out_channels=64, kernel_size=(5,5), stride=1),\n",
    "            nn.MaxPool2d(kernel_size=(2,2), stride=2),\n",
    "            nn.ReLU(),\n",
    "            nn.Flatten(),\n",
    "            nn.Linear(1024, len(self.classes))\n",
    "        )\n",
    "            \n",
    "\n",
    "    def forward(self, x):\n",
    "        return self.layers(x)"
   ]
  },
  {
   "cell_type": "code",
   "execution_count": 46,
   "id": "b2dde111",
   "metadata": {},
   "outputs": [
    {
     "data": {
      "application/vnd.jupyter.widget-view+json": {
       "model_id": "a9e1c0e1c0dd46888bbcafd9635283b7",
       "version_major": 2,
       "version_minor": 0
      },
      "text/plain": [
       "  0%|          | 0/10 [00:00<?, ?it/s]"
      ]
     },
     "metadata": {},
     "output_type": "display_data"
    },
    {
     "name": "stdout",
     "output_type": "stream",
     "text": [
      "EPOCH 0\n",
      " Train loss: 0.77006\n",
      "   Val loss: 0.41445\n",
      "\n",
      "EPOCH 1\n",
      " Train loss: 0.36632\n",
      "   Val loss: 0.32226\n",
      "\n",
      "EPOCH 2\n",
      " Train loss: 0.29433\n",
      "   Val loss: 0.28229\n",
      "\n",
      "EPOCH 3\n",
      " Train loss: 0.25509\n",
      "   Val loss: 0.27285\n",
      "\n",
      "EPOCH 4\n",
      " Train loss: 0.22714\n",
      "   Val loss: 0.26959\n",
      "\n",
      "EPOCH 5\n",
      " Train loss: 0.20399\n",
      "   Val loss: 0.25221\n",
      "\n",
      "EPOCH 6\n",
      " Train loss: 0.18908\n",
      "   Val loss: 0.25285\n",
      "\n",
      "EPOCH 7\n",
      " Train loss: 0.17471\n",
      "   Val loss: 0.24559\n",
      "\n",
      "EPOCH 8\n",
      " Train loss: 0.16109\n",
      "   Val loss: 0.25757\n",
      "\n",
      "EPOCH 9\n",
      " Train loss: 0.15092\n",
      "   Val loss: 0.25095\n",
      "\n"
     ]
    }
   ],
   "source": [
    "model2 = modelCMCM(classes)\n",
    "criterion = nn.CrossEntropyLoss()\n",
    "optimizer = torch.optim.Adam(model2.parameters(), lr=.001)\n",
    "train_network(model2, train_loader, val_loader, criterion, optimizer, nepoch=10)"
   ]
  },
  {
   "cell_type": "code",
   "execution_count": 47,
   "id": "6fe90fd9",
   "metadata": {},
   "outputs": [
    {
     "name": "stdout",
     "output_type": "stream",
     "text": [
      "Test accuracy: 91.731\n"
     ]
    },
    {
     "data": {
      "image/png": "[encoded data removed]",
      "text/plain": [
       "<Figure size 288x288 with 2 Axes>"
      ]
     },
     "metadata": {
      "needs_background": "light"
     },
     "output_type": "display_data"
    }
   ],
   "source": [
    "acc, true, pred = test_network(model2, test_loader)\n",
    "print('Test accuracy: %0.3f' % acc)\n",
    "\n",
    "display_contingency_matrix(len(model2.classes), pred, true)"
   ]
  },
  {
   "cell_type": "markdown",
   "id": "2fe31660",
   "metadata": {},
   "source": [
    "### Single Convolution Network with Average Pool"
   ]
  },
  {
   "cell_type": "code",
   "execution_count": 50,
   "id": "471e4b72",
   "metadata": {},
   "outputs": [],
   "source": [
    "class modelCA(nn.Module):\n",
    "    def __init__(self, classes):\n",
    "        super().__init__()\n",
    "        self.classes = classes\n",
    "        self.layers = nn.Sequential(\n",
    "            nn.Conv2d(in_channels=1, out_channels=8, kernel_size=(5,5), stride=1),\n",
    "            nn.AvgPool2d(kernel_size=(2,2), stride=2),\n",
    "            nn.ReLU(),\n",
    "            nn.Flatten(),\n",
    "            nn.Linear(1152, len(self.classes))\n",
    "        )\n",
    "            \n",
    "\n",
    "    def forward(self, x):\n",
    "        return self.layers(x)"
   ]
  },
  {
   "cell_type": "code",
   "execution_count": 51,
   "id": "501cb00b",
   "metadata": {},
   "outputs": [
    {
     "data": {
      "application/vnd.jupyter.widget-view+json": {
       "model_id": "1b4359a56a4d416486d519e33813f1f4",
       "version_major": 2,
       "version_minor": 0
      },
      "text/plain": [
       "  0%|          | 0/10 [00:00<?, ?it/s]"
      ]
     },
     "metadata": {},
     "output_type": "display_data"
    },
    {
     "name": "stdout",
     "output_type": "stream",
     "text": [
      "EPOCH 0\n",
      " Train loss: 1.03406\n",
      "   Val loss: 0.67501\n",
      "\n",
      "EPOCH 1\n",
      " Train loss: 0.58105\n",
      "   Val loss: 0.50578\n",
      "\n",
      "EPOCH 2\n",
      " Train loss: 0.46979\n",
      "   Val loss: 0.44624\n",
      "\n",
      "EPOCH 3\n",
      " Train loss: 0.41805\n",
      "   Val loss: 0.42677\n",
      "\n",
      "EPOCH 4\n",
      " Train loss: 0.38483\n",
      "   Val loss: 0.40216\n",
      "\n",
      "EPOCH 5\n",
      " Train loss: 0.36400\n",
      "   Val loss: 0.39014\n",
      "\n",
      "EPOCH 6\n",
      " Train loss: 0.34545\n",
      "   Val loss: 0.39620\n",
      "\n",
      "EPOCH 7\n",
      " Train loss: 0.33108\n",
      "   Val loss: 0.38203\n",
      "\n",
      "EPOCH 8\n",
      " Train loss: 0.31981\n",
      "   Val loss: 0.37706\n",
      "\n",
      "EPOCH 9\n",
      " Train loss: 0.30758\n",
      "   Val loss: 0.37701\n",
      "\n"
     ]
    }
   ],
   "source": [
    "model3 = modelCA(classes)\n",
    "criterion = nn.CrossEntropyLoss()\n",
    "optimizer = torch.optim.Adam(model3.parameters(), lr=.001)\n",
    "train_network(model3, train_loader, val_loader, criterion, optimizer, nepoch=10)"
   ]
  },
  {
   "cell_type": "code",
   "execution_count": 52,
   "id": "0be8f94b",
   "metadata": {},
   "outputs": [
    {
     "name": "stdout",
     "output_type": "stream",
     "text": [
      "Test accuracy: 87.885\n"
     ]
    },
    {
     "data": {
      "image/png": "[encoded data removed]",
      "text/plain": [
       "<Figure size 288x288 with 2 Axes>"
      ]
     },
     "metadata": {
      "needs_background": "light"
     },
     "output_type": "display_data"
    }
   ],
   "source": [
    "acc, true, pred = test_network(model3, test_loader)\n",
    "print('Test accuracy: %0.3f' % acc)\n",
    "\n",
    "display_contingency_matrix(len(model3.classes), pred, true)"
   ]
  },
  {
   "cell_type": "markdown",
   "id": "09a4aa03",
   "metadata": {},
   "source": [
    "## Visualizing Optimized Inputs"
   ]
  },
  {
   "cell_type": "code",
   "execution_count": 53,
   "id": "68965e5a",
   "metadata": {},
   "outputs": [],
   "source": [
    "class OptimizeInput(nn.Module):\n",
    "    def __init__(self, learned_model, input_shape=(1, 1, 28, 28)):\n",
    "        super().__init__()\n",
    "        self.learned_model = learned_model\n",
    "        self.optimized_input = torch.zeros(input_shape, requires_grad=True)\n",
    "        \n",
    "    def forward(self):\n",
    "        return self.learned_model(self.optimized_input)\n",
    "    \n",
    "    def parameters(self):\n",
    "        return [self.optimized_input]"
   ]
  },
  {
   "cell_type": "code",
   "execution_count": 104,
   "id": "cb3cce1a",
   "metadata": {},
   "outputs": [],
   "source": [
    "# Given model, get optimized input for each character\n",
    "def get_optimized_inputs(model, nepochs = 10000):\n",
    "    targets = torch.arange(len(model.classes)).long()\n",
    "    optimized_inputs = {}\n",
    "\n",
    "    for t in targets:\n",
    "        # train input\n",
    "        input_model = OptimizeInput(model)\n",
    "        optimizer = torch.optim.Adam(input_model.parameters(), lr=.01)\n",
    "        criterion = nn.CrossEntropyLoss()\n",
    "        for epoch in range(nepochs):\n",
    "            optimizer.zero_grad()\n",
    "            outputs = input_model()\n",
    "            loss = criterion(outputs, t.reshape(1))\n",
    "            loss.backward()\n",
    "            optimizer.step()\n",
    "        print(\"finished %s with %0.5f loss\" % (model.classes[t], loss.item()), end = \"\\t\")\n",
    "        optimized_inputs[model.classes[t]] = input_model.optimized_input.detach().numpy().reshape((28, 28))\n",
    "        \n",
    "        # test input\n",
    "        tensor = torch.Tensor(optimized_inputs[model.classes[t]].reshape(1, 1, 28, 28))\n",
    "        with torch.no_grad():\n",
    "            output = model(tensor)\n",
    "        prob = output.squeeze().detach().numpy()\n",
    "        pred = model.classes[torch.argmax(output, dim=1)]\n",
    "        print(f\"Expected: {model.classes[t]}. Predicted: {pred}.\")\n",
    "    return optimized_inputs"
   ]
  },
  {
   "cell_type": "code",
   "execution_count": 105,
   "id": "9b14cf50",
   "metadata": {},
   "outputs": [
    {
     "name": "stdout",
     "output_type": "stream",
     "text": [
      "finished N/A with 0.30625 loss\tExpected: N/A. Predicted: N/A.\n",
      "finished a with 0.00019 loss\tExpected: a. Predicted: a.\n",
      "finished b with 0.00020 loss\tExpected: b. Predicted: b.\n",
      "finished c with 0.00013 loss\tExpected: c. Predicted: c.\n",
      "finished d with 0.00023 loss\tExpected: d. Predicted: d.\n",
      "finished e with 0.00016 loss\tExpected: e. Predicted: e.\n",
      "finished f with 0.00009 loss\tExpected: f. Predicted: f.\n",
      "finished g with 0.00018 loss\tExpected: g. Predicted: g.\n",
      "finished h with 0.00012 loss\tExpected: h. Predicted: h.\n",
      "finished i with 0.00016 loss\tExpected: i. Predicted: i.\n",
      "finished j with 0.00014 loss\tExpected: j. Predicted: j.\n",
      "finished k with 0.00015 loss\tExpected: k. Predicted: k.\n",
      "finished l with 0.00027 loss\tExpected: l. Predicted: l.\n",
      "finished m with 0.00011 loss\tExpected: m. Predicted: m.\n",
      "finished n with 0.00017 loss\tExpected: n. Predicted: n.\n",
      "finished o with 0.00032 loss\tExpected: o. Predicted: o.\n",
      "finished p with 0.00011 loss\tExpected: p. Predicted: p.\n",
      "finished q with 0.00011 loss\tExpected: q. Predicted: q.\n",
      "finished r with 0.00014 loss\tExpected: r. Predicted: r.\n",
      "finished s with 0.00009 loss\tExpected: s. Predicted: s.\n",
      "finished t with 0.00013 loss\tExpected: t. Predicted: t.\n",
      "finished u with 0.00019 loss\tExpected: u. Predicted: u.\n",
      "finished v with 0.00020 loss\tExpected: v. Predicted: v.\n",
      "finished w with 0.00013 loss\tExpected: w. Predicted: w.\n",
      "finished x with 0.00020 loss\tExpected: x. Predicted: x.\n",
      "finished y with 0.00009 loss\tExpected: y. Predicted: y.\n",
      "finished z with 0.00013 loss\tExpected: z. Predicted: z.\n"
     ]
    }
   ],
   "source": [
    "optimized_inputs = get_optimized_inputs(model2, nepochs=1000)"
   ]
  },
  {
   "cell_type": "code",
   "execution_count": 109,
   "id": "8be3ac67",
   "metadata": {},
   "outputs": [
    {
     "data": {
      "text/plain": [
       "<matplotlib.image.AxesImage at 0x7f98f1356220>"
      ]
     },
     "execution_count": 109,
     "metadata": {},
     "output_type": "execute_result"
    },
    {
     "data": {
      "image/png": "[encoded data removed]",
      "text/plain": [
       "<Figure size 432x288 with 1 Axes>"
      ]
     },
     "metadata": {
      "needs_background": "light"
     },
     "output_type": "display_data"
    }
   ],
   "source": [
    "letter = 'b'\n",
    "letter_visualized = optimized_inputs[letter].T\n",
    "plt.imshow(letter_visualized, cmap='Greys_r')"
   ]
  },
  {
   "cell_type": "code",
   "execution_count": null,
   "id": "5bc6e3a3",
   "metadata": {},
   "outputs": [],
   "source": []
  }
 ],
 "metadata": {
  "kernelspec": {
   "display_name": "condaEnv",
   "language": "python",
   "name": "condaenv"
  },
  "language_info": {
   "codemirror_mode": {
    "name": "ipython",
    "version": 3
   },
   "file_extension": ".py",
   "mimetype": "text/x-python",
   "name": "python",
   "nbconvert_exporter": "python",
   "pygments_lexer": "ipython3",
   "version": "3.9.7"
  }
 },
 "nbformat": 4,
 "nbformat_minor": 5
}
