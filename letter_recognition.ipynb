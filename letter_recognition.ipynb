{
  "cells": [
    {
      "cell_type": "code",
      "execution_count": null,
      "id": "75da0fed",
      "metadata": {
        "id": "75da0fed"
      },
      "outputs": [],
      "source": [
        "# Run these two blocks to load important libraries and set things up\n",
        "import torch\n",
        "from torch import nn\n",
        "import numpy as np\n",
        "\n",
        "%matplotlib inline\n",
        "import matplotlib.pyplot as plt"
      ]
    },
    {
      "cell_type": "markdown",
      "id": "b1977be9",
      "metadata": {
        "id": "b1977be9"
      },
      "source": [
        "## Load Dataset"
      ]
    },
    {
      "cell_type": "code",
      "execution_count": null,
      "id": "65c076b1",
      "metadata": {
        "id": "65c076b1",
        "outputId": "989bdb93-c7e9-44e8-dee4-dbe6ce00df80"
      },
      "outputs": [
        {
          "name": "stdout",
          "output_type": "stream",
          "text": [
            "Dataset EMNIST\n",
            "    Number of datapoints: 124800\n",
            "    Root location: letterEMNIST\n",
            "    Split: Train\n",
            "    StandardTransform\n",
            "Transform: ToTensor()\n",
            "Dataset EMNIST\n",
            "    Number of datapoints: 20800\n",
            "    Root location: letterEMNIST\n",
            "    Split: Test\n",
            "    StandardTransform\n",
            "Transform: ToTensor()\n"
          ]
        }
      ],
      "source": [
        "from torchvision import datasets, transforms\n",
        "\n",
        "save_dir = 'letterEMNIST'\n",
        "\n",
        "transform = transforms.ToTensor() # Convert the image into a torch tensor.\n",
        "\n",
        "train_set = datasets.EMNIST(save_dir, split=\"letters\", download=True, train=True, transform=transform)\n",
        "test_set = datasets.EMNIST(save_dir, split=\"letters\", download=True, train=False, transform=transform)\n",
        "\n",
        "print(train_set)\n",
        "print(test_set)"
      ]
    },
    {
      "cell_type": "code",
      "execution_count": null,
      "id": "1cc0f048",
      "metadata": {
        "id": "1cc0f048"
      },
      "outputs": [],
      "source": [
        "from torch.utils.data.sampler import SubsetRandomSampler\n",
        "ntotal = 60000\n",
        "ntrain = int(0.9*ntotal)\n",
        "nval = ntotal - ntrain\n",
        "\n",
        "val_ix = np.random.choice(range(ntotal), size=nval, replace=False)\n",
        "train_ix = list(set(range(ntotal)) - set(val_ix))\n",
        "\n",
        "train_sampler = SubsetRandomSampler(train_ix)\n",
        "val_sampler = SubsetRandomSampler(val_ix)"
      ]
    },
    {
      "cell_type": "code",
      "execution_count": null,
      "id": "c1c36234",
      "metadata": {
        "id": "c1c36234"
      },
      "outputs": [],
      "source": [
        "# initialize the data sets\n",
        "batch_size = 64\n",
        "train_loader = torch.utils.data.DataLoader(train_set, batch_size=batch_size, sampler=train_sampler)\n",
        "val_loader = torch.utils.data.DataLoader(train_set, batch_size=batch_size, sampler=val_sampler)\n",
        "test_loader = torch.utils.data.DataLoader(test_set, batch_size=batch_size)"
      ]
    },
    {
      "cell_type": "code",
      "execution_count": null,
      "id": "bc5266dd",
      "metadata": {
        "id": "bc5266dd",
        "outputId": "9bc2c87b-fde8-4396-d122-6a337ba7a67c"
      },
      "outputs": [
        {
          "name": "stdout",
          "output_type": "stream",
          "text": [
            "['N/A', 'a', 'b', 'c', 'd', 'e', 'f', 'g', 'h', 'i', 'j', 'k', 'l', 'm', 'n', 'o', 'p', 'q', 'r', 's', 't', 'u', 'v', 'w', 'x', 'y', 'z']\n",
            "['N/A', 'a', 'b', 'c', 'd', 'e', 'f', 'g', 'h', 'i', 'j', 'k', 'l', 'm', 'n', 'o', 'p', 'q', 'r', 's', 't', 'u', 'v', 'w', 'x', 'y', 'z']\n",
            "27\n",
            "Label: c\n"
          ]
        },
        {
          "data": {
            "image/png": "[encoded data removed]",
            "text/plain": [
              "<Figure size 432x288 with 1 Axes>"
            ]
          },
          "metadata": {
            "needs_background": "light"
          },
          "output_type": "display_data"
        }
      ],
      "source": [
        "# print classes\n",
        "print(train_set.classes)\n",
        "print(test_set.classes)\n",
        "# print label\n",
        "index = 50\n",
        "plt.imshow(train_set.data[index].T, cmap='Greys_r')\n",
        "print(\"Label: %s\" % train_set.classes[train_set.targets[index]])"
      ]
    },
    {
      "cell_type": "markdown",
      "id": "8840579b",
      "metadata": {
        "id": "8840579b"
      },
      "source": [
        "## Create the CNN"
      ]
    },
    {
      "cell_type": "code",
      "execution_count": null,
      "id": "86d642d9",
      "metadata": {
        "id": "86d642d9"
      },
      "outputs": [],
      "source": [
        "# inputs are 28x28\n",
        "\n",
        "class letterMLP(nn.Module):\n",
        "    def __init__(self, num_letters):\n",
        "        super().__init__()\n",
        "        self.layers = nn.Sequential(\n",
        "            nn.Conv2d(in_channels=1, out_channels=8, kernel_size=(5,5), stride=1),\n",
        "            nn.MaxPool2d(kernel_size=(2,2), stride=2),\n",
        "            nn.ReLU(),\n",
        "            nn.Flatten(),\n",
        "            nn.Linear(1152, num_letters)\n",
        "        )\n",
        "            \n",
        "\n",
        "    def forward(self, x):\n",
        "        return self.layers(x)"
      ]
    },
    {
      "cell_type": "code",
      "execution_count": null,
      "id": "82ab2a0d",
      "metadata": {
        "id": "82ab2a0d"
      },
      "outputs": [],
      "source": [
        "model = letterMLP(len(train_set.classes))\n",
        "criterion = nn.CrossEntropyLoss()\n",
        "optimizer = torch.optim.Adam(model.parameters(), lr=.0001)"
      ]
    },
    {
      "cell_type": "code",
      "execution_count": null,
      "id": "a6cd8f78",
      "metadata": {
        "id": "a6cd8f78"
      },
      "outputs": [],
      "source": [
        "from tqdm.notebook import tqdm\n",
        "import torch.nn.functional as F\n",
        "\n",
        "def train_network(model, train_loader, val_loader, criterion, optimizer, nepoch=100):\n",
        "    try:\n",
        "        for epoch in tqdm(range(nepoch)):\n",
        "            print('EPOCH %d'%epoch)\n",
        "            total_loss = 0\n",
        "            count = 0\n",
        "            for inputs, labels in train_loader:\n",
        "                optimizer.zero_grad()\n",
        "                outputs = model(inputs)\n",
        "                loss = criterion(outputs, labels)\n",
        "                loss.backward()\n",
        "                optimizer.step()\n",
        "                total_loss += loss.item()\n",
        "                count += 1\n",
        "            print('{:>12s} {:>7.5f}'.format('Train loss:', total_loss/count))\n",
        "            with torch.no_grad():\n",
        "                total_loss = 0\n",
        "                count = 0\n",
        "                for inputs, labels in val_loader:\n",
        "                    outputs = model(inputs)\n",
        "                    loss = criterion(outputs, labels)\n",
        "                    total_loss += loss.item()\n",
        "                    count += 1\n",
        "                print('{:>12s} {:>7.5f}'.format('Val loss:', total_loss/count))\n",
        "            print()\n",
        "    except KeyboardInterrupt:\n",
        "        print('Exiting from training early')\n",
        "    return\n",
        "\n",
        "def test_network(model, test_loader, mode):\n",
        "    correct = 0\n",
        "    total = 0\n",
        "    true, pred = [], []\n",
        "    with torch.no_grad():\n",
        "        for inputs, labels  in test_loader:\n",
        "            outputs = model(inputs)\n",
        "            predicted = torch.argmax(outputs, dim=1) # get predicted class label for each test example.\n",
        "            total += labels.size(0)\n",
        "            correct += (predicted == labels).sum().item()\n",
        "            true.append(labels)\n",
        "            pred.append(predicted)\n",
        "    acc = (100 * correct / total)\n",
        "    print('%s accuracy: %0.3f' % (mode, acc))\n",
        "    true = np.concatenate(true)\n",
        "    pred = np.concatenate(pred)\n",
        "    return acc, true, pred"
      ]
    },
    {
      "cell_type": "code",
      "execution_count": null,
      "id": "3b96d278",
      "metadata": {
        "id": "3b96d278",
        "outputId": "7c537b36-af50-43cf-806b-2e7d0ff5ba2b",
        "colab": {
          "referenced_widgets": [
            "6af8eb69180a4899ae85ccbeb5598cad"
          ]
        }
      },
      "outputs": [
        {
          "data": {
            "application/vnd.jupyter.widget-view+json": {
              "model_id": "6af8eb69180a4899ae85ccbeb5598cad",
              "version_major": 2,
              "version_minor": 0
            },
            "text/plain": [
              "  0%|          | 0/10 [00:00<?, ?it/s]"
            ]
          },
          "metadata": {},
          "output_type": "display_data"
        },
        {
          "name": "stdout",
          "output_type": "stream",
          "text": [
            "EPOCH 0\n",
            " Train loss: 1.10699\n",
            "   Val loss: 1.07726\n",
            "\n",
            "EPOCH 1\n",
            " Train loss: 1.05437\n",
            "   Val loss: 1.03418\n",
            "\n",
            "EPOCH 2\n",
            " Train loss: 1.00937\n",
            "   Val loss: 0.99670\n",
            "\n",
            "EPOCH 3\n",
            " Train loss: 0.96436\n",
            "   Val loss: 0.94720\n",
            "\n",
            "EPOCH 4\n",
            " Train loss: 0.91689\n",
            "   Val loss: 0.90540\n",
            "\n",
            "EPOCH 5\n",
            " Train loss: 0.86844\n",
            "   Val loss: 0.85864\n",
            "\n",
            "EPOCH 6\n",
            " Train loss: 0.82039\n",
            "   Val loss: 0.81343\n",
            "\n",
            "EPOCH 7\n",
            " Train loss: 0.77538\n",
            "   Val loss: 0.77373\n",
            "\n",
            "EPOCH 8\n",
            " Train loss: 0.73130\n",
            "   Val loss: 0.73825\n",
            "\n",
            "EPOCH 9\n",
            " Train loss: 0.69233\n",
            "   Val loss: 0.69559\n",
            "\n",
            "Test accuracy: 80.139\n"
          ]
        }
      ],
      "source": [
        "train_network(model, train_loader, val_loader, criterion, optimizer, nepoch=10)\n",
        "acc, true, pred = test_network(model, test_loader, \"Test\")"
      ]
    },
    {
      "cell_type": "code",
      "execution_count": null,
      "id": "494689c1",
      "metadata": {
        "id": "494689c1"
      },
      "outputs": [],
      "source": [
        ""
      ]
    }
  ],
  "metadata": {
    "kernelspec": {
      "display_name": "condaEnv",
      "language": "python",
      "name": "condaenv"
    },
    "language_info": {
      "codemirror_mode": {
        "name": "ipython",
        "version": 3
      },
      "file_extension": ".py",
      "mimetype": "text/x-python",
      "name": "python",
      "nbconvert_exporter": "python",
      "pygments_lexer": "ipython3",
      "version": "3.9.7"
    },
    "colab": {
      "name": "letter_recognition.ipynb",
      "provenance": []
    }
  },
  "nbformat": 4,
  "nbformat_minor": 5
}